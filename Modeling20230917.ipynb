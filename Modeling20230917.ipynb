{
  "cells": [
    {
      "cell_type": "markdown",
      "metadata": {
        "id": "view-in-github",
        "colab_type": "text"
      },
      "source": [
        "<a href=\"https://colab.research.google.com/github/skywalker0803r/SCR/blob/main/Modeling20230917.ipynb\" target=\"_parent\"><img src=\"https://colab.research.google.com/assets/colab-badge.svg\" alt=\"Open In Colab\"/></a>"
      ]
    },
    {
      "cell_type": "code",
      "source": [
        "from google.colab import drive\n",
        "drive.mount('/content/drive')"
      ],
      "metadata": {
        "id": "gZSjFXDz8h7e",
        "outputId": "bd30c6a1-b78a-4487-9311-c118e02adb32",
        "colab": {
          "base_uri": "https://localhost:8080/"
        }
      },
      "execution_count": 1,
      "outputs": [
        {
          "output_type": "stream",
          "name": "stdout",
          "text": [
            "Mounted at /content/drive\n"
          ]
        }
      ]
    },
    {
      "cell_type": "code",
      "execution_count": 2,
      "metadata": {
        "id": "lGoj9pl8IYn2"
      },
      "outputs": [],
      "source": [
        "import torch\n",
        "import torch.nn as nn\n",
        "import numpy as np\n",
        "from torch.optim import Adam\n",
        "import pandas as pd\n",
        "from torch.utils.data import TensorDataset,DataLoader\n",
        "from torch import FloatTensor"
      ]
    },
    {
      "cell_type": "markdown",
      "source": [
        "# data"
      ],
      "metadata": {
        "id": "dGgbbrzp_Fh3"
      }
    },
    {
      "cell_type": "code",
      "execution_count": 3,
      "metadata": {
        "id": "lzfun588Iuzo"
      },
      "outputs": [],
      "source": [
        "import joblib\n",
        "test_data = joblib.load('/content/drive/MyDrive/SCR/test_dataset.pkl')\n",
        "data = joblib.load('/content/drive/MyDrive/SCR/train_dataset.pkl')"
      ]
    },
    {
      "cell_type": "markdown",
      "source": [
        "# B,T,F\n"
      ],
      "metadata": {
        "id": "5x7Xv5CE_Nub"
      }
    },
    {
      "cell_type": "code",
      "execution_count": 4,
      "metadata": {
        "colab": {
          "base_uri": "https://localhost:8080/"
        },
        "id": "wY7pAqEKLVTp",
        "outputId": "18eca9b2-12dd-450e-d396-ab14fa26a223"
      },
      "outputs": [
        {
          "output_type": "execute_result",
          "data": {
            "text/plain": [
              "(47275, 10, 35)"
            ]
          },
          "metadata": {},
          "execution_count": 4
        }
      ],
      "source": [
        "data['state'].shape"
      ]
    },
    {
      "cell_type": "code",
      "execution_count": 5,
      "metadata": {
        "colab": {
          "base_uri": "https://localhost:8080/"
        },
        "id": "v3XGdjpRRyA5",
        "outputId": "19b64901-4639-45ca-8633-e9689dd0ef57"
      },
      "outputs": [
        {
          "output_type": "execute_result",
          "data": {
            "text/plain": [
              "(47275, 10)"
            ]
          },
          "metadata": {},
          "execution_count": 5
        }
      ],
      "source": [
        "data['action'].shape"
      ]
    },
    {
      "cell_type": "markdown",
      "source": [
        "#  B,T,F\n"
      ],
      "metadata": {
        "id": "Bgezsetl_Q_F"
      }
    },
    {
      "cell_type": "code",
      "execution_count": 6,
      "metadata": {
        "colab": {
          "base_uri": "https://localhost:8080/"
        },
        "id": "v5N10o9PEbvi",
        "outputId": "645f15e4-14bd-4bce-cedf-70e4cc93a291"
      },
      "outputs": [
        {
          "output_type": "execute_result",
          "data": {
            "text/plain": [
              "(47275, 10, 1)"
            ]
          },
          "metadata": {},
          "execution_count": 6
        }
      ],
      "source": [
        "data['action'] = data['action'].reshape(-1,data['action'].shape[-1],1)\n",
        "data['action'].shape"
      ]
    },
    {
      "cell_type": "markdown",
      "source": [
        "#  B,F\n"
      ],
      "metadata": {
        "id": "T8s0UY5c_S29"
      }
    },
    {
      "cell_type": "code",
      "execution_count": 7,
      "metadata": {
        "colab": {
          "base_uri": "https://localhost:8080/"
        },
        "id": "Ykf8z30xRzmi",
        "outputId": "525e7893-746a-4094-e18d-b0d409d8ad5f"
      },
      "outputs": [
        {
          "output_type": "execute_result",
          "data": {
            "text/plain": [
              "(47275, 1)"
            ]
          },
          "metadata": {},
          "execution_count": 7
        }
      ],
      "source": [
        "data['value'].shape"
      ]
    },
    {
      "cell_type": "code",
      "execution_count": 8,
      "metadata": {
        "id": "ZCXDKTsRIt08"
      },
      "outputs": [],
      "source": [
        "data_size = len(data['value'])\n",
        "batch_size = 128\n",
        "hidden_size = 128\n",
        "request_size = 1 # 需求產出\n",
        "state_size = data['state'].shape[-1]\n",
        "value_size = data['value'].shape[-1] # 實際產出\n",
        "action_size = data['action'].shape[-1]  #可控制器數量\n",
        "time_step = 10 #時間窗格"
      ]
    },
    {
      "cell_type": "code",
      "execution_count": 9,
      "metadata": {
        "id": "H1dEIPwsLvQj"
      },
      "outputs": [],
      "source": [
        "d = {}\n",
        "d['state'] = FloatTensor(data['state'])\n",
        "d['action'] = FloatTensor(data['action'])\n",
        "d['value'] = FloatTensor(data['value'])\n",
        "d['request'] = FloatTensor(torch.rand(data_size,request_size))#uniform distribution\n",
        "d = TensorDataset(d['state'],d['request'],d['action'],d['value'])\n",
        "train_iter = DataLoader(d,batch_size,shuffle=True)"
      ]
    },
    {
      "cell_type": "code",
      "execution_count": 10,
      "metadata": {
        "id": "DcRvsj3UL4JC"
      },
      "outputs": [],
      "source": [
        "class R2D2(nn.Module):\n",
        "  def __init__(self,obs_size,n_actions,hidden_size):\n",
        "    super().__init__()\n",
        "    self.hidden_size = hidden_size\n",
        "    self.l1 = nn.Linear(obs_size,self.hidden_size)\n",
        "    self.l2 = nn.LSTMCell(self.hidden_size,self.hidden_size)\n",
        "    self.l3 = nn.Linear(self.hidden_size,n_actions)\n",
        "    self.dropout = nn.Dropout (p = 0.25)\n",
        "\n",
        "  def forward(self,x,hx,cx):\n",
        "    x = torch.tanh(self.l1(x))\n",
        "    hx,cx = self.l2(x,(hx,cx)) #LSTMCell\n",
        "    x = self.dropout(hx)\n",
        "    x = torch.tanh(x)\n",
        "    x = torch.sigmoid(self.l3(x)) # to range[0,1]\n",
        "    return x,hx,cx"
      ]
    },
    {
      "cell_type": "code",
      "execution_count": 11,
      "metadata": {
        "id": "wNRYY69PL9bt"
      },
      "outputs": [],
      "source": [
        "class ActorCritic(nn.Module):\n",
        "  def __init__(self,actor,critic,time_step):\n",
        "    super().__init__()\n",
        "\n",
        "    # TIME\n",
        "    self.time_step = time_step\n",
        "\n",
        "    # ACTOR OR 優化搜索模型\n",
        "    self.actor = actor\n",
        "    self.actor_optimizer = Adam(actor.parameters(),lr=1e-3)\n",
        "\n",
        "    # CRITIC OR 代理模型\n",
        "    self.critic = critic\n",
        "    self.critic_optimizer = Adam(critic.parameters(),lr=1e-3)\n",
        "\n",
        "  def forward(self,state,request):\n",
        "    actions = self.actor_forward(state,request)\n",
        "    values = self.critic_forward(state,actions)\n",
        "    return values\n",
        "\n",
        "  def actor_forward(self,state,request,eval=False):\n",
        "    '''\n",
        "    # 給定狀態(不可控)和需求 輸出一系列動作\n",
        "    '''\n",
        "    # 切換模式\n",
        "    if eval == True:\n",
        "      self.actor.eval()\n",
        "    else:\n",
        "      self.actor.train()\n",
        "\n",
        "    # 初始化隱變量 LSTM特有的長短期記憶\n",
        "    hx = torch.zeros((state.size()[0],actor.hidden_size))\n",
        "    cx = torch.zeros((state.size()[0],actor.hidden_size))\n",
        "\n",
        "    # 待會用來存放action element用\n",
        "    actions = torch.FloatTensor()\n",
        "\n",
        "    # 對一定時間長度進行遍歷將state給actor forward 並將結果蒐集起來\n",
        "    for t in range(self.time_step):\n",
        "      a,hx,cx = self.actor(torch.cat((state[:,t,:],request),dim=1),hx,cx)\n",
        "      actions = torch.cat((actions,a),dim=1)\n",
        "\n",
        "    # 一系列動作 (Batch,Time,Features)\n",
        "    actions = actions.reshape(state.size()[0],self.time_step,-1)\n",
        "\n",
        "    return actions\n",
        "\n",
        "  def critic_forward(self,state,action,eval=False):\n",
        "    '''\n",
        "    # 輸入狀態(不可控)和一系列動作(可控),預測產出\n",
        "    '''\n",
        "\n",
        "    # 切換模式\n",
        "    if eval == True:\n",
        "      self.critic.eval()\n",
        "    else:\n",
        "      self.critic.train()\n",
        "\n",
        "    # 初始化 隱變量 長短期記憶\n",
        "    hx = torch.zeros((state.size()[0],critic.hidden_size))\n",
        "    cx = torch.zeros((state.size()[0],critic.hidden_size))\n",
        "\n",
        "    # 建立values的存放區\n",
        "    values = torch.FloatTensor()\n",
        "\n",
        "    # 對時間點遍歷 將state,action依序放入critic取得v並將v蒐集起來\n",
        "    for t in range(self.time_step):\n",
        "      # 根據當前t時刻狀態,動作,hx,cx當輸入得到,v(產出),更新hx,cx\n",
        "      v,hx,cx = self.critic(torch.cat((state[:,t,:],action[:,t,:]),dim=1),hx,cx)\n",
        "      values = torch.cat((values,v),dim=1)\n",
        "\n",
        "    # 一系列產出(Batch,Time,Features)\n",
        "    values = values.reshape(state.size()[0],self.time_step,-1)\n",
        "\n",
        "    # 只取最後一個時間點的v (Batch,Time,Features)\n",
        "    return values[:,-1,:] # return last time_step\n",
        "\n",
        "  def train_critic(self,state,action,value):\n",
        "    '''\n",
        "    x: [state,action]\n",
        "    y: [value]\n",
        "    '監督式學習'\n",
        "    '''\n",
        "    self.critic.train()#可訓練\n",
        "    self.actor.eval()#凍結權重\n",
        "\n",
        "    # 計算預測值:hat\n",
        "    value_hat = self.critic_forward(state,action)\n",
        "\n",
        "    # 預測值跟label的平方差愈小愈好\n",
        "    loss = ((value_hat - value)**2).mean()\n",
        "    # loss 反向傳播\n",
        "    loss.backward()\n",
        "\n",
        "    # 使用optimizer優化\n",
        "    self.critic_optimizer.step()\n",
        "    self.critic_optimizer.zero_grad()\n",
        "    return loss.item()\n",
        "\n",
        "  def train_actor(self,state,request):\n",
        "    '''\n",
        "    x: [state,request]\n",
        "    y: maximum critic value\n",
        "    '最小化產出跟request的差異'\n",
        "    '''\n",
        "    self.actor.train()\n",
        "    self.critic.eval()\n",
        "    actions = self.actor_forward(state,request)\n",
        "    value_hat = self.critic_forward(state,actions)\n",
        "\n",
        "    # 首先預測值跟需求的平方差愈小愈好\n",
        "    loss1 = ((request - value_hat)**2).mean()\n",
        "\n",
        "    # 再來避免\"變異數太大(時間維度上)\" 因為盤控人員不可能突然調太多\n",
        "    #loss2 = actions.reshape(-1,time_step,action_size).std(axis=1)\n",
        "    #loss2 = loss2.sum(axis=-1).mean(axis=0)\n",
        "\n",
        "    loss = loss1 #+ loss2\n",
        "    loss.backward()\n",
        "\n",
        "    self.actor_optimizer.step()\n",
        "    self.actor.zero_grad()\n",
        "\n",
        "    return loss.item()"
      ]
    },
    {
      "cell_type": "markdown",
      "source": [
        "# 實例化模型"
      ],
      "metadata": {
        "id": "8WIqv3VRBOSf"
      }
    },
    {
      "cell_type": "code",
      "execution_count": 12,
      "metadata": {
        "id": "fIgK0jEZMC_6"
      },
      "outputs": [],
      "source": [
        "# actor吃狀態跟需求輸出操作建議\n",
        "actor = R2D2(state_size+request_size,action_size,hidden_size)\n",
        "# critic吃狀態跟操作輸出最後產品產出量(預估)\n",
        "critic = R2D2(state_size+action_size,value_size,hidden_size)\n",
        "# 實例化這個ActorCritic架構\n",
        "model = ActorCritic(actor,critic,time_step)"
      ]
    },
    {
      "cell_type": "markdown",
      "source": [
        "# 隨機產生數據測試s:state,r:request"
      ],
      "metadata": {
        "id": "rQVBPf1jBlRm"
      }
    },
    {
      "cell_type": "code",
      "execution_count": 13,
      "metadata": {
        "colab": {
          "base_uri": "https://localhost:8080/"
        },
        "id": "8AwpFSElMI9K",
        "outputId": "d10d33f9-b51e-4199-99f5-3e24e95f1d1a"
      },
      "outputs": [
        {
          "output_type": "execute_result",
          "data": {
            "text/plain": [
              "(torch.Size([1, 10, 35]), torch.Size([1, 1]))"
            ]
          },
          "metadata": {},
          "execution_count": 13
        }
      ],
      "source": [
        "s = torch.rand(1,time_step,state_size)#(B,T,s_dim)\n",
        "r = torch.rand(1,request_size)#(B,r_dim)\n",
        "s.shape,r.shape"
      ]
    },
    {
      "cell_type": "markdown",
      "source": [
        "# 前向傳播測試"
      ],
      "metadata": {
        "id": "23771Uc0Bpbe"
      }
    },
    {
      "cell_type": "code",
      "execution_count": 14,
      "metadata": {
        "colab": {
          "base_uri": "https://localhost:8080/"
        },
        "id": "hwolp-9JMaya",
        "outputId": "7a1356b7-de18-4cd2-8f47-6435abc2870e"
      },
      "outputs": [
        {
          "output_type": "execute_result",
          "data": {
            "text/plain": [
              "tensor([[0.4854]], grad_fn=<SliceBackward0>)"
            ]
          },
          "metadata": {},
          "execution_count": 14
        }
      ],
      "source": [
        "model.forward(s,r)"
      ]
    },
    {
      "cell_type": "code",
      "execution_count": 15,
      "metadata": {
        "colab": {
          "base_uri": "https://localhost:8080/",
          "height": 70
        },
        "id": "8z8zsU9JUZJQ",
        "outputId": "f2f8b5d5-02e5-402f-9f53-db31495efd84"
      },
      "outputs": [
        {
          "output_type": "execute_result",
          "data": {
            "text/plain": [
              "'\\n%load_ext tensorboard\\nfrom datetime import datetime\\nimport time\\nfrom torch.utils.tensorboard import SummaryWriter\\nlogdir=\"logs/fit/\" + datetime.now().strftime(\"%Y%m%d-%H%M%S\")\\nwriter = SummaryWriter(log_dir=logdir)\\nwriter.add_graph(model,[s,r])\\nwriter.close()\\n%tensorboard --logdir logs\\n'"
            ],
            "application/vnd.google.colaboratory.intrinsic+json": {
              "type": "string"
            }
          },
          "metadata": {},
          "execution_count": 15
        }
      ],
      "source": [
        "'''\n",
        "%load_ext tensorboard\n",
        "from datetime import datetime\n",
        "import time\n",
        "from torch.utils.tensorboard import SummaryWriter\n",
        "logdir=\"logs/fit/\" + datetime.now().strftime(\"%Y%m%d-%H%M%S\")\n",
        "writer = SummaryWriter(log_dir=logdir)\n",
        "writer.add_graph(model,[s,r])\n",
        "writer.close()\n",
        "%tensorboard --logdir logs\n",
        "'''"
      ]
    },
    {
      "cell_type": "markdown",
      "metadata": {
        "id": "joK1Qrv0M1o7"
      },
      "source": [
        "# 定義訓練函數"
      ]
    },
    {
      "cell_type": "code",
      "execution_count": 16,
      "metadata": {
        "id": "dR78zoykUtql"
      },
      "outputs": [],
      "source": [
        "def train_critic():\n",
        "  loss = 0\n",
        "  for i,(bs,br,ba,bv) in enumerate(train_iter):\n",
        "    loss += model.train_critic(bs,ba,bv)\n",
        "  return loss\n",
        "\n",
        "def train_actor():\n",
        "  loss = 0\n",
        "  for i,(bs,br,ba,bv) in enumerate(train_iter):\n",
        "    loss += model.train_actor(bs,br)\n",
        "  return loss\n",
        "\n",
        "def train(model,train_iter,epochs=100):\n",
        "  train_history = {}\n",
        "  train_history['actor'] = []\n",
        "  train_history['critic'] = []\n",
        "\n",
        "  # 先訓練critic代理模型(希望此代理模型訓練後夠接近真實世界情況)\n",
        "  for epoch in range(epochs):\n",
        "    loss = train_critic()\n",
        "    train_history['critic'].append(loss)\n",
        "    print('epoch:{} critic_loss:{}'.format(epoch,loss))\n",
        "\n",
        "  # 代理模型訓練完之後就假設此critic代理模型已經是(真實世界情況)\n",
        "  # 因此若假設成立則可以在此critic代理模型再進行最佳解的搜索\n",
        "  # 這裡的搜索是利用神經網路actor,從一開始隨便給action觀察loss(這裡loss定義為使用者期待跟實際落差)\n",
        "  # 然後不斷降低這個loss的過程,稱之為神經網路actor的搜索,也可以將其視為神經網路actor的訓練\n",
        "  for epoch in range(epochs):\n",
        "    loss = train_actor()\n",
        "    train_history['actor'].append(loss)\n",
        "    print('epoch:{} actor_loss:{}'.format(epoch,loss))\n",
        "\n",
        "  return model,train_history"
      ]
    },
    {
      "cell_type": "markdown",
      "source": [
        "# 從train_iter 採些資料出來讓actor forward"
      ],
      "metadata": {
        "id": "GBF0q5vlCrYw"
      }
    },
    {
      "cell_type": "code",
      "execution_count": 17,
      "metadata": {
        "colab": {
          "base_uri": "https://localhost:8080/",
          "height": 380
        },
        "id": "E1mMtJB6UyUT",
        "outputId": "7fcebd94-440a-4449-d287-450fa0feebb6"
      },
      "outputs": [
        {
          "output_type": "stream",
          "name": "stdout",
          "text": [
            "以下是actor根據狀態和需求給出的操作建議\n"
          ]
        },
        {
          "output_type": "execute_result",
          "data": {
            "text/plain": [
              "<pandas.io.formats.style.Styler at 0x7f96ee4fd900>"
            ],
            "text/html": [
              "<style type=\"text/css\">\n",
              "#T_7feb4_row0_col0 {\n",
              "  background-color: #fff7fb;\n",
              "  color: #000000;\n",
              "}\n",
              "#T_7feb4_row1_col0 {\n",
              "  background-color: #62a2cb;\n",
              "  color: #f1f1f1;\n",
              "}\n",
              "#T_7feb4_row2_col0 {\n",
              "  background-color: #0872b1;\n",
              "  color: #f1f1f1;\n",
              "}\n",
              "#T_7feb4_row3_col0, #T_7feb4_row6_col0 {\n",
              "  background-color: #04639b;\n",
              "  color: #f1f1f1;\n",
              "}\n",
              "#T_7feb4_row4_col0 {\n",
              "  background-color: #0566a0;\n",
              "  color: #f1f1f1;\n",
              "}\n",
              "#T_7feb4_row5_col0 {\n",
              "  background-color: #05659f;\n",
              "  color: #f1f1f1;\n",
              "}\n",
              "#T_7feb4_row7_col0 {\n",
              "  background-color: #034f7d;\n",
              "  color: #f1f1f1;\n",
              "}\n",
              "#T_7feb4_row8_col0 {\n",
              "  background-color: #023e62;\n",
              "  color: #f1f1f1;\n",
              "}\n",
              "#T_7feb4_row9_col0 {\n",
              "  background-color: #023858;\n",
              "  color: #f1f1f1;\n",
              "}\n",
              "</style>\n",
              "<table id=\"T_7feb4\" class=\"dataframe\">\n",
              "  <thead>\n",
              "    <tr>\n",
              "      <th class=\"blank level0\" >&nbsp;</th>\n",
              "      <th id=\"T_7feb4_level0_col0\" class=\"col_heading level0 col0\" >0</th>\n",
              "    </tr>\n",
              "  </thead>\n",
              "  <tbody>\n",
              "    <tr>\n",
              "      <th id=\"T_7feb4_level0_row0\" class=\"row_heading level0 row0\" >0</th>\n",
              "      <td id=\"T_7feb4_row0_col0\" class=\"data row0 col0\" >0.522695</td>\n",
              "    </tr>\n",
              "    <tr>\n",
              "      <th id=\"T_7feb4_level0_row1\" class=\"row_heading level0 row1\" >1</th>\n",
              "      <td id=\"T_7feb4_row1_col0\" class=\"data row1 col0\" >0.526833</td>\n",
              "    </tr>\n",
              "    <tr>\n",
              "      <th id=\"T_7feb4_level0_row2\" class=\"row_heading level0 row2\" >2</th>\n",
              "      <td id=\"T_7feb4_row2_col0\" class=\"data row2 col0\" >0.528401</td>\n",
              "    </tr>\n",
              "    <tr>\n",
              "      <th id=\"T_7feb4_level0_row3\" class=\"row_heading level0 row3\" >3</th>\n",
              "      <td id=\"T_7feb4_row3_col0\" class=\"data row3 col0\" >0.529027</td>\n",
              "    </tr>\n",
              "    <tr>\n",
              "      <th id=\"T_7feb4_level0_row4\" class=\"row_heading level0 row4\" >4</th>\n",
              "      <td id=\"T_7feb4_row4_col0\" class=\"data row4 col0\" >0.528910</td>\n",
              "    </tr>\n",
              "    <tr>\n",
              "      <th id=\"T_7feb4_level0_row5\" class=\"row_heading level0 row5\" >5</th>\n",
              "      <td id=\"T_7feb4_row5_col0\" class=\"data row5 col0\" >0.528951</td>\n",
              "    </tr>\n",
              "    <tr>\n",
              "      <th id=\"T_7feb4_level0_row6\" class=\"row_heading level0 row6\" >6</th>\n",
              "      <td id=\"T_7feb4_row6_col0\" class=\"data row6 col0\" >0.529043</td>\n",
              "    </tr>\n",
              "    <tr>\n",
              "      <th id=\"T_7feb4_level0_row7\" class=\"row_heading level0 row7\" >7</th>\n",
              "      <td id=\"T_7feb4_row7_col0\" class=\"data row7 col0\" >0.529729</td>\n",
              "    </tr>\n",
              "    <tr>\n",
              "      <th id=\"T_7feb4_level0_row8\" class=\"row_heading level0 row8\" >8</th>\n",
              "      <td id=\"T_7feb4_row8_col0\" class=\"data row8 col0\" >0.530202</td>\n",
              "    </tr>\n",
              "    <tr>\n",
              "      <th id=\"T_7feb4_level0_row9\" class=\"row_heading level0 row9\" >9</th>\n",
              "      <td id=\"T_7feb4_row9_col0\" class=\"data row9 col0\" >0.530400</td>\n",
              "    </tr>\n",
              "  </tbody>\n",
              "</table>\n"
            ]
          },
          "metadata": {},
          "execution_count": 17
        }
      ],
      "source": [
        "a = next(iter(train_iter))\n",
        "s,r,a,v = a\n",
        "actions = model.actor_forward(s,r,eval=True)\n",
        "print('以下是actor根據狀態和需求給出的操作建議')\n",
        "pd.DataFrame(actions[0].detach().numpy()).style.background_gradient()"
      ]
    },
    {
      "cell_type": "markdown",
      "source": [
        "# 執行訓練\n"
      ],
      "metadata": {
        "id": "31Ei6hTBDOMH"
      }
    },
    {
      "cell_type": "code",
      "execution_count": 18,
      "metadata": {
        "colab": {
          "base_uri": "https://localhost:8080/"
        },
        "id": "kyKzdRUwVPvc",
        "outputId": "83ff984b-2add-4ebe-9a51-6e5764b56ade"
      },
      "outputs": [
        {
          "output_type": "stream",
          "name": "stdout",
          "text": [
            "epoch:0 critic_loss:1.6987167365150526\n",
            "epoch:1 critic_loss:0.931965080788359\n",
            "epoch:2 critic_loss:0.8064122244250029\n",
            "epoch:3 critic_loss:0.7212361200363375\n",
            "epoch:4 critic_loss:0.659336997254286\n",
            "epoch:5 critic_loss:0.6064430372789502\n",
            "epoch:6 critic_loss:0.6032977507566102\n",
            "epoch:7 critic_loss:0.5812322790152393\n",
            "epoch:8 critic_loss:0.5551112953107804\n",
            "epoch:9 critic_loss:0.543803867069073\n",
            "epoch:10 critic_loss:0.5399226495646872\n",
            "epoch:11 critic_loss:0.5001991442986764\n",
            "epoch:12 critic_loss:0.5067404980654828\n",
            "epoch:13 critic_loss:0.4990882831043564\n",
            "epoch:14 critic_loss:0.4944694894948043\n",
            "epoch:15 critic_loss:0.5008442720281892\n",
            "epoch:16 critic_loss:0.47906024602707475\n",
            "epoch:17 critic_loss:0.4792783696902916\n",
            "epoch:18 critic_loss:0.4503880926640704\n",
            "epoch:19 critic_loss:0.45789904170669615\n",
            "epoch:20 critic_loss:0.44696950100478716\n",
            "epoch:21 critic_loss:0.4348019212775398\n",
            "epoch:22 critic_loss:0.4354981388023589\n",
            "epoch:23 critic_loss:0.42983994269161485\n",
            "epoch:24 critic_loss:0.4073834888404235\n",
            "epoch:25 critic_loss:0.40104482413153164\n",
            "epoch:26 critic_loss:0.3926406154059805\n",
            "epoch:27 critic_loss:0.37694470811402425\n",
            "epoch:28 critic_loss:0.3768855950329453\n",
            "epoch:29 critic_loss:0.35956296004587784\n",
            "epoch:30 critic_loss:0.3484237603843212\n",
            "epoch:31 critic_loss:0.33794483859674074\n",
            "epoch:32 critic_loss:0.3427295812580269\n",
            "epoch:33 critic_loss:0.32690531021216884\n",
            "epoch:34 critic_loss:0.3175587823498063\n",
            "epoch:35 critic_loss:0.3076391957583837\n",
            "epoch:36 critic_loss:0.31582402461208403\n",
            "epoch:37 critic_loss:0.3009172774327453\n",
            "epoch:38 critic_loss:0.2999892959778663\n",
            "epoch:39 critic_loss:0.28969114419305697\n",
            "epoch:40 critic_loss:0.2816528642142657\n",
            "epoch:41 critic_loss:0.29888693301472813\n",
            "epoch:42 critic_loss:0.26848585190600716\n",
            "epoch:43 critic_loss:0.2751262965030037\n",
            "epoch:44 critic_loss:0.26469538785750046\n",
            "epoch:45 critic_loss:0.26534129955689423\n",
            "epoch:46 critic_loss:0.2918264133040793\n",
            "epoch:47 critic_loss:0.2507380683964584\n",
            "epoch:48 critic_loss:0.23895079031353816\n",
            "epoch:49 critic_loss:0.2547744589392096\n",
            "epoch:50 critic_loss:0.24382041124044918\n",
            "epoch:51 critic_loss:0.2399573544971645\n",
            "epoch:52 critic_loss:0.24042500741779804\n",
            "epoch:53 critic_loss:0.23155460658017546\n",
            "epoch:54 critic_loss:0.23227102150849532\n",
            "epoch:55 critic_loss:0.2159645551146241\n",
            "epoch:56 critic_loss:0.2316448374913307\n",
            "epoch:57 critic_loss:0.2212348647590261\n",
            "epoch:58 critic_loss:0.2231350199872395\n",
            "epoch:59 critic_loss:0.22154889622470364\n",
            "epoch:60 critic_loss:0.21336934302235022\n",
            "epoch:61 critic_loss:0.20777794694004115\n",
            "epoch:62 critic_loss:0.21108675275172573\n",
            "epoch:63 critic_loss:0.20840652092010714\n",
            "epoch:64 critic_loss:0.20252961870573927\n",
            "epoch:65 critic_loss:0.20315330823359545\n",
            "epoch:66 critic_loss:0.20597314491169527\n",
            "epoch:67 critic_loss:0.19555906059395056\n",
            "epoch:68 critic_loss:0.19145753601333126\n",
            "epoch:69 critic_loss:0.19454028083418962\n",
            "epoch:70 critic_loss:0.19195889960974455\n",
            "epoch:71 critic_loss:0.179625078861136\n",
            "epoch:72 critic_loss:0.18603826241451316\n",
            "epoch:73 critic_loss:0.18571084803261328\n",
            "epoch:74 critic_loss:0.17650127135857474\n",
            "epoch:75 critic_loss:0.1745358727639541\n",
            "epoch:76 critic_loss:0.18007135596417356\n",
            "epoch:77 critic_loss:0.18572855915408581\n",
            "epoch:78 critic_loss:0.17351571141625755\n",
            "epoch:79 critic_loss:0.16605911606166046\n",
            "epoch:80 critic_loss:0.17941219545900822\n",
            "epoch:81 critic_loss:0.1610130466578994\n",
            "epoch:82 critic_loss:0.16747300619317684\n",
            "epoch:83 critic_loss:0.15382496299571358\n",
            "epoch:84 critic_loss:0.16018956156040076\n",
            "epoch:85 critic_loss:0.15118035112391226\n",
            "epoch:86 critic_loss:0.16407707400503568\n",
            "epoch:87 critic_loss:0.15526434130151756\n",
            "epoch:88 critic_loss:0.152396041128668\n",
            "epoch:89 critic_loss:0.14857445024244953\n",
            "epoch:90 critic_loss:0.15803436007990967\n",
            "epoch:91 critic_loss:0.14788543501344975\n",
            "epoch:92 critic_loss:0.1495300088863587\n",
            "epoch:93 critic_loss:0.14394577180792112\n",
            "epoch:94 critic_loss:0.15011609795328695\n",
            "epoch:95 critic_loss:0.14223323116311803\n",
            "epoch:96 critic_loss:0.14125318013248034\n",
            "epoch:97 critic_loss:0.1337664329330437\n",
            "epoch:98 critic_loss:0.14471434146980755\n",
            "epoch:0 actor_loss:31.477547116577625\n",
            "epoch:1 actor_loss:31.427998833358288\n",
            "epoch:2 actor_loss:31.483734525740147\n",
            "epoch:3 actor_loss:31.405803933739662\n",
            "epoch:4 actor_loss:31.461383789777756\n",
            "epoch:5 actor_loss:31.4447283744812\n",
            "epoch:6 actor_loss:30.65610656887293\n",
            "epoch:7 actor_loss:28.77462298423052\n",
            "epoch:8 actor_loss:28.273756086826324\n",
            "epoch:9 actor_loss:28.114619851112366\n",
            "epoch:10 actor_loss:27.940627988427877\n",
            "epoch:11 actor_loss:27.952669199556112\n",
            "epoch:12 actor_loss:27.79894056543708\n",
            "epoch:13 actor_loss:27.744548242539167\n",
            "epoch:14 actor_loss:27.6628050878644\n",
            "epoch:15 actor_loss:27.567309994250536\n",
            "epoch:16 actor_loss:27.190275505185127\n",
            "epoch:17 actor_loss:26.965995833277702\n",
            "epoch:18 actor_loss:27.403158638626337\n",
            "epoch:19 actor_loss:27.083308193832636\n",
            "epoch:20 actor_loss:26.92646037042141\n",
            "epoch:21 actor_loss:27.056271802634\n",
            "epoch:22 actor_loss:27.073918137699366\n",
            "epoch:23 actor_loss:27.42705838754773\n",
            "epoch:24 actor_loss:25.92393448203802\n",
            "epoch:25 actor_loss:25.055785965174437\n",
            "epoch:26 actor_loss:24.559962712228298\n",
            "epoch:27 actor_loss:24.08865809813142\n",
            "epoch:28 actor_loss:23.20120018720627\n",
            "epoch:29 actor_loss:22.834958292543888\n",
            "epoch:30 actor_loss:22.62349346280098\n",
            "epoch:31 actor_loss:22.514871764928102\n",
            "epoch:32 actor_loss:22.396784219890833\n",
            "epoch:33 actor_loss:22.283048644661903\n",
            "epoch:34 actor_loss:22.224680356681347\n",
            "epoch:35 actor_loss:18.970396539196372\n",
            "epoch:36 actor_loss:15.154278365895152\n",
            "epoch:37 actor_loss:14.231633299961686\n",
            "epoch:38 actor_loss:13.451057817786932\n",
            "epoch:39 actor_loss:13.080908169969916\n",
            "epoch:40 actor_loss:12.956241935491562\n",
            "epoch:41 actor_loss:12.856165122240782\n",
            "epoch:42 actor_loss:12.728065263479948\n",
            "epoch:43 actor_loss:12.595519760623574\n",
            "epoch:44 actor_loss:12.60465345159173\n",
            "epoch:45 actor_loss:12.536744117736816\n",
            "epoch:46 actor_loss:12.582032369449735\n",
            "epoch:47 actor_loss:12.417777830734849\n",
            "epoch:48 actor_loss:12.34566206857562\n",
            "epoch:49 actor_loss:12.32935100235045\n",
            "epoch:50 actor_loss:12.23314937762916\n",
            "epoch:51 actor_loss:12.15458638034761\n",
            "epoch:52 actor_loss:12.042846595868468\n",
            "epoch:53 actor_loss:12.018560089170933\n",
            "epoch:54 actor_loss:11.993084903806448\n",
            "epoch:55 actor_loss:12.02698439359665\n",
            "epoch:56 actor_loss:11.991678668186069\n",
            "epoch:57 actor_loss:11.85858098603785\n",
            "epoch:58 actor_loss:11.902995875105262\n",
            "epoch:59 actor_loss:11.953803366050124\n",
            "epoch:60 actor_loss:11.92483202368021\n",
            "epoch:61 actor_loss:11.865878403186798\n",
            "epoch:62 actor_loss:11.768423303961754\n",
            "epoch:63 actor_loss:11.79909336939454\n",
            "epoch:64 actor_loss:11.907539166510105\n",
            "epoch:65 actor_loss:11.781923057511449\n",
            "epoch:66 actor_loss:11.891155816614628\n",
            "epoch:67 actor_loss:11.674213275313377\n",
            "epoch:68 actor_loss:11.746627090498805\n",
            "epoch:69 actor_loss:11.58015533350408\n",
            "epoch:70 actor_loss:11.556903045624495\n",
            "epoch:71 actor_loss:11.510382132604718\n",
            "epoch:72 actor_loss:11.57126633822918\n",
            "epoch:73 actor_loss:11.518023950979114\n",
            "epoch:74 actor_loss:11.4471331872046\n",
            "epoch:75 actor_loss:11.454573584720492\n",
            "epoch:76 actor_loss:11.460865961387753\n",
            "epoch:77 actor_loss:11.420356234535575\n",
            "epoch:78 actor_loss:11.351621547713876\n",
            "epoch:79 actor_loss:11.308600654825568\n",
            "epoch:80 actor_loss:11.422821499407291\n",
            "epoch:81 actor_loss:11.26394353993237\n",
            "epoch:82 actor_loss:11.31040719524026\n",
            "epoch:83 actor_loss:11.25841273739934\n",
            "epoch:84 actor_loss:11.18346863053739\n",
            "epoch:85 actor_loss:11.123831775039434\n",
            "epoch:86 actor_loss:11.138777785003185\n",
            "epoch:87 actor_loss:11.20958686619997\n",
            "epoch:88 actor_loss:11.017157474532723\n",
            "epoch:89 actor_loss:10.979525621980429\n",
            "epoch:90 actor_loss:10.901023019105196\n",
            "epoch:91 actor_loss:10.93715732358396\n",
            "epoch:92 actor_loss:10.928850769996643\n",
            "epoch:93 actor_loss:10.997285475954413\n",
            "epoch:94 actor_loss:10.77235472202301\n",
            "epoch:95 actor_loss:10.790238032117486\n",
            "epoch:96 actor_loss:10.838942671194673\n",
            "epoch:97 actor_loss:10.682579930871725\n",
            "epoch:98 actor_loss:10.72031381353736\n"
          ]
        }
      ],
      "source": [
        "model,train_history = train(model,train_iter,epochs=99)"
      ]
    },
    {
      "cell_type": "markdown",
      "source": [
        "# 繪製圖表"
      ],
      "metadata": {
        "id": "NSVdvradDRrO"
      }
    },
    {
      "cell_type": "code",
      "execution_count": 19,
      "metadata": {
        "colab": {
          "base_uri": "https://localhost:8080/",
          "height": 860
        },
        "id": "7JhLtom4o9o2",
        "outputId": "f1c97962-3103-475d-81c5-8d39562e3c78"
      },
      "outputs": [
        {
          "output_type": "display_data",
          "data": {
            "text/plain": [
              "<Figure size 640x480 with 1 Axes>"
            ],
            "image/png": "[encoded data removed]"
          },
          "metadata": {}
        },
        {
          "output_type": "execute_result",
          "data": {
            "text/plain": [
              "[<matplotlib.lines.Line2D at 0x7f96e08fe5f0>]"
            ]
          },
          "metadata": {},
          "execution_count": 19
        },
        {
          "output_type": "display_data",
          "data": {
            "text/plain": [
              "<Figure size 640x480 with 1 Axes>"
            ],
            "image/png": "[encoded data removed]"
          },
          "metadata": {}
        }
      ],
      "source": [
        "import matplotlib.pyplot as plt\n",
        "plt.plot(train_history['critic'])\n",
        "plt.show()\n",
        "plt.plot(train_history['actor'])"
      ]
    },
    {
      "cell_type": "markdown",
      "source": [
        "# 試用訓練好的模型"
      ],
      "metadata": {
        "id": "KjEYWfJJDnl-"
      }
    },
    {
      "cell_type": "code",
      "execution_count": 20,
      "metadata": {
        "id": "Eqvn0qJ4pAB_"
      },
      "outputs": [],
      "source": [
        "s,r,a,v = next(iter(train_iter))\n",
        "actions = model.actor_forward(s,r,eval=True)"
      ]
    },
    {
      "cell_type": "markdown",
      "source": [
        "# 訓練好的模型做推薦"
      ],
      "metadata": {
        "id": "yRJNCc9JDiAM"
      }
    },
    {
      "cell_type": "code",
      "execution_count": 21,
      "metadata": {
        "colab": {
          "base_uri": "https://localhost:8080/",
          "height": 363
        },
        "id": "jwmUMKXlpBKN",
        "outputId": "59f9e172-71a4-4d59-c0ea-8a9c759e07e4"
      },
      "outputs": [
        {
          "output_type": "execute_result",
          "data": {
            "text/plain": [
              "<pandas.io.formats.style.Styler at 0x7f96e0927160>"
            ],
            "text/html": [
              "<style type=\"text/css\">\n",
              "#T_54990_row0_col0, #T_54990_row1_col0, #T_54990_row3_col0, #T_54990_row4_col0, #T_54990_row6_col0 {\n",
              "  background-color: #fff7fb;\n",
              "  color: #000000;\n",
              "}\n",
              "#T_54990_row2_col0 {\n",
              "  background-color: #023858;\n",
              "  color: #f1f1f1;\n",
              "}\n",
              "#T_54990_row5_col0 {\n",
              "  background-color: #e1dfed;\n",
              "  color: #000000;\n",
              "}\n",
              "#T_54990_row7_col0 {\n",
              "  background-color: #f7f0f7;\n",
              "  color: #000000;\n",
              "}\n",
              "#T_54990_row8_col0 {\n",
              "  background-color: #e0deed;\n",
              "  color: #000000;\n",
              "}\n",
              "#T_54990_row9_col0 {\n",
              "  background-color: #d9d8ea;\n",
              "  color: #000000;\n",
              "}\n",
              "</style>\n",
              "<table id=\"T_54990\" class=\"dataframe\">\n",
              "  <thead>\n",
              "    <tr>\n",
              "      <th class=\"blank level0\" >&nbsp;</th>\n",
              "      <th id=\"T_54990_level0_col0\" class=\"col_heading level0 col0\" >0</th>\n",
              "    </tr>\n",
              "  </thead>\n",
              "  <tbody>\n",
              "    <tr>\n",
              "      <th id=\"T_54990_level0_row0\" class=\"row_heading level0 row0\" >0</th>\n",
              "      <td id=\"T_54990_row0_col0\" class=\"data row0 col0\" >0.003230</td>\n",
              "    </tr>\n",
              "    <tr>\n",
              "      <th id=\"T_54990_level0_row1\" class=\"row_heading level0 row1\" >1</th>\n",
              "      <td id=\"T_54990_row1_col0\" class=\"data row1 col0\" >0.000000</td>\n",
              "    </tr>\n",
              "    <tr>\n",
              "      <th id=\"T_54990_level0_row2\" class=\"row_heading level0 row2\" >2</th>\n",
              "      <td id=\"T_54990_row2_col0\" class=\"data row2 col0\" >0.998722</td>\n",
              "    </tr>\n",
              "    <tr>\n",
              "      <th id=\"T_54990_level0_row3\" class=\"row_heading level0 row3\" >3</th>\n",
              "      <td id=\"T_54990_row3_col0\" class=\"data row3 col0\" >0.000159</td>\n",
              "    </tr>\n",
              "    <tr>\n",
              "      <th id=\"T_54990_level0_row4\" class=\"row_heading level0 row4\" >4</th>\n",
              "      <td id=\"T_54990_row4_col0\" class=\"data row4 col0\" >0.000006</td>\n",
              "    </tr>\n",
              "    <tr>\n",
              "      <th id=\"T_54990_level0_row5\" class=\"row_heading level0 row5\" >5</th>\n",
              "      <td id=\"T_54990_row5_col0\" class=\"data row5 col0\" >0.173452</td>\n",
              "    </tr>\n",
              "    <tr>\n",
              "      <th id=\"T_54990_level0_row6\" class=\"row_heading level0 row6\" >6</th>\n",
              "      <td id=\"T_54990_row6_col0\" class=\"data row6 col0\" >0.000005</td>\n",
              "    </tr>\n",
              "    <tr>\n",
              "      <th id=\"T_54990_level0_row7\" class=\"row_heading level0 row7\" >7</th>\n",
              "      <td id=\"T_54990_row7_col0\" class=\"data row7 col0\" >0.054370</td>\n",
              "    </tr>\n",
              "    <tr>\n",
              "      <th id=\"T_54990_level0_row8\" class=\"row_heading level0 row8\" >8</th>\n",
              "      <td id=\"T_54990_row8_col0\" class=\"data row8 col0\" >0.179187</td>\n",
              "    </tr>\n",
              "    <tr>\n",
              "      <th id=\"T_54990_level0_row9\" class=\"row_heading level0 row9\" >9</th>\n",
              "      <td id=\"T_54990_row9_col0\" class=\"data row9 col0\" >0.210070</td>\n",
              "    </tr>\n",
              "  </tbody>\n",
              "</table>\n"
            ]
          },
          "metadata": {},
          "execution_count": 21
        }
      ],
      "source": [
        "pd.DataFrame(actions[0].detach().numpy()).style.background_gradient()"
      ]
    },
    {
      "cell_type": "markdown",
      "source": [
        "# 歷史上的推薦"
      ],
      "metadata": {
        "id": "Y8SHemdBDlQV"
      }
    },
    {
      "cell_type": "code",
      "source": [
        "pd.DataFrame(a[0].numpy()).style.background_gradient()"
      ],
      "metadata": {
        "id": "zIZ9M_X-Db--",
        "outputId": "a44c47f5-0b6e-4967-f542-8f6b407e9c9a",
        "colab": {
          "base_uri": "https://localhost:8080/",
          "height": 363
        }
      },
      "execution_count": 22,
      "outputs": [
        {
          "output_type": "execute_result",
          "data": {
            "text/plain": [
              "<pandas.io.formats.style.Styler at 0x7f96e0935d50>"
            ],
            "text/html": [
              "<style type=\"text/css\">\n",
              "#T_cf5ec_row0_col0 {\n",
              "  background-color: #023c5f;\n",
              "  color: #f1f1f1;\n",
              "}\n",
              "#T_cf5ec_row1_col0 {\n",
              "  background-color: #2383ba;\n",
              "  color: #f1f1f1;\n",
              "}\n",
              "#T_cf5ec_row2_col0 {\n",
              "  background-color: #97b7d7;\n",
              "  color: #000000;\n",
              "}\n",
              "#T_cf5ec_row3_col0 {\n",
              "  background-color: #fff7fb;\n",
              "  color: #000000;\n",
              "}\n",
              "#T_cf5ec_row4_col0 {\n",
              "  background-color: #dddbec;\n",
              "  color: #000000;\n",
              "}\n",
              "#T_cf5ec_row5_col0 {\n",
              "  background-color: #bdc8e1;\n",
              "  color: #000000;\n",
              "}\n",
              "#T_cf5ec_row6_col0 {\n",
              "  background-color: #a7bddb;\n",
              "  color: #000000;\n",
              "}\n",
              "#T_cf5ec_row7_col0 {\n",
              "  background-color: #75a9cf;\n",
              "  color: #f1f1f1;\n",
              "}\n",
              "#T_cf5ec_row8_col0 {\n",
              "  background-color: #023858;\n",
              "  color: #f1f1f1;\n",
              "}\n",
              "#T_cf5ec_row9_col0 {\n",
              "  background-color: #62a2cb;\n",
              "  color: #f1f1f1;\n",
              "}\n",
              "</style>\n",
              "<table id=\"T_cf5ec\" class=\"dataframe\">\n",
              "  <thead>\n",
              "    <tr>\n",
              "      <th class=\"blank level0\" >&nbsp;</th>\n",
              "      <th id=\"T_cf5ec_level0_col0\" class=\"col_heading level0 col0\" >0</th>\n",
              "    </tr>\n",
              "  </thead>\n",
              "  <tbody>\n",
              "    <tr>\n",
              "      <th id=\"T_cf5ec_level0_row0\" class=\"row_heading level0 row0\" >0</th>\n",
              "      <td id=\"T_cf5ec_row0_col0\" class=\"data row0 col0\" >0.142811</td>\n",
              "    </tr>\n",
              "    <tr>\n",
              "      <th id=\"T_cf5ec_level0_row1\" class=\"row_heading level0 row1\" >1</th>\n",
              "      <td id=\"T_cf5ec_row1_col0\" class=\"data row1 col0\" >0.131448</td>\n",
              "    </tr>\n",
              "    <tr>\n",
              "      <th id=\"T_cf5ec_level0_row2\" class=\"row_heading level0 row2\" >2</th>\n",
              "      <td id=\"T_cf5ec_row2_col0\" class=\"data row2 col0\" >0.121810</td>\n",
              "    </tr>\n",
              "    <tr>\n",
              "      <th id=\"T_cf5ec_level0_row3\" class=\"row_heading level0 row3\" >3</th>\n",
              "      <td id=\"T_cf5ec_row3_col0\" class=\"data row3 col0\" >0.106571</td>\n",
              "    </tr>\n",
              "    <tr>\n",
              "      <th id=\"T_cf5ec_level0_row4\" class=\"row_heading level0 row4\" >4</th>\n",
              "      <td id=\"T_cf5ec_row4_col0\" class=\"data row4 col0\" >0.113717</td>\n",
              "    </tr>\n",
              "    <tr>\n",
              "      <th id=\"T_cf5ec_level0_row5\" class=\"row_heading level0 row5\" >5</th>\n",
              "      <td id=\"T_cf5ec_row5_col0\" class=\"data row5 col0\" >0.117934</td>\n",
              "    </tr>\n",
              "    <tr>\n",
              "      <th id=\"T_cf5ec_level0_row6\" class=\"row_heading level0 row6\" >6</th>\n",
              "      <td id=\"T_cf5ec_row6_col0\" class=\"data row6 col0\" >0.120341</td>\n",
              "    </tr>\n",
              "    <tr>\n",
              "      <th id=\"T_cf5ec_level0_row7\" class=\"row_heading level0 row7\" >7</th>\n",
              "      <td id=\"T_cf5ec_row7_col0\" class=\"data row7 col0\" >0.124909</td>\n",
              "    </tr>\n",
              "    <tr>\n",
              "      <th id=\"T_cf5ec_level0_row8\" class=\"row_heading level0 row8\" >8</th>\n",
              "      <td id=\"T_cf5ec_row8_col0\" class=\"data row8 col0\" >0.143418</td>\n",
              "    </tr>\n",
              "    <tr>\n",
              "      <th id=\"T_cf5ec_level0_row9\" class=\"row_heading level0 row9\" >9</th>\n",
              "      <td id=\"T_cf5ec_row9_col0\" class=\"data row9 col0\" >0.126370</td>\n",
              "    </tr>\n",
              "  </tbody>\n",
              "</table>\n"
            ]
          },
          "metadata": {},
          "execution_count": 22
        }
      ]
    },
    {
      "cell_type": "markdown",
      "source": [
        "# 使用訓練好的模型產生values"
      ],
      "metadata": {
        "id": "wqz_KXb7DsNe"
      }
    },
    {
      "cell_type": "code",
      "execution_count": 23,
      "metadata": {
        "colab": {
          "base_uri": "https://localhost:8080/"
        },
        "id": "bcPdlwYxpCRk",
        "outputId": "da0444dd-5046-4e2b-bd89-b5953b95a2bc"
      },
      "outputs": [
        {
          "output_type": "execute_result",
          "data": {
            "text/plain": [
              "tensor([[0.7035]], grad_fn=<SliceBackward0>)"
            ]
          },
          "metadata": {},
          "execution_count": 23
        }
      ],
      "source": [
        "values = model.critic_forward(s[[0]],actions[[0]],eval=True)\n",
        "values"
      ]
    },
    {
      "cell_type": "markdown",
      "source": [
        "# 實際的Values"
      ],
      "metadata": {
        "id": "n5jIm0UBDyf3"
      }
    },
    {
      "cell_type": "code",
      "source": [
        "v[0]"
      ],
      "metadata": {
        "id": "ktgnkMezD41P",
        "outputId": "74de2f39-30b7-4af4-c8ba-00472b4132f6",
        "colab": {
          "base_uri": "https://localhost:8080/"
        }
      },
      "execution_count": 33,
      "outputs": [
        {
          "output_type": "execute_result",
          "data": {
            "text/plain": [
              "tensor([0.5265], grad_fn=<SelectBackward0>)"
            ]
          },
          "metadata": {},
          "execution_count": 33
        }
      ]
    },
    {
      "cell_type": "markdown",
      "source": [
        "# 假設廠區有個希望的wanna_ouput\n",
        "# 假設state目前在常見情況下0.5\n",
        "\n",
        "#看看模型推薦的操作以及預估的產量"
      ],
      "metadata": {
        "id": "MAPI0zV6D_JP"
      }
    },
    {
      "cell_type": "code",
      "execution_count": 35,
      "metadata": {
        "colab": {
          "base_uri": "https://localhost:8080/"
        },
        "id": "djsvUZ-_pEKL",
        "outputId": "a79ef4a3-1b9c-4104-a5e2-7f811598b43c"
      },
      "outputs": [
        {
          "output_type": "stream",
          "name": "stdout",
          "text": [
            "state[[[0.5 0.5 0.5 0.5 0.5 0.5 0.5 0.5 0.5 0.5 0.5 0.5 0.5 0.5 0.5 0.5 0.5\n",
            "   0.5 0.5 0.5 0.5 0.5 0.5 0.5 0.5 0.5 0.5 0.5 0.5 0.5 0.5 0.5 0.5 0.5\n",
            "   0.5]\n",
            "  [0.5 0.5 0.5 0.5 0.5 0.5 0.5 0.5 0.5 0.5 0.5 0.5 0.5 0.5 0.5 0.5 0.5\n",
            "   0.5 0.5 0.5 0.5 0.5 0.5 0.5 0.5 0.5 0.5 0.5 0.5 0.5 0.5 0.5 0.5 0.5\n",
            "   0.5]\n",
            "  [0.5 0.5 0.5 0.5 0.5 0.5 0.5 0.5 0.5 0.5 0.5 0.5 0.5 0.5 0.5 0.5 0.5\n",
            "   0.5 0.5 0.5 0.5 0.5 0.5 0.5 0.5 0.5 0.5 0.5 0.5 0.5 0.5 0.5 0.5 0.5\n",
            "   0.5]\n",
            "  [0.5 0.5 0.5 0.5 0.5 0.5 0.5 0.5 0.5 0.5 0.5 0.5 0.5 0.5 0.5 0.5 0.5\n",
            "   0.5 0.5 0.5 0.5 0.5 0.5 0.5 0.5 0.5 0.5 0.5 0.5 0.5 0.5 0.5 0.5 0.5\n",
            "   0.5]\n",
            "  [0.5 0.5 0.5 0.5 0.5 0.5 0.5 0.5 0.5 0.5 0.5 0.5 0.5 0.5 0.5 0.5 0.5\n",
            "   0.5 0.5 0.5 0.5 0.5 0.5 0.5 0.5 0.5 0.5 0.5 0.5 0.5 0.5 0.5 0.5 0.5\n",
            "   0.5]\n",
            "  [0.5 0.5 0.5 0.5 0.5 0.5 0.5 0.5 0.5 0.5 0.5 0.5 0.5 0.5 0.5 0.5 0.5\n",
            "   0.5 0.5 0.5 0.5 0.5 0.5 0.5 0.5 0.5 0.5 0.5 0.5 0.5 0.5 0.5 0.5 0.5\n",
            "   0.5]\n",
            "  [0.5 0.5 0.5 0.5 0.5 0.5 0.5 0.5 0.5 0.5 0.5 0.5 0.5 0.5 0.5 0.5 0.5\n",
            "   0.5 0.5 0.5 0.5 0.5 0.5 0.5 0.5 0.5 0.5 0.5 0.5 0.5 0.5 0.5 0.5 0.5\n",
            "   0.5]\n",
            "  [0.5 0.5 0.5 0.5 0.5 0.5 0.5 0.5 0.5 0.5 0.5 0.5 0.5 0.5 0.5 0.5 0.5\n",
            "   0.5 0.5 0.5 0.5 0.5 0.5 0.5 0.5 0.5 0.5 0.5 0.5 0.5 0.5 0.5 0.5 0.5\n",
            "   0.5]\n",
            "  [0.5 0.5 0.5 0.5 0.5 0.5 0.5 0.5 0.5 0.5 0.5 0.5 0.5 0.5 0.5 0.5 0.5\n",
            "   0.5 0.5 0.5 0.5 0.5 0.5 0.5 0.5 0.5 0.5 0.5 0.5 0.5 0.5 0.5 0.5 0.5\n",
            "   0.5]\n",
            "  [0.5 0.5 0.5 0.5 0.5 0.5 0.5 0.5 0.5 0.5 0.5 0.5 0.5 0.5 0.5 0.5 0.5\n",
            "   0.5 0.5 0.5 0.5 0.5 0.5 0.5 0.5 0.5 0.5 0.5 0.5 0.5 0.5 0.5 0.5 0.5\n",
            "   0.5]]]\n",
            "\n",
            "request[[0.]]\n",
            "\n"
          ]
        }
      ],
      "source": [
        "wanna_ouput = 0.0\n",
        "state_setting = 0.5 # min max\n",
        "s = torch.full((1,time_step,state_size),state_setting)\n",
        "r = torch.full((1,request_size),wanna_ouput)\n",
        "a = model.actor_forward(s,r,eval=True)\n",
        "v = model.critic_forward(s,a,eval=True)\n",
        "print(f'state{s.numpy()}\\n')\n",
        "print(f'request{r.numpy()}\\n')"
      ]
    },
    {
      "cell_type": "code",
      "execution_count": 36,
      "metadata": {
        "colab": {
          "base_uri": "https://localhost:8080/",
          "height": 363
        },
        "id": "gN-HtkanpFWw",
        "outputId": "334cbfad-da6f-471a-ec55-450e7e28d633"
      },
      "outputs": [
        {
          "output_type": "execute_result",
          "data": {
            "text/plain": [
              "<pandas.io.formats.style.Styler at 0x7f96e0853580>"
            ],
            "text/html": [
              "<style type=\"text/css\">\n",
              "#T_af987_row0_col0, #T_af987_row1_col0, #T_af987_row2_col0, #T_af987_row3_col0, #T_af987_row7_col0, #T_af987_row8_col0, #T_af987_row9_col0 {\n",
              "  background-color: #023858;\n",
              "  color: #f1f1f1;\n",
              "}\n",
              "#T_af987_row4_col0 {\n",
              "  background-color: #02395a;\n",
              "  color: #f1f1f1;\n",
              "}\n",
              "#T_af987_row5_col0 {\n",
              "  background-color: #fff7fb;\n",
              "  color: #000000;\n",
              "}\n",
              "#T_af987_row6_col0 {\n",
              "  background-color: #023d60;\n",
              "  color: #f1f1f1;\n",
              "}\n",
              "</style>\n",
              "<table id=\"T_af987\" class=\"dataframe\">\n",
              "  <thead>\n",
              "    <tr>\n",
              "      <th class=\"blank level0\" >&nbsp;</th>\n",
              "      <th id=\"T_af987_level0_col0\" class=\"col_heading level0 col0\" >0</th>\n",
              "    </tr>\n",
              "  </thead>\n",
              "  <tbody>\n",
              "    <tr>\n",
              "      <th id=\"T_af987_level0_row0\" class=\"row_heading level0 row0\" >0</th>\n",
              "      <td id=\"T_af987_row0_col0\" class=\"data row0 col0\" >0.999998</td>\n",
              "    </tr>\n",
              "    <tr>\n",
              "      <th id=\"T_af987_level0_row1\" class=\"row_heading level0 row1\" >1</th>\n",
              "      <td id=\"T_af987_row1_col0\" class=\"data row1 col0\" >1.000000</td>\n",
              "    </tr>\n",
              "    <tr>\n",
              "      <th id=\"T_af987_level0_row2\" class=\"row_heading level0 row2\" >2</th>\n",
              "      <td id=\"T_af987_row2_col0\" class=\"data row2 col0\" >1.000000</td>\n",
              "    </tr>\n",
              "    <tr>\n",
              "      <th id=\"T_af987_level0_row3\" class=\"row_heading level0 row3\" >3</th>\n",
              "      <td id=\"T_af987_row3_col0\" class=\"data row3 col0\" >0.999998</td>\n",
              "    </tr>\n",
              "    <tr>\n",
              "      <th id=\"T_af987_level0_row4\" class=\"row_heading level0 row4\" >4</th>\n",
              "      <td id=\"T_af987_row4_col0\" class=\"data row4 col0\" >0.995297</td>\n",
              "    </tr>\n",
              "    <tr>\n",
              "      <th id=\"T_af987_level0_row5\" class=\"row_heading level0 row5\" >5</th>\n",
              "      <td id=\"T_af987_row5_col0\" class=\"data row5 col0\" >0.376357</td>\n",
              "    </tr>\n",
              "    <tr>\n",
              "      <th id=\"T_af987_level0_row6\" class=\"row_heading level0 row6\" >6</th>\n",
              "      <td id=\"T_af987_row6_col0\" class=\"data row6 col0\" >0.986950</td>\n",
              "    </tr>\n",
              "    <tr>\n",
              "      <th id=\"T_af987_level0_row7\" class=\"row_heading level0 row7\" >7</th>\n",
              "      <td id=\"T_af987_row7_col0\" class=\"data row7 col0\" >0.999919</td>\n",
              "    </tr>\n",
              "    <tr>\n",
              "      <th id=\"T_af987_level0_row8\" class=\"row_heading level0 row8\" >8</th>\n",
              "      <td id=\"T_af987_row8_col0\" class=\"data row8 col0\" >0.999995</td>\n",
              "    </tr>\n",
              "    <tr>\n",
              "      <th id=\"T_af987_level0_row9\" class=\"row_heading level0 row9\" >9</th>\n",
              "      <td id=\"T_af987_row9_col0\" class=\"data row9 col0\" >1.000000</td>\n",
              "    </tr>\n",
              "  </tbody>\n",
              "</table>\n"
            ]
          },
          "metadata": {},
          "execution_count": 36
        }
      ],
      "source": [
        "# 模型建議操作\n",
        "pd.DataFrame(a[0].detach().numpy()).style.background_gradient()"
      ]
    },
    {
      "cell_type": "code",
      "execution_count": 37,
      "metadata": {
        "colab": {
          "base_uri": "https://localhost:8080/"
        },
        "id": "FoFv6-0IpHHY",
        "outputId": "ca7b5db7-287d-4d8c-e66b-bfd6ee8cd6df"
      },
      "outputs": [
        {
          "output_type": "stream",
          "name": "stdout",
          "text": [
            "value:0.5265255570411682\n",
            "\n"
          ]
        }
      ],
      "source": [
        "# 模型預測根據上述操作應當的產出\n",
        "print(f'value:{v.detach().numpy()[0][0]}\\n')"
      ]
    },
    {
      "cell_type": "markdown",
      "metadata": {
        "id": "N0PqGLxoGjnm"
      },
      "source": [
        "# r2 rse mape"
      ]
    },
    {
      "cell_type": "code",
      "source": [
        "from sklearn.metrics import r2_score,mean_squared_error\n",
        "def mape(y_true, y_pred):\n",
        "  try:\n",
        "    y_true, y_pred = np.array(y_true), np.array(y_pred)\n",
        "  except:\n",
        "    pass\n",
        "    return np.mean(np.abs((y_true - y_pred) / y_true)) * 100"
      ],
      "metadata": {
        "id": "aGjbYiy0Er6n"
      },
      "execution_count": 38,
      "outputs": []
    },
    {
      "cell_type": "markdown",
      "source": [
        "# TRAIN KPI"
      ],
      "metadata": {
        "id": "wtG5dTs1Etf2"
      }
    },
    {
      "cell_type": "code",
      "execution_count": 39,
      "metadata": {
        "colab": {
          "base_uri": "https://localhost:8080/"
        },
        "id": "4sISkpBr3MfH",
        "outputId": "d6de1917-bbfb-4d8e-db74-dfa2c4458d4d"
      },
      "outputs": [
        {
          "output_type": "execute_result",
          "data": {
            "text/plain": [
              "(0.9507795461432907, 0.020130574420791903, None)"
            ]
          },
          "metadata": {},
          "execution_count": 39
        }
      ],
      "source": [
        "v_hat = model.critic_forward(\n",
        "    FloatTensor(data['state']),\n",
        "    FloatTensor(data['action']),eval=True).detach().numpy()\n",
        "r2 = r2_score(v_hat,data['value'])\n",
        "rmse = np.sqrt(mean_squared_error(v_hat,data['value']))\n",
        "mape_ = mape(v_hat,data['value'])\n",
        "r2,rmse,mape_"
      ]
    },
    {
      "cell_type": "markdown",
      "source": [
        "# TEST KPI"
      ],
      "metadata": {
        "id": "42E6jz3sEyB2"
      }
    },
    {
      "cell_type": "code",
      "execution_count": 40,
      "metadata": {
        "colab": {
          "base_uri": "https://localhost:8080/"
        },
        "id": "bp_j_p7BHn7H",
        "outputId": "e7d5a067-3d65-42d2-a8eb-fb6e8eb6c71c"
      },
      "outputs": [
        {
          "output_type": "execute_result",
          "data": {
            "text/plain": [
              "(0.3266067368390405, 0.09136777177640157, None)"
            ]
          },
          "metadata": {},
          "execution_count": 40
        }
      ],
      "source": [
        "s = FloatTensor(test_data['state'])\n",
        "a = FloatTensor(test_data['action'].reshape(-1,time_step,1))\n",
        "v_hat = model.critic_forward(s,a,eval=True).detach().numpy()\n",
        "\n",
        "r2 = r2_score(v_hat,test_data['value'])\n",
        "rmse = np.sqrt(mean_squared_error(v_hat,test_data['value']))\n",
        "mape_ = mape(v_hat,test_data['value'].astype('float32'))\n",
        "r2,rmse,mape_"
      ]
    },
    {
      "cell_type": "markdown",
      "source": [
        "# TEST RESULT"
      ],
      "metadata": {
        "id": "8pw0mXnAFG2C"
      }
    },
    {
      "cell_type": "code",
      "execution_count": 41,
      "metadata": {
        "colab": {
          "base_uri": "https://localhost:8080/",
          "height": 80
        },
        "id": "bD8xHWd5NwxW",
        "outputId": "f05d4dd1-ec46-4729-e5b1-4e9ad0ea42f0"
      },
      "outputs": [
        {
          "output_type": "execute_result",
          "data": {
            "text/plain": [
              "         r2      rmse                               mape\n",
              "0  0.326607  0.091368  <function mape at 0x7f96c78b6170>"
            ],
            "text/html": [
              "\n",
              "  <div id=\"df-c0c7bac1-af7b-4f1c-8ce6-bedf13e12e2b\" class=\"colab-df-container\">\n",
              "    <div>\n",
              "<style scoped>\n",
              "    .dataframe tbody tr th:only-of-type {\n",
              "        vertical-align: middle;\n",
              "    }\n",
              "\n",
              "    .dataframe tbody tr th {\n",
              "        vertical-align: top;\n",
              "    }\n",
              "\n",
              "    .dataframe thead th {\n",
              "        text-align: right;\n",
              "    }\n",
              "</style>\n",
              "<table border=\"1\" class=\"dataframe\">\n",
              "  <thead>\n",
              "    <tr style=\"text-align: right;\">\n",
              "      <th></th>\n",
              "      <th>r2</th>\n",
              "      <th>rmse</th>\n",
              "      <th>mape</th>\n",
              "    </tr>\n",
              "  </thead>\n",
              "  <tbody>\n",
              "    <tr>\n",
              "      <th>0</th>\n",
              "      <td>0.326607</td>\n",
              "      <td>0.091368</td>\n",
              "      <td>&lt;function mape at 0x7f96c78b6170&gt;</td>\n",
              "    </tr>\n",
              "  </tbody>\n",
              "</table>\n",
              "</div>\n",
              "    <div class=\"colab-df-buttons\">\n",
              "\n",
              "  <div class=\"colab-df-container\">\n",
              "    <button class=\"colab-df-convert\" onclick=\"convertToInteractive('df-c0c7bac1-af7b-4f1c-8ce6-bedf13e12e2b')\"\n",
              "            title=\"Convert this dataframe to an interactive table.\"\n",
              "            style=\"display:none;\">\n",
              "\n",
              "  <svg xmlns=\"http://www.w3.org/2000/svg\" height=\"24px\" viewBox=\"0 -960 960 960\">\n",
              "    <path d=\"M120-120v-720h720v720H120Zm60-500h600v-160H180v160Zm220 220h160v-160H400v160Zm0 220h160v-160H400v160ZM180-400h160v-160H180v160Zm440 0h160v-160H620v160ZM180-180h160v-160H180v160Zm440 0h160v-160H620v160Z\"/>\n",
              "  </svg>\n",
              "    </button>\n",
              "\n",
              "  <style>\n",
              "    .colab-df-container {\n",
              "      display:flex;\n",
              "      gap: 12px;\n",
              "    }\n",
              "\n",
              "    .colab-df-convert {\n",
              "      background-color: #E8F0FE;\n",
              "      border: none;\n",
              "      border-radius: 50%;\n",
              "      cursor: pointer;\n",
              "      display: none;\n",
              "      fill: #1967D2;\n",
              "      height: 32px;\n",
              "      padding: 0 0 0 0;\n",
              "      width: 32px;\n",
              "    }\n",
              "\n",
              "    .colab-df-convert:hover {\n",
              "      background-color: #E2EBFA;\n",
              "      box-shadow: 0px 1px 2px rgba(60, 64, 67, 0.3), 0px 1px 3px 1px rgba(60, 64, 67, 0.15);\n",
              "      fill: #174EA6;\n",
              "    }\n",
              "\n",
              "    .colab-df-buttons div {\n",
              "      margin-bottom: 4px;\n",
              "    }\n",
              "\n",
              "    [theme=dark] .colab-df-convert {\n",
              "      background-color: #3B4455;\n",
              "      fill: #D2E3FC;\n",
              "    }\n",
              "\n",
              "    [theme=dark] .colab-df-convert:hover {\n",
              "      background-color: #434B5C;\n",
              "      box-shadow: 0px 1px 3px 1px rgba(0, 0, 0, 0.15);\n",
              "      filter: drop-shadow(0px 1px 2px rgba(0, 0, 0, 0.3));\n",
              "      fill: #FFFFFF;\n",
              "    }\n",
              "  </style>\n",
              "\n",
              "    <script>\n",
              "      const buttonEl =\n",
              "        document.querySelector('#df-c0c7bac1-af7b-4f1c-8ce6-bedf13e12e2b button.colab-df-convert');\n",
              "      buttonEl.style.display =\n",
              "        google.colab.kernel.accessAllowed ? 'block' : 'none';\n",
              "\n",
              "      async function convertToInteractive(key) {\n",
              "        const element = document.querySelector('#df-c0c7bac1-af7b-4f1c-8ce6-bedf13e12e2b');\n",
              "        const dataTable =\n",
              "          await google.colab.kernel.invokeFunction('convertToInteractive',\n",
              "                                                    [key], {});\n",
              "        if (!dataTable) return;\n",
              "\n",
              "        const docLinkHtml = 'Like what you see? Visit the ' +\n",
              "          '<a target=\"_blank\" href=https://colab.research.google.com/notebooks/data_table.ipynb>data table notebook</a>'\n",
              "          + ' to learn more about interactive tables.';\n",
              "        element.innerHTML = '';\n",
              "        dataTable['output_type'] = 'display_data';\n",
              "        await google.colab.output.renderOutput(dataTable, element);\n",
              "        const docLink = document.createElement('div');\n",
              "        docLink.innerHTML = docLinkHtml;\n",
              "        element.appendChild(docLink);\n",
              "      }\n",
              "    </script>\n",
              "  </div>\n",
              "\n",
              "    </div>\n",
              "  </div>\n"
            ]
          },
          "metadata": {},
          "execution_count": 41
        }
      ],
      "source": [
        "result = pd.DataFrame()\n",
        "result['r2'] = [r2]\n",
        "result['rmse'] = [rmse]\n",
        "result['mape'] = [mape]\n",
        "result"
      ]
    },
    {
      "cell_type": "code",
      "execution_count": 31,
      "metadata": {
        "id": "gmalqUUgOqB-"
      },
      "outputs": [],
      "source": []
    }
  ],
  "metadata": {
    "colab": {
      "provenance": [],
      "gpuType": "T4",
      "include_colab_link": true
    },
    "kernelspec": {
      "display_name": "Python 3",
      "name": "python3"
    },
    "language_info": {
      "codemirror_mode": {
        "name": "ipython",
        "version": 3
      },
      "file_extension": ".py",
      "mimetype": "text/x-python",
      "name": "python",
      "nbconvert_exporter": "python",
      "pygments_lexer": "ipython3",
      "version": "3.11.5"
    },
    "accelerator": "GPU"
  },
  "nbformat": 4,
  "nbformat_minor": 0
}