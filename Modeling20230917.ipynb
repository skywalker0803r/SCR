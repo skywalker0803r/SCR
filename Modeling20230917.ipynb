{
  "cells": [
    {
      "cell_type": "markdown",
      "metadata": {
        "id": "view-in-github",
        "colab_type": "text"
      },
      "source": [
        "<a href=\"https://colab.research.google.com/github/skywalker0803r/SCR/blob/main/Modeling20230917.ipynb\" target=\"_parent\"><img src=\"https://colab.research.google.com/assets/colab-badge.svg\" alt=\"Open In Colab\"/></a>"
      ]
    },
    {
      "cell_type": "code",
      "source": [
        "from google.colab import drive\n",
        "drive.mount('/content/drive')"
      ],
      "metadata": {
        "id": "gZSjFXDz8h7e",
        "outputId": "b3c6c8ed-b97c-4d4c-8595-c6cf1dd69fb0",
        "colab": {
          "base_uri": "https://localhost:8080/"
        }
      },
      "execution_count": 1,
      "outputs": [
        {
          "output_type": "stream",
          "name": "stdout",
          "text": [
            "Drive already mounted at /content/drive; to attempt to forcibly remount, call drive.mount(\"/content/drive\", force_remount=True).\n"
          ]
        }
      ]
    },
    {
      "cell_type": "code",
      "execution_count": 2,
      "metadata": {
        "id": "lGoj9pl8IYn2"
      },
      "outputs": [],
      "source": [
        "import torch\n",
        "import torch.nn as nn\n",
        "import numpy as np\n",
        "from torch.optim import Adam\n",
        "import pandas as pd\n",
        "from torch.utils.data import TensorDataset,DataLoader\n",
        "from torch import FloatTensor"
      ]
    },
    {
      "cell_type": "markdown",
      "source": [
        "# data"
      ],
      "metadata": {
        "id": "dGgbbrzp_Fh3"
      }
    },
    {
      "cell_type": "code",
      "execution_count": 3,
      "metadata": {
        "id": "lzfun588Iuzo"
      },
      "outputs": [],
      "source": [
        "import joblib\n",
        "data = joblib.load('/content/drive/MyDrive/SCR/train_dataset.pkl')\n",
        "test_data = joblib.load('/content/drive/MyDrive/SCR/test_dataset.pkl')"
      ]
    },
    {
      "cell_type": "markdown",
      "source": [
        "# B,T,F\n"
      ],
      "metadata": {
        "id": "5x7Xv5CE_Nub"
      }
    },
    {
      "cell_type": "code",
      "execution_count": 4,
      "metadata": {
        "colab": {
          "base_uri": "https://localhost:8080/"
        },
        "id": "wY7pAqEKLVTp",
        "outputId": "cb6d5fe8-8ef1-4c98-f0ec-ca65edc45a4c"
      },
      "outputs": [
        {
          "output_type": "execute_result",
          "data": {
            "text/plain": [
              "(54046, 3, 35)"
            ]
          },
          "metadata": {},
          "execution_count": 4
        }
      ],
      "source": [
        "data['state'].shape"
      ]
    },
    {
      "cell_type": "code",
      "execution_count": 5,
      "metadata": {
        "colab": {
          "base_uri": "https://localhost:8080/"
        },
        "id": "v3XGdjpRRyA5",
        "outputId": "35920302-d1fc-4354-f6d7-06bd0c1b23c1"
      },
      "outputs": [
        {
          "output_type": "execute_result",
          "data": {
            "text/plain": [
              "(54046, 3)"
            ]
          },
          "metadata": {},
          "execution_count": 5
        }
      ],
      "source": [
        "data['action'].shape"
      ]
    },
    {
      "cell_type": "markdown",
      "source": [
        "#  B,T,F\n"
      ],
      "metadata": {
        "id": "Bgezsetl_Q_F"
      }
    },
    {
      "cell_type": "code",
      "execution_count": 6,
      "metadata": {
        "colab": {
          "base_uri": "https://localhost:8080/"
        },
        "id": "v5N10o9PEbvi",
        "outputId": "28ec385c-7936-446b-c35b-cb1c2727b164"
      },
      "outputs": [
        {
          "output_type": "execute_result",
          "data": {
            "text/plain": [
              "(54046, 3, 1)"
            ]
          },
          "metadata": {},
          "execution_count": 6
        }
      ],
      "source": [
        "data['action'] = data['action'].reshape(-1,data['action'].shape[-1],1)\n",
        "data['action'].shape"
      ]
    },
    {
      "cell_type": "markdown",
      "source": [
        "#  B,F\n"
      ],
      "metadata": {
        "id": "T8s0UY5c_S29"
      }
    },
    {
      "cell_type": "code",
      "execution_count": 7,
      "metadata": {
        "colab": {
          "base_uri": "https://localhost:8080/"
        },
        "id": "Ykf8z30xRzmi",
        "outputId": "1789c7bf-e189-4a2d-9243-29efb7051f27"
      },
      "outputs": [
        {
          "output_type": "execute_result",
          "data": {
            "text/plain": [
              "(54046, 1)"
            ]
          },
          "metadata": {},
          "execution_count": 7
        }
      ],
      "source": [
        "data['value'].shape"
      ]
    },
    {
      "cell_type": "code",
      "execution_count": 8,
      "metadata": {
        "id": "ZCXDKTsRIt08"
      },
      "outputs": [],
      "source": [
        "data_size = len(data['value'])\n",
        "batch_size = 128\n",
        "hidden_size = 128\n",
        "request_size = 1\n",
        "state_size = data['state'].shape[-1]\n",
        "value_size = data['value'].shape[-1]\n",
        "action_size = data['action'].shape[-1]\n",
        "time_step = data['state'].shape[1]"
      ]
    },
    {
      "cell_type": "code",
      "execution_count": 9,
      "metadata": {
        "id": "H1dEIPwsLvQj"
      },
      "outputs": [],
      "source": [
        "d = {}\n",
        "d['state'] = FloatTensor(data['state'])\n",
        "d['action'] = FloatTensor(data['action'])\n",
        "d['value'] = FloatTensor(data['value'])\n",
        "d['request'] = FloatTensor(torch.rand(data_size,request_size)) # uniform distribution\n",
        "d = TensorDataset(d['state'],d['request'],d['action'],d['value'])\n",
        "train_iter = DataLoader(d,batch_size,shuffle=False)"
      ]
    },
    {
      "cell_type": "code",
      "execution_count": 10,
      "metadata": {
        "id": "DcRvsj3UL4JC"
      },
      "outputs": [],
      "source": [
        "class R2D2(nn.Module):\n",
        "  def __init__(self,obs_size,n_actions,hidden_size):\n",
        "    super().__init__()\n",
        "    self.hidden_size = hidden_size\n",
        "    self.l1 = nn.Linear(obs_size,self.hidden_size)\n",
        "    self.l2 = nn.LSTMCell(self.hidden_size,self.hidden_size)\n",
        "    self.l3 = nn.Linear(self.hidden_size,n_actions)\n",
        "    self.dropout = nn.Dropout (p = 0.25)\n",
        "\n",
        "  def forward(self,x,hx,cx):\n",
        "    x = torch.tanh(self.l1(x))\n",
        "    hx,cx = self.l2(x,(hx,cx))\n",
        "    #x = self.dropout(hx)\n",
        "    x = torch.tanh(hx)\n",
        "    x = torch.sigmoid(self.l3(x)) # to range[0,1]\n",
        "    return x,hx,cx"
      ]
    },
    {
      "cell_type": "code",
      "execution_count": 11,
      "metadata": {
        "id": "wNRYY69PL9bt"
      },
      "outputs": [],
      "source": [
        "class ActorCritic(nn.Module):\n",
        "  def __init__(self,actor,critic,time_step):\n",
        "    super().__init__()\n",
        "\n",
        "    # TIME\n",
        "    self.time_step = time_step\n",
        "\n",
        "    # ACTOR OR 優化搜索模型\n",
        "    self.actor = actor\n",
        "    self.actor_optimizer = Adam(actor.parameters(),lr=1e-3)\n",
        "\n",
        "    # CRITIC OR 代理模型\n",
        "    self.critic = critic\n",
        "    self.critic_optimizer = Adam(critic.parameters(),lr=1e-3)\n",
        "\n",
        "  def forward(self,state,request):\n",
        "    actions = self.actor_forward(state,request)\n",
        "    values = self.critic_forward(state,actions)\n",
        "    return values\n",
        "\n",
        "  def actor_forward(self,state,request,eval=False):\n",
        "    '''\n",
        "    # 給定狀態(不可控)和需求 輸出一系列動作\n",
        "    '''\n",
        "    # 切換模式\n",
        "    if eval == True:\n",
        "      self.actor.eval()\n",
        "    else:\n",
        "      self.actor.train()\n",
        "\n",
        "    # 初始化隱變量 LSTM特有的長短期記憶\n",
        "    hx = torch.zeros((state.size()[0],actor.hidden_size))\n",
        "    cx = torch.zeros((state.size()[0],actor.hidden_size))\n",
        "\n",
        "    # 待會用來存放action element用\n",
        "    actions = torch.FloatTensor()\n",
        "\n",
        "    # 對一定時間長度進行遍歷將state給actor forward 並將結果蒐集起來\n",
        "    for t in range(self.time_step):\n",
        "      a,hx,cx = self.actor(torch.cat((state[:,t,:],request),dim=1),hx,cx)\n",
        "      actions = torch.cat((actions,a),dim=1)\n",
        "\n",
        "    # 一系列動作 (Batch,Time,Features)\n",
        "    actions = actions.reshape(state.size()[0],self.time_step,-1)\n",
        "\n",
        "    return actions\n",
        "\n",
        "  def critic_forward(self,state,action,eval=False):\n",
        "    '''\n",
        "    # 輸入狀態(不可控)和一系列動作(可控),預測產出\n",
        "    '''\n",
        "\n",
        "    # 切換模式\n",
        "    if eval == True:\n",
        "      self.critic.eval()\n",
        "    else:\n",
        "      self.critic.train()\n",
        "\n",
        "    # 初始化 隱變量 長短期記憶\n",
        "    hx = torch.zeros((state.size()[0],critic.hidden_size))\n",
        "    cx = torch.zeros((state.size()[0],critic.hidden_size))\n",
        "\n",
        "    # 建立values的存放區\n",
        "    values = torch.FloatTensor()\n",
        "\n",
        "    # 對時間點遍歷 將state,action依序放入critic取得v並將v蒐集起來\n",
        "    for t in range(self.time_step):\n",
        "      # 根據當前t時刻狀態,動作,hx,cx當輸入得到,v(產出),更新hx,cx\n",
        "      v,hx,cx = self.critic(torch.cat((state[:,t,:],action[:,t,:]),dim=1),hx,cx)\n",
        "      values = torch.cat((values,v),dim=1)\n",
        "\n",
        "    # 一系列產出(Batch,Time,Features)\n",
        "    values = values.reshape(state.size()[0],self.time_step,-1)\n",
        "\n",
        "    # 只取最後一個時間點的v (Batch,Time,Features)\n",
        "    return values[:,-1,:] # return last time_step\n",
        "\n",
        "  def train_critic(self,state,action,value):\n",
        "    '''\n",
        "    x: [state,action]\n",
        "    y: [value]\n",
        "    '監督式學習'\n",
        "    '''\n",
        "    self.critic.train()#可訓練\n",
        "    self.actor.eval()#凍結權重\n",
        "\n",
        "    # 計算預測值:hat\n",
        "    value_hat = self.critic_forward(state,action)\n",
        "\n",
        "    # 預測值跟label的平方差愈小愈好\n",
        "    loss = ((value_hat - value)**2).mean()\n",
        "    # loss 反向傳播\n",
        "    loss.backward()\n",
        "\n",
        "    # 使用optimizer優化\n",
        "    self.critic_optimizer.step()\n",
        "    self.critic_optimizer.zero_grad()\n",
        "    return loss.item()\n",
        "\n",
        "  def train_actor(self,state,request):\n",
        "    '''\n",
        "    x: [state,request]\n",
        "    y: maximum critic value\n",
        "    '最小化產出跟request的差異'\n",
        "    '''\n",
        "    self.actor.train()\n",
        "    self.critic.eval()\n",
        "    actions = self.actor_forward(state,request)\n",
        "    value_hat = self.critic_forward(state,actions)\n",
        "\n",
        "    # 首先預測值跟需求的平方差愈小愈好\n",
        "    loss1 = ((request - value_hat)**2).mean()\n",
        "\n",
        "    # 再來避免\"變異數太大(時間維度上)\" 因為盤控人員不可能突然調太多\n",
        "    #loss2 = actions.reshape(-1,time_step,action_size).std(axis=1)\n",
        "    #loss2 = loss2.sum(axis=-1).mean(axis=0)\n",
        "\n",
        "    loss = loss1 #+ loss2\n",
        "    loss.backward()\n",
        "\n",
        "    self.actor_optimizer.step()\n",
        "    self.actor.zero_grad()\n",
        "\n",
        "    return loss.item()"
      ]
    },
    {
      "cell_type": "markdown",
      "source": [
        "# 實例化模型"
      ],
      "metadata": {
        "id": "8WIqv3VRBOSf"
      }
    },
    {
      "cell_type": "code",
      "execution_count": 12,
      "metadata": {
        "id": "fIgK0jEZMC_6"
      },
      "outputs": [],
      "source": [
        "# actor吃狀態跟需求輸出操作建議\n",
        "actor = R2D2(state_size+request_size,action_size,hidden_size)\n",
        "# critic吃狀態跟操作輸出最後產品產出量(預估)\n",
        "critic = R2D2(state_size+action_size,value_size,hidden_size)\n",
        "# 實例化這個ActorCritic架構\n",
        "model = ActorCritic(actor,critic,time_step)"
      ]
    },
    {
      "cell_type": "markdown",
      "source": [
        "# 隨機產生數據測試s:state,r:request"
      ],
      "metadata": {
        "id": "rQVBPf1jBlRm"
      }
    },
    {
      "cell_type": "code",
      "execution_count": 13,
      "metadata": {
        "colab": {
          "base_uri": "https://localhost:8080/"
        },
        "id": "8AwpFSElMI9K",
        "outputId": "933dd6d6-1cdd-46a9-efc9-0e55c4be6bb0"
      },
      "outputs": [
        {
          "output_type": "execute_result",
          "data": {
            "text/plain": [
              "(torch.Size([1, 3, 35]), torch.Size([1, 1]))"
            ]
          },
          "metadata": {},
          "execution_count": 13
        }
      ],
      "source": [
        "s = torch.rand(1,time_step,state_size)#(B,T,s_dim)\n",
        "r = torch.rand(1,request_size)#(B,r_dim)\n",
        "s.shape,r.shape"
      ]
    },
    {
      "cell_type": "markdown",
      "source": [
        "# 前向傳播測試"
      ],
      "metadata": {
        "id": "23771Uc0Bpbe"
      }
    },
    {
      "cell_type": "code",
      "execution_count": 14,
      "metadata": {
        "colab": {
          "base_uri": "https://localhost:8080/"
        },
        "id": "hwolp-9JMaya",
        "outputId": "730dfa70-536e-4ea4-dfc6-6c00d3890bcc"
      },
      "outputs": [
        {
          "output_type": "execute_result",
          "data": {
            "text/plain": [
              "tensor([[0.5094]], grad_fn=<SliceBackward0>)"
            ]
          },
          "metadata": {},
          "execution_count": 14
        }
      ],
      "source": [
        "model.forward(s,r)"
      ]
    },
    {
      "cell_type": "code",
      "execution_count": 15,
      "metadata": {
        "colab": {
          "base_uri": "https://localhost:8080/",
          "height": 70
        },
        "id": "8z8zsU9JUZJQ",
        "outputId": "826d259b-4fb8-45c1-ba1c-06f9511c32c3"
      },
      "outputs": [
        {
          "output_type": "execute_result",
          "data": {
            "text/plain": [
              "'\\n%load_ext tensorboard\\nfrom datetime import datetime\\nimport time\\nfrom torch.utils.tensorboard import SummaryWriter\\nlogdir=\"logs/fit/\" + datetime.now().strftime(\"%Y%m%d-%H%M%S\")\\nwriter = SummaryWriter(log_dir=logdir)\\nwriter.add_graph(model,[s,r])\\nwriter.close()\\n%tensorboard --logdir logs\\n'"
            ],
            "application/vnd.google.colaboratory.intrinsic+json": {
              "type": "string"
            }
          },
          "metadata": {},
          "execution_count": 15
        }
      ],
      "source": [
        "'''\n",
        "%load_ext tensorboard\n",
        "from datetime import datetime\n",
        "import time\n",
        "from torch.utils.tensorboard import SummaryWriter\n",
        "logdir=\"logs/fit/\" + datetime.now().strftime(\"%Y%m%d-%H%M%S\")\n",
        "writer = SummaryWriter(log_dir=logdir)\n",
        "writer.add_graph(model,[s,r])\n",
        "writer.close()\n",
        "%tensorboard --logdir logs\n",
        "'''"
      ]
    },
    {
      "cell_type": "markdown",
      "metadata": {
        "id": "joK1Qrv0M1o7"
      },
      "source": [
        "# 定義訓練函數"
      ]
    },
    {
      "cell_type": "code",
      "execution_count": 16,
      "metadata": {
        "id": "dR78zoykUtql"
      },
      "outputs": [],
      "source": [
        "def train_critic():\n",
        "  loss = 0\n",
        "  for i,(bs,br,ba,bv) in enumerate(train_iter):\n",
        "    loss += model.train_critic(bs,ba,bv)\n",
        "  return loss\n",
        "\n",
        "def train_actor():\n",
        "  loss = 0\n",
        "  for i,(bs,br,ba,bv) in enumerate(train_iter):\n",
        "    loss += model.train_actor(bs,br)\n",
        "  return loss\n",
        "\n",
        "def train(model,train_iter,epochs=100):\n",
        "  train_history = {}\n",
        "  train_history['actor'] = []\n",
        "  train_history['critic'] = []\n",
        "\n",
        "  # 先訓練critic代理模型(希望此代理模型訓練後夠接近真實世界情況)\n",
        "  for epoch in range(epochs):\n",
        "    loss = train_critic()\n",
        "    train_history['critic'].append(loss)\n",
        "    print('epoch:{} critic_loss:{}'.format(epoch,loss))\n",
        "\n",
        "  # 代理模型訓練完之後就假設此critic代理模型已經是(真實世界情況)\n",
        "  # 因此若假設成立則可以在此critic代理模型再進行最佳解的搜索\n",
        "  # 這裡的搜索是利用神經網路actor,從一開始隨便給action觀察loss(這裡loss定義為使用者期待跟實際落差)\n",
        "  # 然後不斷降低這個loss的過程,稱之為神經網路actor的搜索,也可以將其視為神經網路actor的訓練\n",
        "  for epoch in range(epochs):\n",
        "    loss = train_actor()\n",
        "    train_history['actor'].append(loss)\n",
        "    print('epoch:{} actor_loss:{}'.format(epoch,loss))\n",
        "\n",
        "  return model,train_history"
      ]
    },
    {
      "cell_type": "markdown",
      "source": [
        "# 從train_iter 採些資料出來讓actor forward"
      ],
      "metadata": {
        "id": "GBF0q5vlCrYw"
      }
    },
    {
      "cell_type": "code",
      "execution_count": 17,
      "metadata": {
        "colab": {
          "base_uri": "https://localhost:8080/",
          "height": 160
        },
        "id": "E1mMtJB6UyUT",
        "outputId": "c30b2ee3-a238-4410-f7af-109d6185f631"
      },
      "outputs": [
        {
          "output_type": "stream",
          "name": "stdout",
          "text": [
            "以下是actor根據狀態和需求給出的操作建議\n"
          ]
        },
        {
          "output_type": "execute_result",
          "data": {
            "text/plain": [
              "<pandas.io.formats.style.Styler at 0x790c8d8a3400>"
            ],
            "text/html": [
              "<style type=\"text/css\">\n",
              "#T_7b146_row0_col0 {\n",
              "  background-color: #fff7fb;\n",
              "  color: #000000;\n",
              "}\n",
              "#T_7b146_row1_col0 {\n",
              "  background-color: #045e93;\n",
              "  color: #f1f1f1;\n",
              "}\n",
              "#T_7b146_row2_col0 {\n",
              "  background-color: #023858;\n",
              "  color: #f1f1f1;\n",
              "}\n",
              "</style>\n",
              "<table id=\"T_7b146\" class=\"dataframe\">\n",
              "  <thead>\n",
              "    <tr>\n",
              "      <th class=\"blank level0\" >&nbsp;</th>\n",
              "      <th id=\"T_7b146_level0_col0\" class=\"col_heading level0 col0\" >0</th>\n",
              "    </tr>\n",
              "  </thead>\n",
              "  <tbody>\n",
              "    <tr>\n",
              "      <th id=\"T_7b146_level0_row0\" class=\"row_heading level0 row0\" >0</th>\n",
              "      <td id=\"T_7b146_row0_col0\" class=\"data row0 col0\" >0.481272</td>\n",
              "    </tr>\n",
              "    <tr>\n",
              "      <th id=\"T_7b146_level0_row1\" class=\"row_heading level0 row1\" >1</th>\n",
              "      <td id=\"T_7b146_row1_col0\" class=\"data row1 col0\" >0.481474</td>\n",
              "    </tr>\n",
              "    <tr>\n",
              "      <th id=\"T_7b146_level0_row2\" class=\"row_heading level0 row2\" >2</th>\n",
              "      <td id=\"T_7b146_row2_col0\" class=\"data row2 col0\" >0.481508</td>\n",
              "    </tr>\n",
              "  </tbody>\n",
              "</table>\n"
            ]
          },
          "metadata": {},
          "execution_count": 17
        }
      ],
      "source": [
        "a = next(iter(train_iter))\n",
        "s,r,a,v = a\n",
        "actions = model.actor_forward(s,r,eval=True)\n",
        "print('以下是actor根據狀態和需求給出的操作建議')\n",
        "pd.DataFrame(actions[0].detach().numpy()).style.background_gradient()"
      ]
    },
    {
      "cell_type": "markdown",
      "source": [
        "# 執行訓練\n"
      ],
      "metadata": {
        "id": "31Ei6hTBDOMH"
      }
    },
    {
      "cell_type": "code",
      "execution_count": 18,
      "metadata": {
        "colab": {
          "base_uri": "https://localhost:8080/",
          "height": 793
        },
        "id": "kyKzdRUwVPvc",
        "outputId": "4f8d5f8f-b147-410b-ca8f-4b56bf413db9"
      },
      "outputs": [
        {
          "output_type": "stream",
          "name": "stdout",
          "text": [
            "epoch:0 critic_loss:3.197746816649783\n",
            "epoch:1 critic_loss:4.243415304609982\n",
            "epoch:2 critic_loss:4.042506417217169\n",
            "epoch:3 critic_loss:4.092927486562985\n",
            "epoch:4 critic_loss:4.02010541675611\n",
            "epoch:5 critic_loss:4.016633069737736\n",
            "epoch:6 critic_loss:4.0155665883823985\n",
            "epoch:7 critic_loss:4.014931112252839\n",
            "epoch:8 critic_loss:4.014527056116094\n",
            "epoch:9 critic_loss:4.014273061869915\n",
            "epoch:10 critic_loss:4.014133758114724\n",
            "epoch:11 critic_loss:4.014108318378419\n",
            "epoch:12 critic_loss:4.014121488492094\n",
            "epoch:13 critic_loss:4.013812096688412\n",
            "epoch:14 critic_loss:4.014649059362625\n",
            "epoch:15 critic_loss:4.01310657817487\n",
            "epoch:16 critic_loss:4.022615232971418\n",
            "epoch:17 critic_loss:3.9412416233190015\n",
            "epoch:18 critic_loss:4.065875594031752\n",
            "epoch:19 critic_loss:4.053741900679029\n",
            "epoch:20 critic_loss:4.047834011999953\n",
            "epoch:21 critic_loss:4.05791655878852\n",
            "epoch:22 critic_loss:4.013556881300701\n",
            "epoch:23 critic_loss:4.0162574226125685\n",
            "epoch:24 critic_loss:4.01086304678779\n",
            "epoch:25 critic_loss:4.0185391527272145\n",
            "epoch:26 critic_loss:4.007034463515652\n"
          ]
        },
        {
          "output_type": "error",
          "ename": "KeyboardInterrupt",
          "evalue": "ignored",
          "traceback": [
            "\u001b[0;31m---------------------------------------------------------------------------\u001b[0m",
            "\u001b[0;31mKeyboardInterrupt\u001b[0m                         Traceback (most recent call last)",
            "\u001b[0;32m<ipython-input-18-dc3ea162ad24>\u001b[0m in \u001b[0;36m<cell line: 1>\u001b[0;34m()\u001b[0m\n\u001b[0;32m----> 1\u001b[0;31m \u001b[0mmodel\u001b[0m\u001b[0;34m,\u001b[0m\u001b[0mtrain_history\u001b[0m \u001b[0;34m=\u001b[0m \u001b[0mtrain\u001b[0m\u001b[0;34m(\u001b[0m\u001b[0mmodel\u001b[0m\u001b[0;34m,\u001b[0m\u001b[0mtrain_iter\u001b[0m\u001b[0;34m,\u001b[0m\u001b[0mepochs\u001b[0m\u001b[0;34m=\u001b[0m\u001b[0;36m99\u001b[0m\u001b[0;34m)\u001b[0m\u001b[0;34m\u001b[0m\u001b[0;34m\u001b[0m\u001b[0m\n\u001b[0m",
            "\u001b[0;32m<ipython-input-16-093e0f95f6fb>\u001b[0m in \u001b[0;36mtrain\u001b[0;34m(model, train_iter, epochs)\u001b[0m\n\u001b[1;32m     18\u001b[0m   \u001b[0;31m# 先訓練critic代理模型(希望此代理模型訓練後夠接近真實世界情況)\u001b[0m\u001b[0;34m\u001b[0m\u001b[0;34m\u001b[0m\u001b[0m\n\u001b[1;32m     19\u001b[0m   \u001b[0;32mfor\u001b[0m \u001b[0mepoch\u001b[0m \u001b[0;32min\u001b[0m \u001b[0mrange\u001b[0m\u001b[0;34m(\u001b[0m\u001b[0mepochs\u001b[0m\u001b[0;34m)\u001b[0m\u001b[0;34m:\u001b[0m\u001b[0;34m\u001b[0m\u001b[0;34m\u001b[0m\u001b[0m\n\u001b[0;32m---> 20\u001b[0;31m     \u001b[0mloss\u001b[0m \u001b[0;34m=\u001b[0m \u001b[0mtrain_critic\u001b[0m\u001b[0;34m(\u001b[0m\u001b[0;34m)\u001b[0m\u001b[0;34m\u001b[0m\u001b[0;34m\u001b[0m\u001b[0m\n\u001b[0m\u001b[1;32m     21\u001b[0m     \u001b[0mtrain_history\u001b[0m\u001b[0;34m[\u001b[0m\u001b[0;34m'critic'\u001b[0m\u001b[0;34m]\u001b[0m\u001b[0;34m.\u001b[0m\u001b[0mappend\u001b[0m\u001b[0;34m(\u001b[0m\u001b[0mloss\u001b[0m\u001b[0;34m)\u001b[0m\u001b[0;34m\u001b[0m\u001b[0;34m\u001b[0m\u001b[0m\n\u001b[1;32m     22\u001b[0m     \u001b[0mprint\u001b[0m\u001b[0;34m(\u001b[0m\u001b[0;34m'epoch:{} critic_loss:{}'\u001b[0m\u001b[0;34m.\u001b[0m\u001b[0mformat\u001b[0m\u001b[0;34m(\u001b[0m\u001b[0mepoch\u001b[0m\u001b[0;34m,\u001b[0m\u001b[0mloss\u001b[0m\u001b[0;34m)\u001b[0m\u001b[0;34m)\u001b[0m\u001b[0;34m\u001b[0m\u001b[0;34m\u001b[0m\u001b[0m\n",
            "\u001b[0;32m<ipython-input-16-093e0f95f6fb>\u001b[0m in \u001b[0;36mtrain_critic\u001b[0;34m()\u001b[0m\n\u001b[1;32m      2\u001b[0m   \u001b[0mloss\u001b[0m \u001b[0;34m=\u001b[0m \u001b[0;36m0\u001b[0m\u001b[0;34m\u001b[0m\u001b[0;34m\u001b[0m\u001b[0m\n\u001b[1;32m      3\u001b[0m   \u001b[0;32mfor\u001b[0m \u001b[0mi\u001b[0m\u001b[0;34m,\u001b[0m\u001b[0;34m(\u001b[0m\u001b[0mbs\u001b[0m\u001b[0;34m,\u001b[0m\u001b[0mbr\u001b[0m\u001b[0;34m,\u001b[0m\u001b[0mba\u001b[0m\u001b[0;34m,\u001b[0m\u001b[0mbv\u001b[0m\u001b[0;34m)\u001b[0m \u001b[0;32min\u001b[0m \u001b[0menumerate\u001b[0m\u001b[0;34m(\u001b[0m\u001b[0mtrain_iter\u001b[0m\u001b[0;34m)\u001b[0m\u001b[0;34m:\u001b[0m\u001b[0;34m\u001b[0m\u001b[0;34m\u001b[0m\u001b[0m\n\u001b[0;32m----> 4\u001b[0;31m     \u001b[0mloss\u001b[0m \u001b[0;34m+=\u001b[0m \u001b[0mmodel\u001b[0m\u001b[0;34m.\u001b[0m\u001b[0mtrain_critic\u001b[0m\u001b[0;34m(\u001b[0m\u001b[0mbs\u001b[0m\u001b[0;34m,\u001b[0m\u001b[0mba\u001b[0m\u001b[0;34m,\u001b[0m\u001b[0mbv\u001b[0m\u001b[0;34m)\u001b[0m\u001b[0;34m\u001b[0m\u001b[0;34m\u001b[0m\u001b[0m\n\u001b[0m\u001b[1;32m      5\u001b[0m   \u001b[0;32mreturn\u001b[0m \u001b[0mloss\u001b[0m\u001b[0;34m\u001b[0m\u001b[0;34m\u001b[0m\u001b[0m\n\u001b[1;32m      6\u001b[0m \u001b[0;34m\u001b[0m\u001b[0m\n",
            "\u001b[0;32m<ipython-input-11-0b31814b4c93>\u001b[0m in \u001b[0;36mtrain_critic\u001b[0;34m(self, state, action, value)\u001b[0m\n\u001b[1;32m     86\u001b[0m \u001b[0;34m\u001b[0m\u001b[0m\n\u001b[1;32m     87\u001b[0m     \u001b[0;31m# 計算預測值:hat\u001b[0m\u001b[0;34m\u001b[0m\u001b[0;34m\u001b[0m\u001b[0m\n\u001b[0;32m---> 88\u001b[0;31m     \u001b[0mvalue_hat\u001b[0m \u001b[0;34m=\u001b[0m \u001b[0mself\u001b[0m\u001b[0;34m.\u001b[0m\u001b[0mcritic_forward\u001b[0m\u001b[0;34m(\u001b[0m\u001b[0mstate\u001b[0m\u001b[0;34m,\u001b[0m\u001b[0maction\u001b[0m\u001b[0;34m)\u001b[0m\u001b[0;34m\u001b[0m\u001b[0;34m\u001b[0m\u001b[0m\n\u001b[0m\u001b[1;32m     89\u001b[0m \u001b[0;34m\u001b[0m\u001b[0m\n\u001b[1;32m     90\u001b[0m     \u001b[0;31m# 預測值跟label的平方差愈小愈好\u001b[0m\u001b[0;34m\u001b[0m\u001b[0;34m\u001b[0m\u001b[0m\n",
            "\u001b[0;32m<ipython-input-11-0b31814b4c93>\u001b[0m in \u001b[0;36mcritic_forward\u001b[0;34m(self, state, action, eval)\u001b[0m\n\u001b[1;32m     67\u001b[0m     \u001b[0;32mfor\u001b[0m \u001b[0mt\u001b[0m \u001b[0;32min\u001b[0m \u001b[0mrange\u001b[0m\u001b[0;34m(\u001b[0m\u001b[0mself\u001b[0m\u001b[0;34m.\u001b[0m\u001b[0mtime_step\u001b[0m\u001b[0;34m)\u001b[0m\u001b[0;34m:\u001b[0m\u001b[0;34m\u001b[0m\u001b[0;34m\u001b[0m\u001b[0m\n\u001b[1;32m     68\u001b[0m       \u001b[0;31m# 根據當前t時刻狀態,動作,hx,cx當輸入得到,v(產出),更新hx,cx\u001b[0m\u001b[0;34m\u001b[0m\u001b[0;34m\u001b[0m\u001b[0m\n\u001b[0;32m---> 69\u001b[0;31m       \u001b[0mv\u001b[0m\u001b[0;34m,\u001b[0m\u001b[0mhx\u001b[0m\u001b[0;34m,\u001b[0m\u001b[0mcx\u001b[0m \u001b[0;34m=\u001b[0m \u001b[0mself\u001b[0m\u001b[0;34m.\u001b[0m\u001b[0mcritic\u001b[0m\u001b[0;34m(\u001b[0m\u001b[0mtorch\u001b[0m\u001b[0;34m.\u001b[0m\u001b[0mcat\u001b[0m\u001b[0;34m(\u001b[0m\u001b[0;34m(\u001b[0m\u001b[0mstate\u001b[0m\u001b[0;34m[\u001b[0m\u001b[0;34m:\u001b[0m\u001b[0;34m,\u001b[0m\u001b[0mt\u001b[0m\u001b[0;34m,\u001b[0m\u001b[0;34m:\u001b[0m\u001b[0;34m]\u001b[0m\u001b[0;34m,\u001b[0m\u001b[0maction\u001b[0m\u001b[0;34m[\u001b[0m\u001b[0;34m:\u001b[0m\u001b[0;34m,\u001b[0m\u001b[0mt\u001b[0m\u001b[0;34m,\u001b[0m\u001b[0;34m:\u001b[0m\u001b[0;34m]\u001b[0m\u001b[0;34m)\u001b[0m\u001b[0;34m,\u001b[0m\u001b[0mdim\u001b[0m\u001b[0;34m=\u001b[0m\u001b[0;36m1\u001b[0m\u001b[0;34m)\u001b[0m\u001b[0;34m,\u001b[0m\u001b[0mhx\u001b[0m\u001b[0;34m,\u001b[0m\u001b[0mcx\u001b[0m\u001b[0;34m)\u001b[0m\u001b[0;34m\u001b[0m\u001b[0;34m\u001b[0m\u001b[0m\n\u001b[0m\u001b[1;32m     70\u001b[0m       \u001b[0mvalues\u001b[0m \u001b[0;34m=\u001b[0m \u001b[0mtorch\u001b[0m\u001b[0;34m.\u001b[0m\u001b[0mcat\u001b[0m\u001b[0;34m(\u001b[0m\u001b[0;34m(\u001b[0m\u001b[0mvalues\u001b[0m\u001b[0;34m,\u001b[0m\u001b[0mv\u001b[0m\u001b[0;34m)\u001b[0m\u001b[0;34m,\u001b[0m\u001b[0mdim\u001b[0m\u001b[0;34m=\u001b[0m\u001b[0;36m1\u001b[0m\u001b[0;34m)\u001b[0m\u001b[0;34m\u001b[0m\u001b[0;34m\u001b[0m\u001b[0m\n\u001b[1;32m     71\u001b[0m \u001b[0;34m\u001b[0m\u001b[0m\n",
            "\u001b[0;32m/usr/local/lib/python3.10/dist-packages/torch/nn/modules/module.py\u001b[0m in \u001b[0;36m_call_impl\u001b[0;34m(self, *args, **kwargs)\u001b[0m\n\u001b[1;32m   1499\u001b[0m                 \u001b[0;32mor\u001b[0m \u001b[0m_global_backward_pre_hooks\u001b[0m \u001b[0;32mor\u001b[0m \u001b[0m_global_backward_hooks\u001b[0m\u001b[0;34m\u001b[0m\u001b[0;34m\u001b[0m\u001b[0m\n\u001b[1;32m   1500\u001b[0m                 or _global_forward_hooks or _global_forward_pre_hooks):\n\u001b[0;32m-> 1501\u001b[0;31m             \u001b[0;32mreturn\u001b[0m \u001b[0mforward_call\u001b[0m\u001b[0;34m(\u001b[0m\u001b[0;34m*\u001b[0m\u001b[0margs\u001b[0m\u001b[0;34m,\u001b[0m \u001b[0;34m**\u001b[0m\u001b[0mkwargs\u001b[0m\u001b[0;34m)\u001b[0m\u001b[0;34m\u001b[0m\u001b[0;34m\u001b[0m\u001b[0m\n\u001b[0m\u001b[1;32m   1502\u001b[0m         \u001b[0;31m# Do not call functions when jit is used\u001b[0m\u001b[0;34m\u001b[0m\u001b[0;34m\u001b[0m\u001b[0m\n\u001b[1;32m   1503\u001b[0m         \u001b[0mfull_backward_hooks\u001b[0m\u001b[0;34m,\u001b[0m \u001b[0mnon_full_backward_hooks\u001b[0m \u001b[0;34m=\u001b[0m \u001b[0;34m[\u001b[0m\u001b[0;34m]\u001b[0m\u001b[0;34m,\u001b[0m \u001b[0;34m[\u001b[0m\u001b[0;34m]\u001b[0m\u001b[0;34m\u001b[0m\u001b[0;34m\u001b[0m\u001b[0m\n",
            "\u001b[0;32m<ipython-input-10-9cf46b20e2d3>\u001b[0m in \u001b[0;36mforward\u001b[0;34m(self, x, hx, cx)\u001b[0m\n\u001b[1;32m     10\u001b[0m   \u001b[0;32mdef\u001b[0m \u001b[0mforward\u001b[0m\u001b[0;34m(\u001b[0m\u001b[0mself\u001b[0m\u001b[0;34m,\u001b[0m\u001b[0mx\u001b[0m\u001b[0;34m,\u001b[0m\u001b[0mhx\u001b[0m\u001b[0;34m,\u001b[0m\u001b[0mcx\u001b[0m\u001b[0;34m)\u001b[0m\u001b[0;34m:\u001b[0m\u001b[0;34m\u001b[0m\u001b[0;34m\u001b[0m\u001b[0m\n\u001b[1;32m     11\u001b[0m     \u001b[0mx\u001b[0m \u001b[0;34m=\u001b[0m \u001b[0mtorch\u001b[0m\u001b[0;34m.\u001b[0m\u001b[0mtanh\u001b[0m\u001b[0;34m(\u001b[0m\u001b[0mself\u001b[0m\u001b[0;34m.\u001b[0m\u001b[0ml1\u001b[0m\u001b[0;34m(\u001b[0m\u001b[0mx\u001b[0m\u001b[0;34m)\u001b[0m\u001b[0;34m)\u001b[0m\u001b[0;34m\u001b[0m\u001b[0;34m\u001b[0m\u001b[0m\n\u001b[0;32m---> 12\u001b[0;31m     \u001b[0mhx\u001b[0m\u001b[0;34m,\u001b[0m\u001b[0mcx\u001b[0m \u001b[0;34m=\u001b[0m \u001b[0mself\u001b[0m\u001b[0;34m.\u001b[0m\u001b[0ml2\u001b[0m\u001b[0;34m(\u001b[0m\u001b[0mx\u001b[0m\u001b[0;34m,\u001b[0m\u001b[0;34m(\u001b[0m\u001b[0mhx\u001b[0m\u001b[0;34m,\u001b[0m\u001b[0mcx\u001b[0m\u001b[0;34m)\u001b[0m\u001b[0;34m)\u001b[0m\u001b[0;34m\u001b[0m\u001b[0;34m\u001b[0m\u001b[0m\n\u001b[0m\u001b[1;32m     13\u001b[0m     \u001b[0;31m#x = self.dropout(hx)\u001b[0m\u001b[0;34m\u001b[0m\u001b[0;34m\u001b[0m\u001b[0m\n\u001b[1;32m     14\u001b[0m     \u001b[0mx\u001b[0m \u001b[0;34m=\u001b[0m \u001b[0mtorch\u001b[0m\u001b[0;34m.\u001b[0m\u001b[0mtanh\u001b[0m\u001b[0;34m(\u001b[0m\u001b[0mhx\u001b[0m\u001b[0;34m)\u001b[0m\u001b[0;34m\u001b[0m\u001b[0;34m\u001b[0m\u001b[0m\n",
            "\u001b[0;32m/usr/local/lib/python3.10/dist-packages/torch/nn/modules/module.py\u001b[0m in \u001b[0;36m_call_impl\u001b[0;34m(self, *args, **kwargs)\u001b[0m\n\u001b[1;32m   1499\u001b[0m                 \u001b[0;32mor\u001b[0m \u001b[0m_global_backward_pre_hooks\u001b[0m \u001b[0;32mor\u001b[0m \u001b[0m_global_backward_hooks\u001b[0m\u001b[0;34m\u001b[0m\u001b[0;34m\u001b[0m\u001b[0m\n\u001b[1;32m   1500\u001b[0m                 or _global_forward_hooks or _global_forward_pre_hooks):\n\u001b[0;32m-> 1501\u001b[0;31m             \u001b[0;32mreturn\u001b[0m \u001b[0mforward_call\u001b[0m\u001b[0;34m(\u001b[0m\u001b[0;34m*\u001b[0m\u001b[0margs\u001b[0m\u001b[0;34m,\u001b[0m \u001b[0;34m**\u001b[0m\u001b[0mkwargs\u001b[0m\u001b[0;34m)\u001b[0m\u001b[0;34m\u001b[0m\u001b[0;34m\u001b[0m\u001b[0m\n\u001b[0m\u001b[1;32m   1502\u001b[0m         \u001b[0;31m# Do not call functions when jit is used\u001b[0m\u001b[0;34m\u001b[0m\u001b[0;34m\u001b[0m\u001b[0m\n\u001b[1;32m   1503\u001b[0m         \u001b[0mfull_backward_hooks\u001b[0m\u001b[0;34m,\u001b[0m \u001b[0mnon_full_backward_hooks\u001b[0m \u001b[0;34m=\u001b[0m \u001b[0;34m[\u001b[0m\u001b[0;34m]\u001b[0m\u001b[0;34m,\u001b[0m \u001b[0;34m[\u001b[0m\u001b[0;34m]\u001b[0m\u001b[0;34m\u001b[0m\u001b[0;34m\u001b[0m\u001b[0m\n",
            "\u001b[0;32m/usr/local/lib/python3.10/dist-packages/torch/nn/modules/rnn.py\u001b[0m in \u001b[0;36mforward\u001b[0;34m(self, input, hx)\u001b[0m\n\u001b[1;32m   1235\u001b[0m             \u001b[0mhx\u001b[0m \u001b[0;34m=\u001b[0m \u001b[0;34m(\u001b[0m\u001b[0mhx\u001b[0m\u001b[0;34m[\u001b[0m\u001b[0;36m0\u001b[0m\u001b[0;34m]\u001b[0m\u001b[0;34m.\u001b[0m\u001b[0munsqueeze\u001b[0m\u001b[0;34m(\u001b[0m\u001b[0;36m0\u001b[0m\u001b[0;34m)\u001b[0m\u001b[0;34m,\u001b[0m \u001b[0mhx\u001b[0m\u001b[0;34m[\u001b[0m\u001b[0;36m1\u001b[0m\u001b[0;34m]\u001b[0m\u001b[0;34m.\u001b[0m\u001b[0munsqueeze\u001b[0m\u001b[0;34m(\u001b[0m\u001b[0;36m0\u001b[0m\u001b[0;34m)\u001b[0m\u001b[0;34m)\u001b[0m \u001b[0;32mif\u001b[0m \u001b[0;32mnot\u001b[0m \u001b[0mis_batched\u001b[0m \u001b[0;32melse\u001b[0m \u001b[0mhx\u001b[0m\u001b[0;34m\u001b[0m\u001b[0;34m\u001b[0m\u001b[0m\n\u001b[1;32m   1236\u001b[0m \u001b[0;34m\u001b[0m\u001b[0m\n\u001b[0;32m-> 1237\u001b[0;31m         ret = _VF.lstm_cell(\n\u001b[0m\u001b[1;32m   1238\u001b[0m             \u001b[0minput\u001b[0m\u001b[0;34m,\u001b[0m \u001b[0mhx\u001b[0m\u001b[0;34m,\u001b[0m\u001b[0;34m\u001b[0m\u001b[0;34m\u001b[0m\u001b[0m\n\u001b[1;32m   1239\u001b[0m             \u001b[0mself\u001b[0m\u001b[0;34m.\u001b[0m\u001b[0mweight_ih\u001b[0m\u001b[0;34m,\u001b[0m \u001b[0mself\u001b[0m\u001b[0;34m.\u001b[0m\u001b[0mweight_hh\u001b[0m\u001b[0;34m,\u001b[0m\u001b[0;34m\u001b[0m\u001b[0;34m\u001b[0m\u001b[0m\n",
            "\u001b[0;31mKeyboardInterrupt\u001b[0m: "
          ]
        }
      ],
      "source": [
        "model,train_history = train(model,train_iter,epochs=99)"
      ]
    },
    {
      "cell_type": "markdown",
      "source": [
        "# 繪製圖表"
      ],
      "metadata": {
        "id": "NSVdvradDRrO"
      }
    },
    {
      "cell_type": "code",
      "execution_count": null,
      "metadata": {
        "id": "7JhLtom4o9o2"
      },
      "outputs": [],
      "source": [
        "import matplotlib.pyplot as plt\n",
        "plt.plot(train_history['critic'])\n",
        "plt.show()\n",
        "plt.plot(train_history['actor'])"
      ]
    },
    {
      "cell_type": "markdown",
      "source": [
        "# 試用訓練好的模型"
      ],
      "metadata": {
        "id": "KjEYWfJJDnl-"
      }
    },
    {
      "cell_type": "code",
      "execution_count": null,
      "metadata": {
        "id": "Eqvn0qJ4pAB_"
      },
      "outputs": [],
      "source": [
        "s,r,a,v = next(iter(train_iter))\n",
        "actions = model.actor_forward(s,r,eval=True)"
      ]
    },
    {
      "cell_type": "markdown",
      "source": [
        "# 訓練好的模型做推薦"
      ],
      "metadata": {
        "id": "yRJNCc9JDiAM"
      }
    },
    {
      "cell_type": "code",
      "execution_count": null,
      "metadata": {
        "id": "jwmUMKXlpBKN"
      },
      "outputs": [],
      "source": [
        "pd.DataFrame(actions[0].detach().numpy()).style.background_gradient()"
      ]
    },
    {
      "cell_type": "markdown",
      "source": [
        "# 歷史上的推薦"
      ],
      "metadata": {
        "id": "Y8SHemdBDlQV"
      }
    },
    {
      "cell_type": "code",
      "source": [
        "pd.DataFrame(a[0].numpy()).style.background_gradient()"
      ],
      "metadata": {
        "id": "zIZ9M_X-Db--"
      },
      "execution_count": null,
      "outputs": []
    },
    {
      "cell_type": "markdown",
      "source": [
        "# 使用訓練好的模型產生values"
      ],
      "metadata": {
        "id": "wqz_KXb7DsNe"
      }
    },
    {
      "cell_type": "code",
      "execution_count": null,
      "metadata": {
        "id": "bcPdlwYxpCRk"
      },
      "outputs": [],
      "source": [
        "values = model.critic_forward(s[[0]],actions[[0]],eval=True)\n",
        "values"
      ]
    },
    {
      "cell_type": "markdown",
      "source": [
        "# 實際的Values"
      ],
      "metadata": {
        "id": "n5jIm0UBDyf3"
      }
    },
    {
      "cell_type": "code",
      "source": [
        "v[0]"
      ],
      "metadata": {
        "id": "ktgnkMezD41P"
      },
      "execution_count": null,
      "outputs": []
    },
    {
      "cell_type": "markdown",
      "source": [
        "假設廠區有個希望的wanna_ouput\n",
        "\n",
        "假設state目前在常見情況下(0.5表示)\n",
        "\n",
        "看看模型推薦的操作以及預估的產量"
      ],
      "metadata": {
        "id": "MAPI0zV6D_JP"
      }
    },
    {
      "cell_type": "code",
      "execution_count": null,
      "metadata": {
        "id": "djsvUZ-_pEKL"
      },
      "outputs": [],
      "source": [
        "wanna_ouput = 0.0\n",
        "state_setting = 0.5\n",
        "s = torch.full((1,time_step,state_size),state_setting)\n",
        "r = torch.full((1,request_size),wanna_ouput)\n",
        "a = model.actor_forward(s,r,eval=True)\n",
        "v = model.critic_forward(s,a,eval=True)"
      ]
    },
    {
      "cell_type": "code",
      "execution_count": null,
      "metadata": {
        "id": "gN-HtkanpFWw"
      },
      "outputs": [],
      "source": [
        "# 模型建議操作\n",
        "pd.DataFrame(a[0].detach().numpy()).style.background_gradient()"
      ]
    },
    {
      "cell_type": "code",
      "execution_count": null,
      "metadata": {
        "id": "FoFv6-0IpHHY"
      },
      "outputs": [],
      "source": [
        "# 模型預測根據上述操作應當的產出\n",
        "print(f'value:{v.detach().numpy()[0][0]}\\n')"
      ]
    },
    {
      "cell_type": "markdown",
      "metadata": {
        "id": "N0PqGLxoGjnm"
      },
      "source": [
        "# r2 rse mape"
      ]
    },
    {
      "cell_type": "code",
      "source": [
        "from sklearn.metrics import r2_score,mean_squared_error\n",
        "def mape(y_true, y_pred):\n",
        "  try:\n",
        "    y_true, y_pred = np.array(y_true), np.array(y_pred)\n",
        "  except:\n",
        "    pass\n",
        "    return np.mean(np.abs((y_true - y_pred) / y_true)) * 100"
      ],
      "metadata": {
        "id": "aGjbYiy0Er6n"
      },
      "execution_count": null,
      "outputs": []
    },
    {
      "cell_type": "markdown",
      "source": [
        "# TRAIN KPI"
      ],
      "metadata": {
        "id": "wtG5dTs1Etf2"
      }
    },
    {
      "cell_type": "code",
      "execution_count": null,
      "metadata": {
        "id": "4sISkpBr3MfH"
      },
      "outputs": [],
      "source": [
        "v_hat = model.critic_forward(\n",
        "    FloatTensor(data['state']),\n",
        "    FloatTensor(data['action']),eval=True).detach().numpy()\n",
        "r2 = r2_score(v_hat,data['value'])\n",
        "rmse = np.sqrt(mean_squared_error(v_hat,data['value']))\n",
        "mape_ = mape(v_hat,data['value'])\n",
        "r2,rmse,mape_"
      ]
    },
    {
      "cell_type": "markdown",
      "source": [
        "# TEST KPI"
      ],
      "metadata": {
        "id": "42E6jz3sEyB2"
      }
    },
    {
      "cell_type": "code",
      "execution_count": null,
      "metadata": {
        "id": "bp_j_p7BHn7H"
      },
      "outputs": [],
      "source": [
        "s = FloatTensor(test_data['state'])\n",
        "a = FloatTensor(test_data['action'].reshape(-1,time_step,1))\n",
        "v_hat = model.critic_forward(s,a,eval=True).detach().numpy()\n",
        "\n",
        "r2 = r2_score(v_hat,test_data['value'])\n",
        "rmse = np.sqrt(mean_squared_error(v_hat,test_data['value']))\n",
        "mape_ = mape(v_hat,test_data['value'].astype('float32'))\n",
        "r2,rmse,mape_"
      ]
    },
    {
      "cell_type": "markdown",
      "source": [
        "# TEST RESULT"
      ],
      "metadata": {
        "id": "8pw0mXnAFG2C"
      }
    },
    {
      "cell_type": "code",
      "execution_count": null,
      "metadata": {
        "id": "bD8xHWd5NwxW"
      },
      "outputs": [],
      "source": [
        "result = pd.DataFrame()\n",
        "result['r2'] = [r2]\n",
        "result['rmse'] = [rmse]\n",
        "result['mape'] = [mape]\n",
        "result"
      ]
    },
    {
      "cell_type": "code",
      "execution_count": null,
      "metadata": {
        "id": "gmalqUUgOqB-"
      },
      "outputs": [],
      "source": []
    }
  ],
  "metadata": {
    "colab": {
      "provenance": [],
      "gpuType": "T4",
      "include_colab_link": true
    },
    "kernelspec": {
      "display_name": "Python 3",
      "name": "python3"
    },
    "language_info": {
      "codemirror_mode": {
        "name": "ipython",
        "version": 3
      },
      "file_extension": ".py",
      "mimetype": "text/x-python",
      "name": "python",
      "nbconvert_exporter": "python",
      "pygments_lexer": "ipython3",
      "version": "3.11.5"
    },
    "accelerator": "GPU"
  },
  "nbformat": 4,
  "nbformat_minor": 0
}