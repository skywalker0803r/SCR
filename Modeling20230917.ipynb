{
  "cells": [
    {
      "cell_type": "markdown",
      "metadata": {
        "id": "view-in-github",
        "colab_type": "text"
      },
      "source": [
        "<a href=\"https://colab.research.google.com/github/skywalker0803r/SCR/blob/main/Modeling20230917.ipynb\" target=\"_parent\"><img src=\"https://colab.research.google.com/assets/colab-badge.svg\" alt=\"Open In Colab\"/></a>"
      ]
    },
    {
      "cell_type": "code",
      "source": [
        "from google.colab import drive\n",
        "drive.mount('/content/drive')"
      ],
      "metadata": {
        "id": "gZSjFXDz8h7e",
        "outputId": "606e5fb1-be70-454d-fb58-2ecdb6bf976a",
        "colab": {
          "base_uri": "https://localhost:8080/"
        }
      },
      "execution_count": null,
      "outputs": [
        {
          "output_type": "stream",
          "name": "stdout",
          "text": [
            "Drive already mounted at /content/drive; to attempt to forcibly remount, call drive.mount(\"/content/drive\", force_remount=True).\n"
          ]
        }
      ]
    },
    {
      "cell_type": "code",
      "execution_count": null,
      "metadata": {
        "id": "lGoj9pl8IYn2"
      },
      "outputs": [],
      "source": [
        "import torch\n",
        "import torch.nn as nn\n",
        "import numpy as np\n",
        "from torch.optim import Adam\n",
        "import pandas as pd\n",
        "from torch.utils.data import TensorDataset,DataLoader\n",
        "from torch import FloatTensor"
      ]
    },
    {
      "cell_type": "markdown",
      "source": [
        "# data"
      ],
      "metadata": {
        "id": "dGgbbrzp_Fh3"
      }
    },
    {
      "cell_type": "code",
      "execution_count": null,
      "metadata": {
        "id": "lzfun588Iuzo"
      },
      "outputs": [],
      "source": [
        "import joblib\n",
        "test_data = joblib.load('/content/drive/MyDrive/SCR/test_dataset.pkl')\n",
        "data = joblib.load('/content/drive/MyDrive/SCR/train_dataset.pkl')"
      ]
    },
    {
      "cell_type": "markdown",
      "source": [
        "# B,T,F\n"
      ],
      "metadata": {
        "id": "5x7Xv5CE_Nub"
      }
    },
    {
      "cell_type": "code",
      "execution_count": null,
      "metadata": {
        "colab": {
          "base_uri": "https://localhost:8080/"
        },
        "id": "wY7pAqEKLVTp",
        "outputId": "139208ff-8db7-436c-d41e-10bfeb0ed612"
      },
      "outputs": [
        {
          "output_type": "execute_result",
          "data": {
            "text/plain": [
              "(38799, 2, 35)"
            ]
          },
          "metadata": {},
          "execution_count": 203
        }
      ],
      "source": [
        "data['state'].shape"
      ]
    },
    {
      "cell_type": "code",
      "execution_count": null,
      "metadata": {
        "colab": {
          "base_uri": "https://localhost:8080/"
        },
        "id": "v3XGdjpRRyA5",
        "outputId": "57408f39-510f-4afb-ecc2-f4c525028bab"
      },
      "outputs": [
        {
          "output_type": "execute_result",
          "data": {
            "text/plain": [
              "(38799, 2)"
            ]
          },
          "metadata": {},
          "execution_count": 204
        }
      ],
      "source": [
        "data['action'].shape"
      ]
    },
    {
      "cell_type": "markdown",
      "source": [
        "#  B,T,F\n"
      ],
      "metadata": {
        "id": "Bgezsetl_Q_F"
      }
    },
    {
      "cell_type": "code",
      "execution_count": null,
      "metadata": {
        "colab": {
          "base_uri": "https://localhost:8080/"
        },
        "id": "v5N10o9PEbvi",
        "outputId": "da66fd5b-7981-46dc-aca4-3c19d965a85b"
      },
      "outputs": [
        {
          "output_type": "execute_result",
          "data": {
            "text/plain": [
              "(38799, 2, 1)"
            ]
          },
          "metadata": {},
          "execution_count": 205
        }
      ],
      "source": [
        "data['action'] = data['action'].reshape(-1,2,1)\n",
        "data['action'].shape"
      ]
    },
    {
      "cell_type": "markdown",
      "source": [
        "#  B,F\n"
      ],
      "metadata": {
        "id": "T8s0UY5c_S29"
      }
    },
    {
      "cell_type": "code",
      "execution_count": null,
      "metadata": {
        "colab": {
          "base_uri": "https://localhost:8080/"
        },
        "id": "Ykf8z30xRzmi",
        "outputId": "88e6e7ce-aed5-4791-d935-19a9cba4c2b3"
      },
      "outputs": [
        {
          "output_type": "execute_result",
          "data": {
            "text/plain": [
              "(38799, 1)"
            ]
          },
          "metadata": {},
          "execution_count": 206
        }
      ],
      "source": [
        "data['value'].shape"
      ]
    },
    {
      "cell_type": "code",
      "execution_count": null,
      "metadata": {
        "id": "ZCXDKTsRIt08"
      },
      "outputs": [],
      "source": [
        "data_size = len(data['value'])\n",
        "batch_size = 128\n",
        "hidden_size = 128\n",
        "request_size = 1 # 需求產出\n",
        "state_size = data['state'].shape[-1]\n",
        "value_size = data['value'].shape[-1] # 實際產出\n",
        "action_size = data['action'].shape[-1]  #可控制器數量\n",
        "time_step = 2 #時間窗格"
      ]
    },
    {
      "cell_type": "code",
      "execution_count": null,
      "metadata": {
        "id": "H1dEIPwsLvQj"
      },
      "outputs": [],
      "source": [
        "d = {}\n",
        "d['state'] = FloatTensor(data['state'])\n",
        "d['action'] = FloatTensor(data['action'])\n",
        "d['value'] = FloatTensor(data['value'])\n",
        "d['request'] = FloatTensor(torch.rand(data_size,request_size))#uniform distribution\n",
        "d = TensorDataset(d['state'],d['request'],d['action'],d['value'])\n",
        "train_iter = DataLoader(d,batch_size,shuffle=False)"
      ]
    },
    {
      "cell_type": "code",
      "execution_count": null,
      "metadata": {
        "id": "DcRvsj3UL4JC"
      },
      "outputs": [],
      "source": [
        "class R2D2(nn.Module):\n",
        "  def __init__(self,obs_size,n_actions,hidden_size):\n",
        "    super().__init__()\n",
        "    self.hidden_size = hidden_size\n",
        "    self.l1 = nn.Linear(obs_size,self.hidden_size)\n",
        "    self.l2 = nn.LSTMCell(self.hidden_size,self.hidden_size)\n",
        "    self.l3 = nn.Linear(self.hidden_size,n_actions)\n",
        "    self.dropout = nn.Dropout (p = 0.25)\n",
        "\n",
        "  def forward(self,x,hx,cx):\n",
        "    x = torch.tanh(self.l1(x))\n",
        "    hx,cx = self.l2(x,(hx,cx)) #LSTMCell\n",
        "    x = self.dropout(hx)\n",
        "    x = torch.tanh(x)\n",
        "    x = torch.sigmoid(self.l3(x)) # to range[0,1]\n",
        "    return x,hx,cx"
      ]
    },
    {
      "cell_type": "code",
      "execution_count": null,
      "metadata": {
        "id": "wNRYY69PL9bt"
      },
      "outputs": [],
      "source": [
        "class ActorCritic(nn.Module):\n",
        "  def __init__(self,actor,critic,time_step):\n",
        "    super().__init__()\n",
        "\n",
        "    # TIME\n",
        "    self.time_step = time_step\n",
        "\n",
        "    # ACTOR OR 優化搜索模型\n",
        "    self.actor = actor\n",
        "    self.actor_optimizer = Adam(actor.parameters(),lr=1e-3)\n",
        "\n",
        "    # CRITIC OR 代理模型\n",
        "    self.critic = critic\n",
        "    self.critic_optimizer = Adam(critic.parameters(),lr=1e-3)\n",
        "\n",
        "  def forward(self,state,request):\n",
        "    actions = self.actor_forward(state,request)\n",
        "    values = self.critic_forward(state,actions)\n",
        "    return values\n",
        "\n",
        "  def actor_forward(self,state,request,eval=False):\n",
        "    '''\n",
        "    # 給定狀態(不可控)和需求 輸出一系列動作\n",
        "    '''\n",
        "    # 切換模式\n",
        "    if eval == True:\n",
        "      self.actor.eval()\n",
        "    else:\n",
        "      self.actor.train()\n",
        "\n",
        "    # 初始化隱變量 LSTM特有的長短期記憶\n",
        "    hx = torch.zeros((state.size()[0],actor.hidden_size))\n",
        "    cx = torch.zeros((state.size()[0],actor.hidden_size))\n",
        "\n",
        "    # 待會用來存放action element用\n",
        "    actions = torch.FloatTensor()\n",
        "\n",
        "    # 對一定時間長度進行遍歷將state給actor forward 並將結果蒐集起來\n",
        "    for t in range(self.time_step):\n",
        "      a,hx,cx = self.actor(torch.cat((state[:,t,:],request),dim=1),hx,cx)\n",
        "      actions = torch.cat((actions,a),dim=1)\n",
        "\n",
        "    # 一系列動作 (Batch,Time,Features)\n",
        "    actions = actions.reshape(state.size()[0],self.time_step,-1)\n",
        "\n",
        "    return actions\n",
        "\n",
        "  def critic_forward(self,state,action,eval=False):\n",
        "    '''\n",
        "    # 輸入狀態(不可控)和一系列動作(可控),預測產出\n",
        "    '''\n",
        "\n",
        "    # 切換模式\n",
        "    if eval == True:\n",
        "      self.critic.eval()\n",
        "    else:\n",
        "      self.critic.train()\n",
        "\n",
        "    # 初始化 隱變量 長短期記憶\n",
        "    hx = torch.zeros((state.size()[0],critic.hidden_size))\n",
        "    cx = torch.zeros((state.size()[0],critic.hidden_size))\n",
        "\n",
        "    # 建立values的存放區\n",
        "    values = torch.FloatTensor()\n",
        "\n",
        "    # 對時間點遍歷 將state,action依序放入critic取得v並將v蒐集起來\n",
        "    for t in range(self.time_step):\n",
        "      # 根據當前t時刻狀態,動作,hx,cx當輸入得到,v(產出),更新hx,cx\n",
        "      v,hx,cx = self.critic(torch.cat((state[:,t,:],action[:,t,:]),dim=1),hx,cx)\n",
        "      values = torch.cat((values,v),dim=1)\n",
        "\n",
        "    # 一系列產出(Batch,Time,Features)\n",
        "    values = values.reshape(state.size()[0],self.time_step,-1)\n",
        "\n",
        "    # 只取最後一個時間點的v (Batch,Time,Features)\n",
        "    return values[:,-1,:] # return last time_step\n",
        "\n",
        "  def train_critic(self,state,action,value):\n",
        "    '''\n",
        "    x: [state,action]\n",
        "    y: [value]\n",
        "    '監督式學習'\n",
        "    '''\n",
        "    self.critic.train()#可訓練\n",
        "    self.actor.eval()#凍結權重\n",
        "\n",
        "    # 計算預測值:hat\n",
        "    value_hat = self.critic_forward(state,action)\n",
        "\n",
        "    # 預測值跟label的平方差愈小愈好\n",
        "    loss = ((value_hat - value)**2).mean()\n",
        "    # loss 反向傳播\n",
        "    loss.backward()\n",
        "\n",
        "    # 使用optimizer優化\n",
        "    self.critic_optimizer.step()\n",
        "    self.critic_optimizer.zero_grad()\n",
        "    return loss.item()\n",
        "\n",
        "  def train_actor(self,state,request):\n",
        "    '''\n",
        "    x: [state,request]\n",
        "    y: maximum critic value\n",
        "    '最小化產出跟request的差異'\n",
        "    '''\n",
        "    self.actor.train()\n",
        "    self.critic.eval()\n",
        "    actions = self.actor_forward(state,request)\n",
        "    value_hat = self.critic_forward(state,actions)\n",
        "\n",
        "    # 首先預測值跟需求的平方差愈小愈好\n",
        "    loss1 = ((request - value_hat)**2).mean()\n",
        "\n",
        "    # 再來避免\"變異數太大(時間維度上)\" 因為盤控人員不可能突然調太多\n",
        "    #loss2 = actions.reshape(-1,time_step,action_size).std(axis=1)\n",
        "    #loss2 = loss2.sum(axis=-1).mean(axis=0)\n",
        "\n",
        "    loss = loss1 #+ loss2\n",
        "    loss.backward()\n",
        "\n",
        "    self.actor_optimizer.step()\n",
        "    self.actor.zero_grad()\n",
        "\n",
        "    return loss.item()"
      ]
    },
    {
      "cell_type": "markdown",
      "source": [
        "# 實例化模型"
      ],
      "metadata": {
        "id": "8WIqv3VRBOSf"
      }
    },
    {
      "cell_type": "code",
      "execution_count": null,
      "metadata": {
        "id": "fIgK0jEZMC_6"
      },
      "outputs": [],
      "source": [
        "# actor吃狀態跟需求輸出操作建議\n",
        "actor = R2D2(state_size+request_size,action_size,hidden_size)\n",
        "# critic吃狀態跟操作輸出最後產品產出量(預估)\n",
        "critic = R2D2(state_size+action_size,value_size,hidden_size)\n",
        "# 實例化這個ActorCritic架構\n",
        "model = ActorCritic(actor,critic,time_step)"
      ]
    },
    {
      "cell_type": "markdown",
      "source": [
        "# 隨機產生數據測試s:state,r:request"
      ],
      "metadata": {
        "id": "rQVBPf1jBlRm"
      }
    },
    {
      "cell_type": "code",
      "execution_count": null,
      "metadata": {
        "colab": {
          "base_uri": "https://localhost:8080/"
        },
        "id": "8AwpFSElMI9K",
        "outputId": "e69da030-fbec-436f-9eca-0cbd28e3fad0"
      },
      "outputs": [
        {
          "output_type": "execute_result",
          "data": {
            "text/plain": [
              "(torch.Size([1, 2, 35]), torch.Size([1, 1]))"
            ]
          },
          "metadata": {},
          "execution_count": 212
        }
      ],
      "source": [
        "s = torch.rand(1,time_step,state_size)#(B,T,s_dim)\n",
        "r = torch.rand(1,request_size)#(B,r_dim)\n",
        "s.shape,r.shape"
      ]
    },
    {
      "cell_type": "markdown",
      "source": [
        "# 前向傳播測試"
      ],
      "metadata": {
        "id": "23771Uc0Bpbe"
      }
    },
    {
      "cell_type": "code",
      "execution_count": null,
      "metadata": {
        "colab": {
          "base_uri": "https://localhost:8080/"
        },
        "id": "hwolp-9JMaya",
        "outputId": "a8578d21-5e2c-41ee-bac4-8e127a822182"
      },
      "outputs": [
        {
          "output_type": "execute_result",
          "data": {
            "text/plain": [
              "tensor([[0.4673]], grad_fn=<SliceBackward0>)"
            ]
          },
          "metadata": {},
          "execution_count": 213
        }
      ],
      "source": [
        "model.forward(s,r)"
      ]
    },
    {
      "cell_type": "code",
      "execution_count": null,
      "metadata": {
        "colab": {
          "base_uri": "https://localhost:8080/",
          "height": 997
        },
        "id": "8z8zsU9JUZJQ",
        "outputId": "d98d8449-e988-4ff9-b269-9a942cea5bc9"
      },
      "outputs": [
        {
          "output_type": "stream",
          "name": "stdout",
          "text": [
            "The tensorboard extension is already loaded. To reload it, use:\n",
            "  %reload_ext tensorboard\n"
          ]
        },
        {
          "output_type": "stream",
          "name": "stderr",
          "text": [
            "/usr/local/lib/python3.10/dist-packages/torch/jit/_trace.py:1084: TracerWarning: Output nr 1. of the traced function does not match the corresponding output of the Python function. Detailed error:\n",
            "Tensor-likes are not close!\n",
            "\n",
            "Mismatched elements: 1 / 1 (100.0%)\n",
            "Greatest absolute difference: 0.006205499172210693 at index (0, 0) (up to 1e-05 allowed)\n",
            "Greatest relative difference: 0.013335254636745569 at index (0, 0) (up to 1e-05 allowed)\n",
            "  _check_trace(\n"
          ]
        },
        {
          "output_type": "display_data",
          "data": {
            "text/plain": [
              "<IPython.core.display.Javascript object>"
            ],
            "application/javascript": [
              "\n",
              "        (async () => {\n",
              "            const url = new URL(await google.colab.kernel.proxyPort(6006, {'cache': true}));\n",
              "            url.searchParams.set('tensorboardColab', 'true');\n",
              "            const iframe = document.createElement('iframe');\n",
              "            iframe.src = url;\n",
              "            iframe.setAttribute('width', '100%');\n",
              "            iframe.setAttribute('height', '800');\n",
              "            iframe.setAttribute('frameborder', 0);\n",
              "            document.body.appendChild(iframe);\n",
              "        })();\n",
              "    "
            ]
          },
          "metadata": {}
        }
      ],
      "source": [
        "%load_ext tensorboard\n",
        "from datetime import datetime\n",
        "import time\n",
        "from torch.utils.tensorboard import SummaryWriter\n",
        "logdir=\"logs/fit/\" + datetime.now().strftime(\"%Y%m%d-%H%M%S\")\n",
        "writer = SummaryWriter(log_dir=logdir)\n",
        "writer.add_graph(model,[s,r])\n",
        "writer.close()\n",
        "%tensorboard --logdir logs"
      ]
    },
    {
      "cell_type": "markdown",
      "metadata": {
        "id": "joK1Qrv0M1o7"
      },
      "source": [
        "# 定義訓練函數"
      ]
    },
    {
      "cell_type": "code",
      "execution_count": null,
      "metadata": {
        "id": "dR78zoykUtql"
      },
      "outputs": [],
      "source": [
        "def train_critic():\n",
        "  loss = 0\n",
        "  for i,(bs,br,ba,bv) in enumerate(train_iter):\n",
        "    loss += model.train_critic(bs,ba,bv)\n",
        "  return loss\n",
        "\n",
        "def train_actor():\n",
        "  loss = 0\n",
        "  for i,(bs,br,ba,bv) in enumerate(train_iter):\n",
        "    loss += model.train_actor(bs,br)\n",
        "  return loss\n",
        "\n",
        "def train(model,train_iter,epochs=100):\n",
        "  train_history = {}\n",
        "  train_history['actor'] = []\n",
        "  train_history['critic'] = []\n",
        "\n",
        "  # 先訓練critic代理模型(希望此代理模型訓練後夠接近真實世界情況)\n",
        "  for epoch in range(epochs):\n",
        "    loss = train_critic()\n",
        "    train_history['critic'].append(loss)\n",
        "    print('epoch:{} critic_loss:{}'.format(epoch,loss))\n",
        "\n",
        "  # 代理模型訓練完之後就假設此critic代理模型已經是(真實世界情況)\n",
        "  # 因此若假設成立則可以在此critic代理模型再進行最佳解的搜索\n",
        "  # 這裡的搜索是利用神經網路actor,從一開始隨便給action觀察loss(這裡loss定義為使用者期待跟實際落差)\n",
        "  # 然後不斷降低這個loss的過程,稱之為神經網路actor的搜索,也可以將其視為神經網路actor的訓練\n",
        "  for epoch in range(epochs):\n",
        "    loss = train_actor()\n",
        "    train_history['actor'].append(loss)\n",
        "    print('epoch:{} actor_loss:{}'.format(epoch,loss))\n",
        "\n",
        "  return model,train_history"
      ]
    },
    {
      "cell_type": "markdown",
      "source": [
        "# 從train_iter 採些資料出來讓actor forward"
      ],
      "metadata": {
        "id": "GBF0q5vlCrYw"
      }
    },
    {
      "cell_type": "code",
      "execution_count": null,
      "metadata": {
        "colab": {
          "base_uri": "https://localhost:8080/",
          "height": 129
        },
        "id": "E1mMtJB6UyUT",
        "outputId": "30b10eb4-9131-4380-8bfb-5b009ac13c46"
      },
      "outputs": [
        {
          "output_type": "stream",
          "name": "stdout",
          "text": [
            "以下是actor根據狀態和需求給出的操作建議\n"
          ]
        },
        {
          "output_type": "execute_result",
          "data": {
            "text/plain": [
              "<pandas.io.formats.style.Styler at 0x7afac6beaad0>"
            ],
            "text/html": [
              "<style type=\"text/css\">\n",
              "#T_f2c01_row0_col0 {\n",
              "  background-color: #023858;\n",
              "  color: #f1f1f1;\n",
              "}\n",
              "#T_f2c01_row1_col0 {\n",
              "  background-color: #fff7fb;\n",
              "  color: #000000;\n",
              "}\n",
              "</style>\n",
              "<table id=\"T_f2c01\" class=\"dataframe\">\n",
              "  <thead>\n",
              "    <tr>\n",
              "      <th class=\"blank level0\" >&nbsp;</th>\n",
              "      <th id=\"T_f2c01_level0_col0\" class=\"col_heading level0 col0\" >0</th>\n",
              "    </tr>\n",
              "  </thead>\n",
              "  <tbody>\n",
              "    <tr>\n",
              "      <th id=\"T_f2c01_level0_row0\" class=\"row_heading level0 row0\" >0</th>\n",
              "      <td id=\"T_f2c01_row0_col0\" class=\"data row0 col0\" >0.486896</td>\n",
              "    </tr>\n",
              "    <tr>\n",
              "      <th id=\"T_f2c01_level0_row1\" class=\"row_heading level0 row1\" >1</th>\n",
              "      <td id=\"T_f2c01_row1_col0\" class=\"data row1 col0\" >0.485084</td>\n",
              "    </tr>\n",
              "  </tbody>\n",
              "</table>\n"
            ]
          },
          "metadata": {},
          "execution_count": 216
        }
      ],
      "source": [
        "a = next(iter(train_iter))\n",
        "s,r,a,v = a\n",
        "actions = model.actor_forward(s,r,eval=True)\n",
        "print('以下是actor根據狀態和需求給出的操作建議')\n",
        "pd.DataFrame(actions[0].detach().numpy()).style.background_gradient()"
      ]
    },
    {
      "cell_type": "markdown",
      "source": [
        "# 執行訓練\n"
      ],
      "metadata": {
        "id": "31Ei6hTBDOMH"
      }
    },
    {
      "cell_type": "code",
      "execution_count": null,
      "metadata": {
        "colab": {
          "base_uri": "https://localhost:8080/"
        },
        "id": "kyKzdRUwVPvc",
        "outputId": "6e28f580-445c-466e-a012-6d1279fc9d3b"
      },
      "outputs": [
        {
          "output_type": "stream",
          "name": "stdout",
          "text": [
            "epoch:0 critic_loss:7.060439733100793\n",
            "epoch:1 critic_loss:6.956567074417762\n",
            "epoch:2 critic_loss:6.675389968620493\n",
            "epoch:3 critic_loss:6.264683032544781\n",
            "epoch:4 critic_loss:6.419137544123259\n",
            "epoch:5 critic_loss:6.266027505473403\n",
            "epoch:6 critic_loss:5.809080967526825\n",
            "epoch:7 critic_loss:5.624114925136382\n",
            "epoch:8 critic_loss:6.79846572488168\n",
            "epoch:9 critic_loss:6.7182172792036\n",
            "epoch:10 critic_loss:6.782257590719382\n",
            "epoch:11 critic_loss:6.556348226604314\n",
            "epoch:12 critic_loss:6.74520442596986\n",
            "epoch:13 critic_loss:6.507704436662607\n",
            "epoch:14 critic_loss:6.745872096464154\n",
            "epoch:15 critic_loss:7.060910890810192\n",
            "epoch:16 critic_loss:6.844427020274452\n",
            "epoch:17 critic_loss:6.5864217495509365\n",
            "epoch:18 critic_loss:6.334652867033583\n",
            "epoch:19 critic_loss:5.688657410843007\n",
            "epoch:20 critic_loss:5.774783310322164\n",
            "epoch:21 critic_loss:5.756637095584665\n",
            "epoch:22 critic_loss:4.702408172917785\n",
            "epoch:23 critic_loss:4.40913004205504\n",
            "epoch:24 critic_loss:4.45540043344954\n",
            "epoch:25 critic_loss:4.325219474798359\n",
            "epoch:26 critic_loss:4.181014849367784\n",
            "epoch:27 critic_loss:4.197691639237746\n",
            "epoch:28 critic_loss:4.261886425749253\n",
            "epoch:29 critic_loss:4.29066933150898\n",
            "epoch:30 critic_loss:4.02891117829131\n",
            "epoch:31 critic_loss:3.9227953129302477\n",
            "epoch:32 critic_loss:3.8835950235661585\n",
            "epoch:33 critic_loss:3.867141015594825\n",
            "epoch:34 critic_loss:3.7103435084136436\n",
            "epoch:35 critic_loss:3.743041080510011\n",
            "epoch:36 critic_loss:3.6879910117422696\n",
            "epoch:37 critic_loss:3.8774657280227984\n",
            "epoch:38 critic_loss:3.7349622322653886\n",
            "epoch:39 critic_loss:3.688557444176695\n",
            "epoch:40 critic_loss:3.551672962435987\n",
            "epoch:41 critic_loss:3.5671686343557667\n",
            "epoch:42 critic_loss:3.366038480424322\n",
            "epoch:43 critic_loss:3.383010712437681\n",
            "epoch:44 critic_loss:3.374581169016892\n",
            "epoch:45 critic_loss:3.2958393168228213\n",
            "epoch:46 critic_loss:3.287069198097015\n",
            "epoch:47 critic_loss:3.164954399864655\n",
            "epoch:48 critic_loss:3.187907942388847\n",
            "epoch:49 critic_loss:3.117735305611859\n",
            "epoch:50 critic_loss:3.163246896212513\n",
            "epoch:51 critic_loss:3.0740152347061667\n",
            "epoch:52 critic_loss:3.0661491736318567\n",
            "epoch:53 critic_loss:3.044032507292286\n",
            "epoch:54 critic_loss:3.0044011973805027\n",
            "epoch:55 critic_loss:3.005646994439303\n",
            "epoch:56 critic_loss:3.0512928859061503\n",
            "epoch:57 critic_loss:2.9966097583837836\n",
            "epoch:58 critic_loss:2.9161953245165932\n",
            "epoch:59 critic_loss:2.9120425698783947\n",
            "epoch:60 critic_loss:2.879571955116262\n",
            "epoch:61 critic_loss:2.8724845490905864\n",
            "epoch:62 critic_loss:2.893351004273427\n",
            "epoch:63 critic_loss:2.8271472539418028\n",
            "epoch:64 critic_loss:2.841005074005807\n",
            "epoch:65 critic_loss:2.8490751203535183\n",
            "epoch:66 critic_loss:2.7778694438238745\n",
            "epoch:67 critic_loss:2.788636970140942\n",
            "epoch:68 critic_loss:2.7266688689414877\n",
            "epoch:69 critic_loss:2.678262798443029\n",
            "epoch:70 critic_loss:2.6309128554639756\n",
            "epoch:71 critic_loss:2.583479985009035\n",
            "epoch:72 critic_loss:2.6134976705361623\n",
            "epoch:73 critic_loss:2.635975315628457\n",
            "epoch:74 critic_loss:2.5177911919527105\n",
            "epoch:75 critic_loss:2.444251210297807\n",
            "epoch:76 critic_loss:2.399880156131985\n",
            "epoch:77 critic_loss:2.335435062774195\n",
            "epoch:78 critic_loss:2.3045894759779912\n",
            "epoch:79 critic_loss:2.3280700360337505\n",
            "epoch:80 critic_loss:2.2395151985256234\n",
            "epoch:81 critic_loss:2.255462286873808\n",
            "epoch:82 critic_loss:2.254515316682955\n",
            "epoch:83 critic_loss:2.226381148397195\n",
            "epoch:84 critic_loss:2.198117654214002\n",
            "epoch:85 critic_loss:2.212536136394192\n",
            "epoch:86 critic_loss:2.2849242385018442\n",
            "epoch:87 critic_loss:2.341045818540806\n",
            "epoch:88 critic_loss:2.3686689801252214\n",
            "epoch:89 critic_loss:2.1694264903235307\n",
            "epoch:90 critic_loss:2.0630769878007413\n",
            "epoch:91 critic_loss:1.9666702559807163\n",
            "epoch:92 critic_loss:1.9476325648538477\n",
            "epoch:93 critic_loss:1.940620773260889\n",
            "epoch:94 critic_loss:1.9631425102998037\n",
            "epoch:95 critic_loss:2.0301715194618737\n",
            "epoch:96 critic_loss:1.918471973753185\n",
            "epoch:97 critic_loss:1.7949917908481439\n",
            "epoch:98 critic_loss:1.8281036519074405\n",
            "epoch:0 actor_loss:18.224099330604076\n",
            "epoch:1 actor_loss:14.502606142312288\n",
            "epoch:2 actor_loss:14.305551642552018\n",
            "epoch:3 actor_loss:14.069123240187764\n",
            "epoch:4 actor_loss:14.086765015497804\n",
            "epoch:5 actor_loss:13.894601244479418\n",
            "epoch:6 actor_loss:13.810508759692311\n",
            "epoch:7 actor_loss:13.748990146443248\n",
            "epoch:8 actor_loss:13.679176548495889\n",
            "epoch:9 actor_loss:13.69110382348299\n",
            "epoch:10 actor_loss:13.627392834052444\n",
            "epoch:11 actor_loss:13.594852259382606\n",
            "epoch:12 actor_loss:13.553521590307355\n",
            "epoch:13 actor_loss:13.500371197238564\n",
            "epoch:14 actor_loss:13.47791594825685\n",
            "epoch:15 actor_loss:13.457071894779801\n",
            "epoch:16 actor_loss:13.425298238173127\n",
            "epoch:17 actor_loss:13.403748827055097\n",
            "epoch:18 actor_loss:13.38494916073978\n",
            "epoch:19 actor_loss:13.381810698658228\n",
            "epoch:20 actor_loss:13.34419303573668\n",
            "epoch:21 actor_loss:13.336670268326998\n",
            "epoch:22 actor_loss:13.340574422851205\n",
            "epoch:23 actor_loss:13.313702905550599\n",
            "epoch:24 actor_loss:13.267346382141113\n",
            "epoch:25 actor_loss:13.297855950891972\n",
            "epoch:26 actor_loss:13.274698007851839\n",
            "epoch:27 actor_loss:13.229571785777807\n",
            "epoch:28 actor_loss:13.191820960491896\n",
            "epoch:29 actor_loss:13.242236880585551\n",
            "epoch:30 actor_loss:13.171044666320086\n",
            "epoch:31 actor_loss:13.213189352303743\n",
            "epoch:32 actor_loss:13.159043801948428\n",
            "epoch:33 actor_loss:13.175416890531778\n",
            "epoch:34 actor_loss:13.187334842979908\n",
            "epoch:35 actor_loss:13.147183995693922\n",
            "epoch:36 actor_loss:13.113951399922371\n",
            "epoch:37 actor_loss:13.115204421803355\n",
            "epoch:38 actor_loss:13.176833814010024\n",
            "epoch:39 actor_loss:13.10024457424879\n",
            "epoch:40 actor_loss:13.124224485829473\n",
            "epoch:41 actor_loss:13.107179516926408\n",
            "epoch:42 actor_loss:13.112249011173844\n",
            "epoch:43 actor_loss:13.100365575402975\n",
            "epoch:44 actor_loss:13.078902984037995\n",
            "epoch:45 actor_loss:13.077691840007901\n",
            "epoch:46 actor_loss:13.071217130869627\n",
            "epoch:47 actor_loss:13.100183693692088\n",
            "epoch:48 actor_loss:13.070650471374393\n",
            "epoch:49 actor_loss:13.083554856479168\n",
            "epoch:50 actor_loss:13.082634173333645\n",
            "epoch:51 actor_loss:13.087119283154607\n",
            "epoch:52 actor_loss:13.072454016655684\n",
            "epoch:53 actor_loss:13.111979266628623\n",
            "epoch:54 actor_loss:13.133737333118916\n",
            "epoch:55 actor_loss:13.065715974196792\n",
            "epoch:56 actor_loss:13.105803923681378\n",
            "epoch:57 actor_loss:13.085258347913623\n",
            "epoch:58 actor_loss:13.069129519164562\n",
            "epoch:59 actor_loss:13.11076795309782\n",
            "epoch:60 actor_loss:13.106646647676826\n",
            "epoch:61 actor_loss:13.086982771754265\n",
            "epoch:62 actor_loss:13.109241232275963\n",
            "epoch:63 actor_loss:13.13700419664383\n",
            "epoch:64 actor_loss:13.103908609598875\n",
            "epoch:65 actor_loss:13.082097724080086\n",
            "epoch:66 actor_loss:13.123438714072108\n",
            "epoch:67 actor_loss:13.099525252357125\n",
            "epoch:68 actor_loss:13.13447810895741\n",
            "epoch:69 actor_loss:13.094667419791222\n",
            "epoch:70 actor_loss:13.085554078221321\n",
            "epoch:71 actor_loss:13.117758898064494\n",
            "epoch:72 actor_loss:13.281905714422464\n",
            "epoch:73 actor_loss:13.179936429485679\n",
            "epoch:74 actor_loss:13.163066809996963\n",
            "epoch:75 actor_loss:13.163994049653411\n",
            "epoch:76 actor_loss:13.099802451208234\n",
            "epoch:77 actor_loss:13.067373281344771\n",
            "epoch:78 actor_loss:13.050623666495085\n",
            "epoch:79 actor_loss:13.059652838855982\n",
            "epoch:80 actor_loss:13.041173355653882\n",
            "epoch:81 actor_loss:13.045049451291561\n",
            "epoch:82 actor_loss:13.016483902931213\n",
            "epoch:83 actor_loss:13.01020329631865\n",
            "epoch:84 actor_loss:12.99240319058299\n",
            "epoch:85 actor_loss:13.019245266914368\n",
            "epoch:86 actor_loss:13.011301958933473\n",
            "epoch:87 actor_loss:13.005056660622358\n",
            "epoch:88 actor_loss:13.016185799613595\n",
            "epoch:89 actor_loss:12.962377125397325\n",
            "epoch:90 actor_loss:13.03204783052206\n",
            "epoch:91 actor_loss:13.023906482383609\n",
            "epoch:92 actor_loss:12.987072996795177\n",
            "epoch:93 actor_loss:13.000279910862446\n",
            "epoch:94 actor_loss:13.008608499541879\n",
            "epoch:95 actor_loss:13.021430453285575\n",
            "epoch:96 actor_loss:13.005578432232141\n",
            "epoch:97 actor_loss:12.989564990624785\n",
            "epoch:98 actor_loss:13.013782501220703\n"
          ]
        }
      ],
      "source": [
        "model,train_history = train(model,train_iter,epochs=99)"
      ]
    },
    {
      "cell_type": "markdown",
      "source": [
        "# 繪製圖表"
      ],
      "metadata": {
        "id": "NSVdvradDRrO"
      }
    },
    {
      "cell_type": "code",
      "execution_count": null,
      "metadata": {
        "colab": {
          "base_uri": "https://localhost:8080/",
          "height": 860
        },
        "id": "7JhLtom4o9o2",
        "outputId": "64fe2b87-7758-4fde-e18d-22248d79051f"
      },
      "outputs": [
        {
          "output_type": "display_data",
          "data": {
            "text/plain": [
              "<Figure size 640x480 with 1 Axes>"
            ],
            "image/png": "[encoded data removed]"
          },
          "metadata": {}
        },
        {
          "output_type": "execute_result",
          "data": {
            "text/plain": [
              "[<matplotlib.lines.Line2D at 0x7afad04c80d0>]"
            ]
          },
          "metadata": {},
          "execution_count": 218
        },
        {
          "output_type": "display_data",
          "data": {
            "text/plain": [
              "<Figure size 640x480 with 1 Axes>"
            ],
            "image/png": "[encoded data removed]"
          },
          "metadata": {}
        }
      ],
      "source": [
        "import matplotlib.pyplot as plt\n",
        "plt.plot(train_history['critic'])\n",
        "plt.show()\n",
        "plt.plot(train_history['actor'])"
      ]
    },
    {
      "cell_type": "markdown",
      "source": [
        "# 試用訓練好的模型"
      ],
      "metadata": {
        "id": "KjEYWfJJDnl-"
      }
    },
    {
      "cell_type": "code",
      "execution_count": null,
      "metadata": {
        "id": "Eqvn0qJ4pAB_"
      },
      "outputs": [],
      "source": [
        "s,r,a,v = next(iter(train_iter))\n",
        "actions = model.actor_forward(s,r,eval=True)"
      ]
    },
    {
      "cell_type": "markdown",
      "source": [
        "# 訓練好的模型做推薦"
      ],
      "metadata": {
        "id": "yRJNCc9JDiAM"
      }
    },
    {
      "cell_type": "code",
      "execution_count": null,
      "metadata": {
        "colab": {
          "base_uri": "https://localhost:8080/",
          "height": 112
        },
        "id": "jwmUMKXlpBKN",
        "outputId": "e2f3dac8-aa67-4f7e-ce9a-99dc0d077132"
      },
      "outputs": [
        {
          "output_type": "execute_result",
          "data": {
            "text/plain": [
              "<pandas.io.formats.style.Styler at 0x7afad04c83a0>"
            ],
            "text/html": [
              "<style type=\"text/css\">\n",
              "#T_bf3b3_row0_col0 {\n",
              "  background-color: #023858;\n",
              "  color: #f1f1f1;\n",
              "}\n",
              "#T_bf3b3_row1_col0 {\n",
              "  background-color: #fff7fb;\n",
              "  color: #000000;\n",
              "}\n",
              "</style>\n",
              "<table id=\"T_bf3b3\" class=\"dataframe\">\n",
              "  <thead>\n",
              "    <tr>\n",
              "      <th class=\"blank level0\" >&nbsp;</th>\n",
              "      <th id=\"T_bf3b3_level0_col0\" class=\"col_heading level0 col0\" >0</th>\n",
              "    </tr>\n",
              "  </thead>\n",
              "  <tbody>\n",
              "    <tr>\n",
              "      <th id=\"T_bf3b3_level0_row0\" class=\"row_heading level0 row0\" >0</th>\n",
              "      <td id=\"T_bf3b3_row0_col0\" class=\"data row0 col0\" >0.380700</td>\n",
              "    </tr>\n",
              "    <tr>\n",
              "      <th id=\"T_bf3b3_level0_row1\" class=\"row_heading level0 row1\" >1</th>\n",
              "      <td id=\"T_bf3b3_row1_col0\" class=\"data row1 col0\" >0.157719</td>\n",
              "    </tr>\n",
              "  </tbody>\n",
              "</table>\n"
            ]
          },
          "metadata": {},
          "execution_count": 220
        }
      ],
      "source": [
        "pd.DataFrame(actions[0].detach().numpy()).style.background_gradient()"
      ]
    },
    {
      "cell_type": "markdown",
      "source": [
        "# 歷史上的推薦"
      ],
      "metadata": {
        "id": "Y8SHemdBDlQV"
      }
    },
    {
      "cell_type": "code",
      "source": [
        "pd.DataFrame(a[0].numpy()).style.background_gradient()"
      ],
      "metadata": {
        "id": "zIZ9M_X-Db--",
        "outputId": "18a084fd-5b84-402b-96a0-957f6a839cdf",
        "colab": {
          "base_uri": "https://localhost:8080/",
          "height": 112
        }
      },
      "execution_count": null,
      "outputs": [
        {
          "output_type": "execute_result",
          "data": {
            "text/plain": [
              "<pandas.io.formats.style.Styler at 0x7afac6bebbe0>"
            ],
            "text/html": [
              "<style type=\"text/css\">\n",
              "#T_f05e2_row0_col0 {\n",
              "  background-color: #fff7fb;\n",
              "  color: #000000;\n",
              "}\n",
              "#T_f05e2_row1_col0 {\n",
              "  background-color: #023858;\n",
              "  color: #f1f1f1;\n",
              "}\n",
              "</style>\n",
              "<table id=\"T_f05e2\" class=\"dataframe\">\n",
              "  <thead>\n",
              "    <tr>\n",
              "      <th class=\"blank level0\" >&nbsp;</th>\n",
              "      <th id=\"T_f05e2_level0_col0\" class=\"col_heading level0 col0\" >0</th>\n",
              "    </tr>\n",
              "  </thead>\n",
              "  <tbody>\n",
              "    <tr>\n",
              "      <th id=\"T_f05e2_level0_row0\" class=\"row_heading level0 row0\" >0</th>\n",
              "      <td id=\"T_f05e2_row0_col0\" class=\"data row0 col0\" >0.465819</td>\n",
              "    </tr>\n",
              "    <tr>\n",
              "      <th id=\"T_f05e2_level0_row1\" class=\"row_heading level0 row1\" >1</th>\n",
              "      <td id=\"T_f05e2_row1_col0\" class=\"data row1 col0\" >0.512109</td>\n",
              "    </tr>\n",
              "  </tbody>\n",
              "</table>\n"
            ]
          },
          "metadata": {},
          "execution_count": 221
        }
      ]
    },
    {
      "cell_type": "markdown",
      "source": [
        "# 使用訓練好的模型產生values"
      ],
      "metadata": {
        "id": "wqz_KXb7DsNe"
      }
    },
    {
      "cell_type": "code",
      "execution_count": null,
      "metadata": {
        "colab": {
          "base_uri": "https://localhost:8080/"
        },
        "id": "bcPdlwYxpCRk",
        "outputId": "dcd15b72-f388-41b9-aa42-4fed35d977de"
      },
      "outputs": [
        {
          "output_type": "execute_result",
          "data": {
            "text/plain": [
              "tensor([[0.4909]], grad_fn=<SliceBackward0>)"
            ]
          },
          "metadata": {},
          "execution_count": 222
        }
      ],
      "source": [
        "values = model.critic_forward(s[[0]],actions[[0]],eval=True)\n",
        "values"
      ]
    },
    {
      "cell_type": "markdown",
      "source": [
        "# 實際的Values"
      ],
      "metadata": {
        "id": "n5jIm0UBDyf3"
      }
    },
    {
      "cell_type": "code",
      "source": [
        "v[0]"
      ],
      "metadata": {
        "id": "ktgnkMezD41P",
        "outputId": "281e4c5a-d6df-4a3a-a968-be62ba847e49",
        "colab": {
          "base_uri": "https://localhost:8080/"
        }
      },
      "execution_count": null,
      "outputs": [
        {
          "output_type": "execute_result",
          "data": {
            "text/plain": [
              "tensor([0.5371])"
            ]
          },
          "metadata": {},
          "execution_count": 223
        }
      ]
    },
    {
      "cell_type": "markdown",
      "source": [
        "# 假設廠區有個希望的wanna_ouput\n",
        "# 假設state目前在常見情況下0.5\n",
        "\n",
        "#看看模型推薦的操作以及預估的產量"
      ],
      "metadata": {
        "id": "MAPI0zV6D_JP"
      }
    },
    {
      "cell_type": "code",
      "execution_count": null,
      "metadata": {
        "colab": {
          "base_uri": "https://localhost:8080/"
        },
        "id": "djsvUZ-_pEKL",
        "outputId": "549a64ca-ba55-49cf-c2ea-909836afb6e7"
      },
      "outputs": [
        {
          "output_type": "stream",
          "name": "stdout",
          "text": [
            "state[[[0.5 0.5 0.5 0.5 0.5 0.5 0.5 0.5 0.5 0.5 0.5 0.5 0.5 0.5 0.5 0.5 0.5\n",
            "   0.5 0.5 0.5 0.5 0.5 0.5 0.5 0.5 0.5 0.5 0.5 0.5 0.5 0.5 0.5 0.5 0.5\n",
            "   0.5]\n",
            "  [0.5 0.5 0.5 0.5 0.5 0.5 0.5 0.5 0.5 0.5 0.5 0.5 0.5 0.5 0.5 0.5 0.5\n",
            "   0.5 0.5 0.5 0.5 0.5 0.5 0.5 0.5 0.5 0.5 0.5 0.5 0.5 0.5 0.5 0.5 0.5\n",
            "   0.5]]]\n",
            "\n",
            "request[[0.]]\n",
            "\n"
          ]
        }
      ],
      "source": [
        "wanna_ouput = 0.0\n",
        "state_setting = 0.5 # min max\n",
        "s = torch.full((1,time_step,state_size),state_setting)\n",
        "r = torch.full((1,request_size),wanna_ouput)\n",
        "a = model.actor_forward(s,r,eval=True)\n",
        "v = model.critic_forward(s,a,eval=True)\n",
        "print(f'state{s.numpy()}\\n')\n",
        "print(f'request{r.numpy()}\\n')"
      ]
    },
    {
      "cell_type": "code",
      "execution_count": null,
      "metadata": {
        "colab": {
          "base_uri": "https://localhost:8080/",
          "height": 112
        },
        "id": "gN-HtkanpFWw",
        "outputId": "624cae8d-b6e0-4d2d-c6bb-01ebd930a3b8"
      },
      "outputs": [
        {
          "output_type": "execute_result",
          "data": {
            "text/plain": [
              "<pandas.io.formats.style.Styler at 0x7afacfe6c070>"
            ],
            "text/html": [
              "<style type=\"text/css\">\n",
              "#T_65d38_row0_col0 {\n",
              "  background-color: #023858;\n",
              "  color: #f1f1f1;\n",
              "}\n",
              "#T_65d38_row1_col0 {\n",
              "  background-color: #fff7fb;\n",
              "  color: #000000;\n",
              "}\n",
              "</style>\n",
              "<table id=\"T_65d38\" class=\"dataframe\">\n",
              "  <thead>\n",
              "    <tr>\n",
              "      <th class=\"blank level0\" >&nbsp;</th>\n",
              "      <th id=\"T_65d38_level0_col0\" class=\"col_heading level0 col0\" >0</th>\n",
              "    </tr>\n",
              "  </thead>\n",
              "  <tbody>\n",
              "    <tr>\n",
              "      <th id=\"T_65d38_level0_row0\" class=\"row_heading level0 row0\" >0</th>\n",
              "      <td id=\"T_65d38_row0_col0\" class=\"data row0 col0\" >0.924846</td>\n",
              "    </tr>\n",
              "    <tr>\n",
              "      <th id=\"T_65d38_level0_row1\" class=\"row_heading level0 row1\" >1</th>\n",
              "      <td id=\"T_65d38_row1_col0\" class=\"data row1 col0\" >0.024197</td>\n",
              "    </tr>\n",
              "  </tbody>\n",
              "</table>\n"
            ]
          },
          "metadata": {},
          "execution_count": 225
        }
      ],
      "source": [
        "# 模型建議操作\n",
        "pd.DataFrame(a[0].detach().numpy()).style.background_gradient()"
      ]
    },
    {
      "cell_type": "code",
      "execution_count": null,
      "metadata": {
        "colab": {
          "base_uri": "https://localhost:8080/"
        },
        "id": "FoFv6-0IpHHY",
        "outputId": "427d0487-c50d-4335-fb2f-7c937cecef64"
      },
      "outputs": [
        {
          "output_type": "stream",
          "name": "stdout",
          "text": [
            "value:0.37854480743408203\n",
            "\n"
          ]
        }
      ],
      "source": [
        "# 模型預測根據上述操作應當的產出\n",
        "print(f'value:{v.detach().numpy()[0][0]}\\n')"
      ]
    },
    {
      "cell_type": "markdown",
      "metadata": {
        "id": "N0PqGLxoGjnm"
      },
      "source": [
        "# r2 rse mape"
      ]
    },
    {
      "cell_type": "code",
      "source": [
        "from sklearn.metrics import r2_score,mean_squared_error\n",
        "def mape(y_true, y_pred):\n",
        "  try:\n",
        "    y_true, y_pred = np.array(y_true), np.array(y_pred)\n",
        "  except:\n",
        "    pass\n",
        "    return np.mean(np.abs((y_true - y_pred) / y_true)) * 100"
      ],
      "metadata": {
        "id": "aGjbYiy0Er6n"
      },
      "execution_count": null,
      "outputs": []
    },
    {
      "cell_type": "markdown",
      "source": [
        "# TRAIN KPI"
      ],
      "metadata": {
        "id": "wtG5dTs1Etf2"
      }
    },
    {
      "cell_type": "code",
      "execution_count": null,
      "metadata": {
        "colab": {
          "base_uri": "https://localhost:8080/"
        },
        "id": "4sISkpBr3MfH",
        "outputId": "8cf5e81c-0906-4a6f-8188-50de5042ee76"
      },
      "outputs": [
        {
          "output_type": "execute_result",
          "data": {
            "text/plain": [
              "(0.6116014437375854, 0.08790886736327513, None)"
            ]
          },
          "metadata": {},
          "execution_count": 243
        }
      ],
      "source": [
        "v_hat = model.critic_forward(\n",
        "    FloatTensor(data['state']),\n",
        "    FloatTensor(data['action']),eval=True).detach().numpy()\n",
        "r2 = r2_score(v_hat,data['value'])\n",
        "rmse = np.sqrt(mean_squared_error(v_hat,data['value']))\n",
        "mape_ = mape(v_hat,data['value'])\n",
        "r2,rmse,mape_"
      ]
    },
    {
      "cell_type": "markdown",
      "source": [
        "# TEST KPI"
      ],
      "metadata": {
        "id": "42E6jz3sEyB2"
      }
    },
    {
      "cell_type": "code",
      "execution_count": null,
      "metadata": {
        "colab": {
          "base_uri": "https://localhost:8080/"
        },
        "id": "bp_j_p7BHn7H",
        "outputId": "b0689dea-cb18-49b2-96a9-909bfdf6a8e7"
      },
      "outputs": [
        {
          "output_type": "execute_result",
          "data": {
            "text/plain": [
              "(0.363210361476213, 0.1481019130733805, None)"
            ]
          },
          "metadata": {},
          "execution_count": 244
        }
      ],
      "source": [
        "s = FloatTensor(test_data['state'])\n",
        "a = FloatTensor(test_data['action'].reshape(-1,time_step,1))\n",
        "v_hat = model.critic_forward(s,a,eval=True).detach().numpy()\n",
        "\n",
        "r2 = r2_score(v_hat,test_data['value'])\n",
        "rmse = np.sqrt(mean_squared_error(v_hat,test_data['value']))\n",
        "mape_ = mape(v_hat,test_data['value'].astype('float32'))\n",
        "r2,rmse,mape_"
      ]
    },
    {
      "cell_type": "markdown",
      "source": [
        "# TEST RESULT"
      ],
      "metadata": {
        "id": "8pw0mXnAFG2C"
      }
    },
    {
      "cell_type": "code",
      "execution_count": null,
      "metadata": {
        "colab": {
          "base_uri": "https://localhost:8080/",
          "height": 80
        },
        "id": "bD8xHWd5NwxW",
        "outputId": "c2bdc8e6-405c-49f9-97ac-8885ddf992d5"
      },
      "outputs": [
        {
          "output_type": "execute_result",
          "data": {
            "text/plain": [
              "        r2      rmse                               mape\n",
              "0  0.36321  0.148102  <function mape at 0x7afa74199990>"
            ],
            "text/html": [
              "\n",
              "  <div id=\"df-109fd2ac-a81f-4c62-932b-dd7194d1a1ae\" class=\"colab-df-container\">\n",
              "    <div>\n",
              "<style scoped>\n",
              "    .dataframe tbody tr th:only-of-type {\n",
              "        vertical-align: middle;\n",
              "    }\n",
              "\n",
              "    .dataframe tbody tr th {\n",
              "        vertical-align: top;\n",
              "    }\n",
              "\n",
              "    .dataframe thead th {\n",
              "        text-align: right;\n",
              "    }\n",
              "</style>\n",
              "<table border=\"1\" class=\"dataframe\">\n",
              "  <thead>\n",
              "    <tr style=\"text-align: right;\">\n",
              "      <th></th>\n",
              "      <th>r2</th>\n",
              "      <th>rmse</th>\n",
              "      <th>mape</th>\n",
              "    </tr>\n",
              "  </thead>\n",
              "  <tbody>\n",
              "    <tr>\n",
              "      <th>0</th>\n",
              "      <td>0.36321</td>\n",
              "      <td>0.148102</td>\n",
              "      <td>&lt;function mape at 0x7afa74199990&gt;</td>\n",
              "    </tr>\n",
              "  </tbody>\n",
              "</table>\n",
              "</div>\n",
              "    <div class=\"colab-df-buttons\">\n",
              "\n",
              "  <div class=\"colab-df-container\">\n",
              "    <button class=\"colab-df-convert\" onclick=\"convertToInteractive('df-109fd2ac-a81f-4c62-932b-dd7194d1a1ae')\"\n",
              "            title=\"Convert this dataframe to an interactive table.\"\n",
              "            style=\"display:none;\">\n",
              "\n",
              "  <svg xmlns=\"http://www.w3.org/2000/svg\" height=\"24px\" viewBox=\"0 -960 960 960\">\n",
              "    <path d=\"M120-120v-720h720v720H120Zm60-500h600v-160H180v160Zm220 220h160v-160H400v160Zm0 220h160v-160H400v160ZM180-400h160v-160H180v160Zm440 0h160v-160H620v160ZM180-180h160v-160H180v160Zm440 0h160v-160H620v160Z\"/>\n",
              "  </svg>\n",
              "    </button>\n",
              "\n",
              "  <style>\n",
              "    .colab-df-container {\n",
              "      display:flex;\n",
              "      gap: 12px;\n",
              "    }\n",
              "\n",
              "    .colab-df-convert {\n",
              "      background-color: #E8F0FE;\n",
              "      border: none;\n",
              "      border-radius: 50%;\n",
              "      cursor: pointer;\n",
              "      display: none;\n",
              "      fill: #1967D2;\n",
              "      height: 32px;\n",
              "      padding: 0 0 0 0;\n",
              "      width: 32px;\n",
              "    }\n",
              "\n",
              "    .colab-df-convert:hover {\n",
              "      background-color: #E2EBFA;\n",
              "      box-shadow: 0px 1px 2px rgba(60, 64, 67, 0.3), 0px 1px 3px 1px rgba(60, 64, 67, 0.15);\n",
              "      fill: #174EA6;\n",
              "    }\n",
              "\n",
              "    .colab-df-buttons div {\n",
              "      margin-bottom: 4px;\n",
              "    }\n",
              "\n",
              "    [theme=dark] .colab-df-convert {\n",
              "      background-color: #3B4455;\n",
              "      fill: #D2E3FC;\n",
              "    }\n",
              "\n",
              "    [theme=dark] .colab-df-convert:hover {\n",
              "      background-color: #434B5C;\n",
              "      box-shadow: 0px 1px 3px 1px rgba(0, 0, 0, 0.15);\n",
              "      filter: drop-shadow(0px 1px 2px rgba(0, 0, 0, 0.3));\n",
              "      fill: #FFFFFF;\n",
              "    }\n",
              "  </style>\n",
              "\n",
              "    <script>\n",
              "      const buttonEl =\n",
              "        document.querySelector('#df-109fd2ac-a81f-4c62-932b-dd7194d1a1ae button.colab-df-convert');\n",
              "      buttonEl.style.display =\n",
              "        google.colab.kernel.accessAllowed ? 'block' : 'none';\n",
              "\n",
              "      async function convertToInteractive(key) {\n",
              "        const element = document.querySelector('#df-109fd2ac-a81f-4c62-932b-dd7194d1a1ae');\n",
              "        const dataTable =\n",
              "          await google.colab.kernel.invokeFunction('convertToInteractive',\n",
              "                                                    [key], {});\n",
              "        if (!dataTable) return;\n",
              "\n",
              "        const docLinkHtml = 'Like what you see? Visit the ' +\n",
              "          '<a target=\"_blank\" href=https://colab.research.google.com/notebooks/data_table.ipynb>data table notebook</a>'\n",
              "          + ' to learn more about interactive tables.';\n",
              "        element.innerHTML = '';\n",
              "        dataTable['output_type'] = 'display_data';\n",
              "        await google.colab.output.renderOutput(dataTable, element);\n",
              "        const docLink = document.createElement('div');\n",
              "        docLink.innerHTML = docLinkHtml;\n",
              "        element.appendChild(docLink);\n",
              "      }\n",
              "    </script>\n",
              "  </div>\n",
              "\n",
              "    </div>\n",
              "  </div>\n"
            ]
          },
          "metadata": {},
          "execution_count": 245
        }
      ],
      "source": [
        "result = pd.DataFrame()\n",
        "result['r2'] = [r2]\n",
        "result['rmse'] = [rmse]\n",
        "result['mape'] = [mape]\n",
        "result"
      ]
    },
    {
      "cell_type": "code",
      "execution_count": null,
      "metadata": {
        "id": "gmalqUUgOqB-"
      },
      "outputs": [],
      "source": []
    }
  ],
  "metadata": {
    "colab": {
      "provenance": [],
      "include_colab_link": true
    },
    "kernelspec": {
      "display_name": "Python 3",
      "name": "python3"
    },
    "language_info": {
      "codemirror_mode": {
        "name": "ipython",
        "version": 3
      },
      "file_extension": ".py",
      "mimetype": "text/x-python",
      "name": "python",
      "nbconvert_exporter": "python",
      "pygments_lexer": "ipython3",
      "version": "3.11.5"
    }
  },
  "nbformat": 4,
  "nbformat_minor": 0
}