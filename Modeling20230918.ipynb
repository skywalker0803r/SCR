{
  "cells": [
    {
      "cell_type": "markdown",
      "metadata": {
        "id": "view-in-github",
        "colab_type": "text"
      },
      "source": [
        "<a href=\"https://colab.research.google.com/github/skywalker0803r/SCR/blob/main/Modeling20230918.ipynb\" target=\"_parent\"><img src=\"https://colab.research.google.com/assets/colab-badge.svg\" alt=\"Open In Colab\"/></a>"
      ]
    },
    {
      "cell_type": "code",
      "source": [
        "from google.colab import drive\n",
        "drive.mount('/content/drive')"
      ],
      "metadata": {
        "id": "gZSjFXDz8h7e",
        "outputId": "e70a1ac5-3f07-4c30-9906-6f278a2ae016",
        "colab": {
          "base_uri": "https://localhost:8080/"
        }
      },
      "execution_count": 55,
      "outputs": [
        {
          "output_type": "stream",
          "name": "stdout",
          "text": [
            "Drive already mounted at /content/drive; to attempt to forcibly remount, call drive.mount(\"/content/drive\", force_remount=True).\n"
          ]
        }
      ]
    },
    {
      "cell_type": "code",
      "execution_count": 56,
      "metadata": {
        "id": "lGoj9pl8IYn2"
      },
      "outputs": [],
      "source": [
        "import torch\n",
        "import torch.nn as nn\n",
        "import numpy as np\n",
        "from torch.optim import Adam\n",
        "import pandas as pd\n",
        "from torch.utils.data import TensorDataset,DataLoader\n",
        "from torch import FloatTensor"
      ]
    },
    {
      "cell_type": "markdown",
      "source": [
        "# data"
      ],
      "metadata": {
        "id": "dGgbbrzp_Fh3"
      }
    },
    {
      "cell_type": "code",
      "execution_count": 57,
      "metadata": {
        "id": "lzfun588Iuzo"
      },
      "outputs": [],
      "source": [
        "import joblib\n",
        "data = joblib.load('/content/drive/MyDrive/SCR/train_dataset.pkl')\n",
        "test_data = joblib.load('/content/drive/MyDrive/SCR/test_dataset.pkl')"
      ]
    },
    {
      "cell_type": "markdown",
      "source": [
        "# B,T,F\n"
      ],
      "metadata": {
        "id": "5x7Xv5CE_Nub"
      }
    },
    {
      "cell_type": "code",
      "execution_count": 58,
      "metadata": {
        "colab": {
          "base_uri": "https://localhost:8080/"
        },
        "id": "wY7pAqEKLVTp",
        "outputId": "7b999f2a-838e-4fdc-f8f0-0f145f016413"
      },
      "outputs": [
        {
          "output_type": "execute_result",
          "data": {
            "text/plain": [
              "(54032, 10, 35)"
            ]
          },
          "metadata": {},
          "execution_count": 58
        }
      ],
      "source": [
        "data['state'].shape"
      ]
    },
    {
      "cell_type": "code",
      "execution_count": 59,
      "metadata": {
        "colab": {
          "base_uri": "https://localhost:8080/"
        },
        "id": "v3XGdjpRRyA5",
        "outputId": "3642d4df-34c9-4c2b-cade-55d0e16c811e"
      },
      "outputs": [
        {
          "output_type": "execute_result",
          "data": {
            "text/plain": [
              "(54032, 10)"
            ]
          },
          "metadata": {},
          "execution_count": 59
        }
      ],
      "source": [
        "data['action'].shape"
      ]
    },
    {
      "cell_type": "markdown",
      "source": [
        "#  B,T,F\n"
      ],
      "metadata": {
        "id": "Bgezsetl_Q_F"
      }
    },
    {
      "cell_type": "code",
      "execution_count": 60,
      "metadata": {
        "colab": {
          "base_uri": "https://localhost:8080/"
        },
        "id": "v5N10o9PEbvi",
        "outputId": "48e1c62b-ae31-43dd-d9f5-93dd9000a913"
      },
      "outputs": [
        {
          "output_type": "execute_result",
          "data": {
            "text/plain": [
              "(54032, 10, 1)"
            ]
          },
          "metadata": {},
          "execution_count": 60
        }
      ],
      "source": [
        "data['action'] = data['action'].reshape(-1,data['action'].shape[-1],1)\n",
        "data['action'].shape"
      ]
    },
    {
      "cell_type": "markdown",
      "source": [
        "#  B,F\n"
      ],
      "metadata": {
        "id": "T8s0UY5c_S29"
      }
    },
    {
      "cell_type": "code",
      "execution_count": 61,
      "metadata": {
        "colab": {
          "base_uri": "https://localhost:8080/"
        },
        "id": "Ykf8z30xRzmi",
        "outputId": "7e39515c-2838-429a-a823-3dc54c05fc85"
      },
      "outputs": [
        {
          "output_type": "execute_result",
          "data": {
            "text/plain": [
              "(54032, 1)"
            ]
          },
          "metadata": {},
          "execution_count": 61
        }
      ],
      "source": [
        "data['value'].shape"
      ]
    },
    {
      "cell_type": "code",
      "execution_count": 62,
      "metadata": {
        "id": "ZCXDKTsRIt08"
      },
      "outputs": [],
      "source": [
        "data_size = len(data['value'])\n",
        "batch_size = 128\n",
        "hidden_size = 128\n",
        "request_size = 1\n",
        "state_size = data['state'].shape[-1]\n",
        "value_size = data['value'].shape[-1]\n",
        "action_size = data['action'].shape[-1]\n",
        "time_step = data['state'].shape[1]"
      ]
    },
    {
      "cell_type": "code",
      "execution_count": 63,
      "metadata": {
        "id": "H1dEIPwsLvQj"
      },
      "outputs": [],
      "source": [
        "d = {}\n",
        "d['state'] = FloatTensor(data['state'])\n",
        "d['action'] = FloatTensor(data['action'])\n",
        "d['value'] = FloatTensor(data['value'])\n",
        "d['request'] = FloatTensor(torch.rand(data_size,request_size)) # uniform distribution\n",
        "d = TensorDataset(d['state'],d['request'],d['action'],d['value'])\n",
        "train_iter = DataLoader(d,batch_size,shuffle=False)"
      ]
    },
    {
      "cell_type": "code",
      "execution_count": 64,
      "metadata": {
        "id": "DcRvsj3UL4JC"
      },
      "outputs": [],
      "source": [
        "class R2D2(nn.Module):\n",
        "  def __init__(self,obs_size,n_actions,hidden_size):\n",
        "    super().__init__()\n",
        "    self.hidden_size = hidden_size\n",
        "    self.l1 = nn.Linear(obs_size,self.hidden_size)\n",
        "    self.l2 = nn.LSTMCell(self.hidden_size,self.hidden_size)\n",
        "    self.l3 = nn.Linear(self.hidden_size,n_actions)\n",
        "    self.dropout = nn.Dropout (p = 0.25)\n",
        "\n",
        "  def forward(self,x,hx,cx):\n",
        "    x = torch.tanh(self.l1(x))\n",
        "    hx,cx = self.l2(x,(hx,cx))\n",
        "    #x = self.dropout(hx)\n",
        "    x = torch.tanh(hx)\n",
        "    x = torch.sigmoid(self.l3(x)) # to range[0,1]\n",
        "    return x,hx,cx"
      ]
    },
    {
      "cell_type": "code",
      "execution_count": 65,
      "metadata": {
        "id": "wNRYY69PL9bt"
      },
      "outputs": [],
      "source": [
        "class ActorCritic(nn.Module):\n",
        "  def __init__(self,actor,critic,time_step):\n",
        "    super().__init__()\n",
        "\n",
        "    # TIME\n",
        "    self.time_step = time_step\n",
        "\n",
        "    # ACTOR OR 優化搜索模型\n",
        "    self.actor = actor\n",
        "    self.actor_optimizer = Adam(actor.parameters(),lr=1e-3)\n",
        "\n",
        "    # CRITIC OR 代理模型\n",
        "    self.critic = critic\n",
        "    self.critic_optimizer = Adam(critic.parameters(),lr=1e-3)\n",
        "\n",
        "  def forward(self,state,request):\n",
        "    actions = self.actor_forward(state,request)\n",
        "    values = self.critic_forward(state,actions)\n",
        "    return values\n",
        "\n",
        "  def actor_forward(self,state,request,eval=False):\n",
        "    '''\n",
        "    # 給定狀態(不可控)和需求 輸出一系列動作\n",
        "    '''\n",
        "    # 切換模式\n",
        "    if eval == True:\n",
        "      self.actor.eval()\n",
        "    else:\n",
        "      self.actor.train()\n",
        "\n",
        "    # 初始化隱變量 LSTM特有的長短期記憶\n",
        "    hx = torch.zeros((state.size()[0],actor.hidden_size))\n",
        "    cx = torch.zeros((state.size()[0],actor.hidden_size))\n",
        "\n",
        "    # 待會用來存放action element用\n",
        "    actions = torch.FloatTensor()\n",
        "\n",
        "    # 對一定時間長度進行遍歷將state給actor forward 並將結果蒐集起來\n",
        "    for t in range(self.time_step):\n",
        "      a,hx,cx = self.actor(torch.cat((state[:,t,:],request),dim=1),hx,cx)\n",
        "      actions = torch.cat((actions,a),dim=1)\n",
        "\n",
        "    # 一系列動作 (Batch,Time,Features)\n",
        "    actions = actions.reshape(state.size()[0],self.time_step,-1)\n",
        "\n",
        "    return actions\n",
        "\n",
        "  def critic_forward(self,state,action,eval=False):\n",
        "    '''\n",
        "    # 輸入狀態(不可控)和一系列動作(可控),預測產出\n",
        "    '''\n",
        "\n",
        "    # 切換模式\n",
        "    if eval == True:\n",
        "      self.critic.eval()\n",
        "    else:\n",
        "      self.critic.train()\n",
        "\n",
        "    # 初始化 隱變量 長短期記憶\n",
        "    hx = torch.zeros((state.size()[0],critic.hidden_size))\n",
        "    cx = torch.zeros((state.size()[0],critic.hidden_size))\n",
        "\n",
        "    # 建立values的存放區\n",
        "    values = torch.FloatTensor()\n",
        "\n",
        "    # 對時間點遍歷 將state,action依序放入critic取得v並將v蒐集起來\n",
        "    for t in range(self.time_step):\n",
        "      # 根據當前t時刻狀態,動作,hx,cx當輸入得到,v(產出),更新hx,cx\n",
        "      v,hx,cx = self.critic(torch.cat((state[:,t,:],action[:,t,:]),dim=1),hx,cx)\n",
        "      values = torch.cat((values,v),dim=1)\n",
        "\n",
        "    # 一系列產出(Batch,Time,Features)\n",
        "    values = values.reshape(state.size()[0],self.time_step,-1)\n",
        "\n",
        "    # 只取最後一個時間點的v (Batch,Time,Features)\n",
        "    return values[:,-1,:] # return last time_step\n",
        "\n",
        "  def train_critic(self,state,action,value):\n",
        "    '''\n",
        "    x: [state,action]\n",
        "    y: [value]\n",
        "    '監督式學習'\n",
        "    '''\n",
        "    self.critic.train()#可訓練\n",
        "    self.actor.eval()#凍結權重\n",
        "\n",
        "    # 計算預測值:hat\n",
        "    value_hat = self.critic_forward(state,action)\n",
        "\n",
        "    # 預測值跟label的平方差愈小愈好\n",
        "    loss = ((value_hat - value)**2).mean()\n",
        "    # loss 反向傳播\n",
        "    loss.backward()\n",
        "\n",
        "    # 使用optimizer優化\n",
        "    self.critic_optimizer.step()\n",
        "    self.critic_optimizer.zero_grad()\n",
        "    return loss.item()\n",
        "\n",
        "  def train_actor(self,state,request):\n",
        "    '''\n",
        "    x: [state,request]\n",
        "    y: maximum critic value\n",
        "    '最小化產出跟request的差異'\n",
        "    '''\n",
        "    self.actor.train()\n",
        "    self.critic.eval()\n",
        "    actions = self.actor_forward(state,request)\n",
        "    value_hat = self.critic_forward(state,actions)\n",
        "\n",
        "    # 首先預測值跟需求的平方差愈小愈好\n",
        "    loss1 = ((request - value_hat)**2).mean()\n",
        "\n",
        "    # 再來避免\"變異數太大(時間維度上)\" 因為盤控人員不可能突然調太多\n",
        "    #loss2 = actions.reshape(-1,time_step,action_size).std(axis=1)\n",
        "    #loss2 = loss2.sum(axis=-1).mean(axis=0)\n",
        "\n",
        "    loss = loss1 #+ loss2\n",
        "    loss.backward()\n",
        "\n",
        "    self.actor_optimizer.step()\n",
        "    self.actor.zero_grad()\n",
        "\n",
        "    return loss.item()"
      ]
    },
    {
      "cell_type": "markdown",
      "source": [
        "# 實例化模型"
      ],
      "metadata": {
        "id": "8WIqv3VRBOSf"
      }
    },
    {
      "cell_type": "code",
      "execution_count": 66,
      "metadata": {
        "id": "fIgK0jEZMC_6"
      },
      "outputs": [],
      "source": [
        "# actor吃狀態跟需求輸出操作建議\n",
        "actor = R2D2(state_size+request_size,action_size,hidden_size)\n",
        "# critic吃狀態跟操作輸出最後產品產出量(預估)\n",
        "critic = R2D2(state_size+action_size,value_size,hidden_size)\n",
        "# 實例化這個ActorCritic架構\n",
        "model = ActorCritic(actor,critic,time_step)"
      ]
    },
    {
      "cell_type": "markdown",
      "source": [
        "# 隨機產生數據測試s:state,r:request"
      ],
      "metadata": {
        "id": "rQVBPf1jBlRm"
      }
    },
    {
      "cell_type": "code",
      "execution_count": 67,
      "metadata": {
        "colab": {
          "base_uri": "https://localhost:8080/"
        },
        "id": "8AwpFSElMI9K",
        "outputId": "d7af0562-8bd6-4c61-8cfa-6947a2896594"
      },
      "outputs": [
        {
          "output_type": "execute_result",
          "data": {
            "text/plain": [
              "(torch.Size([1, 10, 35]), torch.Size([1, 1]))"
            ]
          },
          "metadata": {},
          "execution_count": 67
        }
      ],
      "source": [
        "s = torch.rand(1,time_step,state_size)#(B,T,s_dim)\n",
        "r = torch.rand(1,request_size)#(B,r_dim)\n",
        "s.shape,r.shape"
      ]
    },
    {
      "cell_type": "markdown",
      "source": [
        "# 前向傳播測試"
      ],
      "metadata": {
        "id": "23771Uc0Bpbe"
      }
    },
    {
      "cell_type": "code",
      "execution_count": 68,
      "metadata": {
        "colab": {
          "base_uri": "https://localhost:8080/"
        },
        "id": "hwolp-9JMaya",
        "outputId": "43e83bf2-3bfd-4874-ed89-06c71d318421"
      },
      "outputs": [
        {
          "output_type": "execute_result",
          "data": {
            "text/plain": [
              "tensor([[0.5111]], grad_fn=<SliceBackward0>)"
            ]
          },
          "metadata": {},
          "execution_count": 68
        }
      ],
      "source": [
        "model.forward(s,r)"
      ]
    },
    {
      "cell_type": "code",
      "execution_count": 69,
      "metadata": {
        "colab": {
          "base_uri": "https://localhost:8080/",
          "height": 53
        },
        "id": "8z8zsU9JUZJQ",
        "outputId": "83590a37-11a1-4c81-f341-eccf1a837841"
      },
      "outputs": [
        {
          "output_type": "execute_result",
          "data": {
            "text/plain": [
              "'\\n%load_ext tensorboard\\nfrom datetime import datetime\\nimport time\\nfrom torch.utils.tensorboard import SummaryWriter\\nlogdir=\"logs/fit/\" + datetime.now().strftime(\"%Y%m%d-%H%M%S\")\\nwriter = SummaryWriter(log_dir=logdir)\\nwriter.add_graph(model,[s,r])\\nwriter.close()\\n%tensorboard --logdir logs\\n'"
            ],
            "application/vnd.google.colaboratory.intrinsic+json": {
              "type": "string"
            }
          },
          "metadata": {},
          "execution_count": 69
        }
      ],
      "source": [
        "'''\n",
        "%load_ext tensorboard\n",
        "from datetime import datetime\n",
        "import time\n",
        "from torch.utils.tensorboard import SummaryWriter\n",
        "logdir=\"logs/fit/\" + datetime.now().strftime(\"%Y%m%d-%H%M%S\")\n",
        "writer = SummaryWriter(log_dir=logdir)\n",
        "writer.add_graph(model,[s,r])\n",
        "writer.close()\n",
        "%tensorboard --logdir logs\n",
        "'''"
      ]
    },
    {
      "cell_type": "markdown",
      "metadata": {
        "id": "joK1Qrv0M1o7"
      },
      "source": [
        "# 定義訓練函數"
      ]
    },
    {
      "cell_type": "code",
      "execution_count": 70,
      "metadata": {
        "id": "dR78zoykUtql"
      },
      "outputs": [],
      "source": [
        "def train_critic():\n",
        "  loss = 0\n",
        "  for i,(bs,br,ba,bv) in enumerate(train_iter):\n",
        "    loss += model.train_critic(bs,ba,bv)\n",
        "  return loss\n",
        "\n",
        "def train_actor():\n",
        "  loss = 0\n",
        "  for i,(bs,br,ba,bv) in enumerate(train_iter):\n",
        "    loss += model.train_actor(bs,br)\n",
        "  return loss\n",
        "\n",
        "def train(model,train_iter,epochs1=10,epochs2=30):\n",
        "  train_history = {}\n",
        "  train_history['actor'] = []\n",
        "  train_history['critic'] = []\n",
        "\n",
        "  # 先訓練critic代理模型(希望此代理模型訓練後夠接近真實世界情況)\n",
        "  for epoch in range(epochs1):\n",
        "    loss = train_critic()\n",
        "    train_history['critic'].append(loss)\n",
        "    print('epoch:{} critic_loss:{}'.format(epoch,loss))\n",
        "\n",
        "  # 代理模型訓練完之後就假設此critic代理模型已經是(真實世界情況)\n",
        "  # 因此若假設成立則可以在此critic代理模型再進行最佳解的搜索\n",
        "  # 這裡的搜索是利用神經網路actor,從一開始隨便給action觀察loss(這裡loss定義為使用者期待跟實際落差)\n",
        "  # 然後不斷降低這個loss的過程,稱之為神經網路actor的搜索,也可以將其視為神經網路actor的訓練\n",
        "  for epoch in range(epochs2):\n",
        "    loss = train_actor()\n",
        "    train_history['actor'].append(loss)\n",
        "    print('epoch:{} actor_loss:{}'.format(epoch,loss))\n",
        "\n",
        "  return model,train_history"
      ]
    },
    {
      "cell_type": "markdown",
      "source": [
        "# 從train_iter 採些資料出來讓actor forward"
      ],
      "metadata": {
        "id": "GBF0q5vlCrYw"
      }
    },
    {
      "cell_type": "code",
      "execution_count": 71,
      "metadata": {
        "colab": {
          "base_uri": "https://localhost:8080/",
          "height": 380
        },
        "id": "E1mMtJB6UyUT",
        "outputId": "4eee7cf5-c8d6-49dc-bc9d-b31fa2281742"
      },
      "outputs": [
        {
          "output_type": "stream",
          "name": "stdout",
          "text": [
            "以下是actor根據狀態和需求給出的操作建議\n"
          ]
        },
        {
          "output_type": "execute_result",
          "data": {
            "text/plain": [
              "<pandas.io.formats.style.Styler at 0x7f1eaf12eda0>"
            ],
            "text/html": [
              "<style type=\"text/css\">\n",
              "#T_75c2e_row0_col0 {\n",
              "  background-color: #fff7fb;\n",
              "  color: #000000;\n",
              "}\n",
              "#T_75c2e_row1_col0 {\n",
              "  background-color: #549cc7;\n",
              "  color: #f1f1f1;\n",
              "}\n",
              "#T_75c2e_row2_col0 {\n",
              "  background-color: #0570b0;\n",
              "  color: #f1f1f1;\n",
              "}\n",
              "#T_75c2e_row3_col0 {\n",
              "  background-color: #2d8abd;\n",
              "  color: #f1f1f1;\n",
              "}\n",
              "#T_75c2e_row4_col0 {\n",
              "  background-color: #1379b5;\n",
              "  color: #f1f1f1;\n",
              "}\n",
              "#T_75c2e_row5_col0 {\n",
              "  background-color: #2f8bbe;\n",
              "  color: #f1f1f1;\n",
              "}\n",
              "#T_75c2e_row6_col0 {\n",
              "  background-color: #3790c0;\n",
              "  color: #f1f1f1;\n",
              "}\n",
              "#T_75c2e_row7_col0 {\n",
              "  background-color: #056ead;\n",
              "  color: #f1f1f1;\n",
              "}\n",
              "#T_75c2e_row8_col0 {\n",
              "  background-color: #045483;\n",
              "  color: #f1f1f1;\n",
              "}\n",
              "#T_75c2e_row9_col0 {\n",
              "  background-color: #023858;\n",
              "  color: #f1f1f1;\n",
              "}\n",
              "</style>\n",
              "<table id=\"T_75c2e\" class=\"dataframe\">\n",
              "  <thead>\n",
              "    <tr>\n",
              "      <th class=\"blank level0\" >&nbsp;</th>\n",
              "      <th id=\"T_75c2e_level0_col0\" class=\"col_heading level0 col0\" >0</th>\n",
              "    </tr>\n",
              "  </thead>\n",
              "  <tbody>\n",
              "    <tr>\n",
              "      <th id=\"T_75c2e_level0_row0\" class=\"row_heading level0 row0\" >0</th>\n",
              "      <td id=\"T_75c2e_row0_col0\" class=\"data row0 col0\" >0.499166</td>\n",
              "    </tr>\n",
              "    <tr>\n",
              "      <th id=\"T_75c2e_level0_row1\" class=\"row_heading level0 row1\" >1</th>\n",
              "      <td id=\"T_75c2e_row1_col0\" class=\"data row1 col0\" >0.500687</td>\n",
              "    </tr>\n",
              "    <tr>\n",
              "      <th id=\"T_75c2e_level0_row2\" class=\"row_heading level0 row2\" >2</th>\n",
              "      <td id=\"T_75c2e_row2_col0\" class=\"data row2 col0\" >0.501185</td>\n",
              "    </tr>\n",
              "    <tr>\n",
              "      <th id=\"T_75c2e_level0_row3\" class=\"row_heading level0 row3\" >3</th>\n",
              "      <td id=\"T_75c2e_row3_col0\" class=\"data row3 col0\" >0.500907</td>\n",
              "    </tr>\n",
              "    <tr>\n",
              "      <th id=\"T_75c2e_level0_row4\" class=\"row_heading level0 row4\" >4</th>\n",
              "      <td id=\"T_75c2e_row4_col0\" class=\"data row4 col0\" >0.501084</td>\n",
              "    </tr>\n",
              "    <tr>\n",
              "      <th id=\"T_75c2e_level0_row5\" class=\"row_heading level0 row5\" >5</th>\n",
              "      <td id=\"T_75c2e_row5_col0\" class=\"data row5 col0\" >0.500902</td>\n",
              "    </tr>\n",
              "    <tr>\n",
              "      <th id=\"T_75c2e_level0_row6\" class=\"row_heading level0 row6\" >6</th>\n",
              "      <td id=\"T_75c2e_row6_col0\" class=\"data row6 col0\" >0.500847</td>\n",
              "    </tr>\n",
              "    <tr>\n",
              "      <th id=\"T_75c2e_level0_row7\" class=\"row_heading level0 row7\" >7</th>\n",
              "      <td id=\"T_75c2e_row7_col0\" class=\"data row7 col0\" >0.501217</td>\n",
              "    </tr>\n",
              "    <tr>\n",
              "      <th id=\"T_75c2e_level0_row8\" class=\"row_heading level0 row8\" >8</th>\n",
              "      <td id=\"T_75c2e_row8_col0\" class=\"data row8 col0\" >0.501586</td>\n",
              "    </tr>\n",
              "    <tr>\n",
              "      <th id=\"T_75c2e_level0_row9\" class=\"row_heading level0 row9\" >9</th>\n",
              "      <td id=\"T_75c2e_row9_col0\" class=\"data row9 col0\" >0.501861</td>\n",
              "    </tr>\n",
              "  </tbody>\n",
              "</table>\n"
            ]
          },
          "metadata": {},
          "execution_count": 71
        }
      ],
      "source": [
        "a = next(iter(train_iter))\n",
        "s,r,a,v = a\n",
        "actions = model.actor_forward(s,r,eval=True)\n",
        "print('以下是actor根據狀態和需求給出的操作建議')\n",
        "pd.DataFrame(actions[0].detach().numpy()).style.background_gradient()"
      ]
    },
    {
      "cell_type": "markdown",
      "source": [
        "# 執行訓練\n"
      ],
      "metadata": {
        "id": "31Ei6hTBDOMH"
      }
    },
    {
      "cell_type": "code",
      "execution_count": 72,
      "metadata": {
        "colab": {
          "base_uri": "https://localhost:8080/"
        },
        "id": "kyKzdRUwVPvc",
        "outputId": "6046fa52-5f18-4484-e4cc-51cc6c7fe1bd"
      },
      "outputs": [
        {
          "output_type": "stream",
          "name": "stdout",
          "text": [
            "epoch:0 critic_loss:0.8937371959758167\n",
            "epoch:1 critic_loss:0.3216290691166819\n",
            "epoch:2 critic_loss:0.3184655169111892\n",
            "epoch:0 actor_loss:91.81448684632778\n",
            "epoch:1 actor_loss:91.81024251878262\n",
            "epoch:2 actor_loss:91.81021332740784\n"
          ]
        }
      ],
      "source": [
        "model,train_history = train(model,train_iter,epochs1=3,epochs2=3)"
      ]
    },
    {
      "cell_type": "markdown",
      "source": [
        "# 繪製圖表"
      ],
      "metadata": {
        "id": "NSVdvradDRrO"
      }
    },
    {
      "cell_type": "code",
      "execution_count": 73,
      "metadata": {
        "id": "7JhLtom4o9o2",
        "outputId": "4517f92e-be50-4da0-bdda-1f2428555ce4",
        "colab": {
          "base_uri": "https://localhost:8080/",
          "height": 875
        }
      },
      "outputs": [
        {
          "output_type": "display_data",
          "data": {
            "text/plain": [
              "<Figure size 640x480 with 1 Axes>"
            ],
            "image/png": "[encoded data removed]"
          },
          "metadata": {}
        },
        {
          "output_type": "execute_result",
          "data": {
            "text/plain": [
              "[<matplotlib.lines.Line2D at 0x7f1eb8f18b20>]"
            ]
          },
          "metadata": {},
          "execution_count": 73
        },
        {
          "output_type": "display_data",
          "data": {
            "text/plain": [
              "<Figure size 640x480 with 1 Axes>"
            ],
            "image/png": "[encoded data removed]"
          },
          "metadata": {}
        }
      ],
      "source": [
        "import matplotlib.pyplot as plt\n",
        "plt.plot(train_history['critic'])\n",
        "plt.show()\n",
        "plt.plot(train_history['actor'])"
      ]
    },
    {
      "cell_type": "markdown",
      "source": [
        "# 試用訓練好的模型"
      ],
      "metadata": {
        "id": "KjEYWfJJDnl-"
      }
    },
    {
      "cell_type": "code",
      "execution_count": 74,
      "metadata": {
        "id": "Eqvn0qJ4pAB_"
      },
      "outputs": [],
      "source": [
        "s,r,a,v = next(iter(train_iter))\n",
        "actions = model.actor_forward(s,r,eval=True)"
      ]
    },
    {
      "cell_type": "markdown",
      "source": [
        "# 訓練好的模型做推薦"
      ],
      "metadata": {
        "id": "yRJNCc9JDiAM"
      }
    },
    {
      "cell_type": "code",
      "execution_count": 75,
      "metadata": {
        "id": "jwmUMKXlpBKN",
        "outputId": "4c13ca46-00a9-421b-aad9-c048df72a8ab",
        "colab": {
          "base_uri": "https://localhost:8080/",
          "height": 363
        }
      },
      "outputs": [
        {
          "output_type": "execute_result",
          "data": {
            "text/plain": [
              "<pandas.io.formats.style.Styler at 0x7f1eaf12fa30>"
            ],
            "text/html": [
              "<style type=\"text/css\">\n",
              "#T_4e9f0_row0_col0 {\n",
              "  background-color: #fff7fb;\n",
              "  color: #000000;\n",
              "}\n",
              "#T_4e9f0_row1_col0 {\n",
              "  background-color: #023c5f;\n",
              "  color: #f1f1f1;\n",
              "}\n",
              "#T_4e9f0_row2_col0, #T_4e9f0_row3_col0, #T_4e9f0_row4_col0, #T_4e9f0_row5_col0, #T_4e9f0_row6_col0, #T_4e9f0_row7_col0, #T_4e9f0_row8_col0, #T_4e9f0_row9_col0 {\n",
              "  background-color: #023858;\n",
              "  color: #f1f1f1;\n",
              "}\n",
              "</style>\n",
              "<table id=\"T_4e9f0\" class=\"dataframe\">\n",
              "  <thead>\n",
              "    <tr>\n",
              "      <th class=\"blank level0\" >&nbsp;</th>\n",
              "      <th id=\"T_4e9f0_level0_col0\" class=\"col_heading level0 col0\" >0</th>\n",
              "    </tr>\n",
              "  </thead>\n",
              "  <tbody>\n",
              "    <tr>\n",
              "      <th id=\"T_4e9f0_level0_row0\" class=\"row_heading level0 row0\" >0</th>\n",
              "      <td id=\"T_4e9f0_row0_col0\" class=\"data row0 col0\" >0.993527</td>\n",
              "    </tr>\n",
              "    <tr>\n",
              "      <th id=\"T_4e9f0_level0_row1\" class=\"row_heading level0 row1\" >1</th>\n",
              "      <td id=\"T_4e9f0_row1_col0\" class=\"data row1 col0\" >0.999857</td>\n",
              "    </tr>\n",
              "    <tr>\n",
              "      <th id=\"T_4e9f0_level0_row2\" class=\"row_heading level0 row2\" >2</th>\n",
              "      <td id=\"T_4e9f0_row2_col0\" class=\"data row2 col0\" >0.999959</td>\n",
              "    </tr>\n",
              "    <tr>\n",
              "      <th id=\"T_4e9f0_level0_row3\" class=\"row_heading level0 row3\" >3</th>\n",
              "      <td id=\"T_4e9f0_row3_col0\" class=\"data row3 col0\" >0.999968</td>\n",
              "    </tr>\n",
              "    <tr>\n",
              "      <th id=\"T_4e9f0_level0_row4\" class=\"row_heading level0 row4\" >4</th>\n",
              "      <td id=\"T_4e9f0_row4_col0\" class=\"data row4 col0\" >0.999970</td>\n",
              "    </tr>\n",
              "    <tr>\n",
              "      <th id=\"T_4e9f0_level0_row5\" class=\"row_heading level0 row5\" >5</th>\n",
              "      <td id=\"T_4e9f0_row5_col0\" class=\"data row5 col0\" >0.999971</td>\n",
              "    </tr>\n",
              "    <tr>\n",
              "      <th id=\"T_4e9f0_level0_row6\" class=\"row_heading level0 row6\" >6</th>\n",
              "      <td id=\"T_4e9f0_row6_col0\" class=\"data row6 col0\" >0.999971</td>\n",
              "    </tr>\n",
              "    <tr>\n",
              "      <th id=\"T_4e9f0_level0_row7\" class=\"row_heading level0 row7\" >7</th>\n",
              "      <td id=\"T_4e9f0_row7_col0\" class=\"data row7 col0\" >0.999971</td>\n",
              "    </tr>\n",
              "    <tr>\n",
              "      <th id=\"T_4e9f0_level0_row8\" class=\"row_heading level0 row8\" >8</th>\n",
              "      <td id=\"T_4e9f0_row8_col0\" class=\"data row8 col0\" >0.999971</td>\n",
              "    </tr>\n",
              "    <tr>\n",
              "      <th id=\"T_4e9f0_level0_row9\" class=\"row_heading level0 row9\" >9</th>\n",
              "      <td id=\"T_4e9f0_row9_col0\" class=\"data row9 col0\" >0.999971</td>\n",
              "    </tr>\n",
              "  </tbody>\n",
              "</table>\n"
            ]
          },
          "metadata": {},
          "execution_count": 75
        }
      ],
      "source": [
        "pd.DataFrame(actions[0].detach().numpy()).style.background_gradient()"
      ]
    },
    {
      "cell_type": "markdown",
      "source": [
        "# 歷史上的推薦"
      ],
      "metadata": {
        "id": "Y8SHemdBDlQV"
      }
    },
    {
      "cell_type": "code",
      "source": [
        "pd.DataFrame(a[0].numpy()).style.background_gradient()"
      ],
      "metadata": {
        "id": "zIZ9M_X-Db--",
        "outputId": "16485041-2fd2-458a-bddb-d3ed2e3172d9",
        "colab": {
          "base_uri": "https://localhost:8080/",
          "height": 363
        }
      },
      "execution_count": 76,
      "outputs": [
        {
          "output_type": "execute_result",
          "data": {
            "text/plain": [
              "<pandas.io.formats.style.Styler at 0x7f1eb8f61c60>"
            ],
            "text/html": [
              "<style type=\"text/css\">\n",
              "#T_f5fc1_row0_col0 {\n",
              "  background-color: #023858;\n",
              "  color: #f1f1f1;\n",
              "}\n",
              "#T_f5fc1_row1_col0 {\n",
              "  background-color: #045b8e;\n",
              "  color: #f1f1f1;\n",
              "}\n",
              "#T_f5fc1_row2_col0, #T_f5fc1_row7_col0 {\n",
              "  background-color: #04639b;\n",
              "  color: #f1f1f1;\n",
              "}\n",
              "#T_f5fc1_row3_col0 {\n",
              "  background-color: #04649d;\n",
              "  color: #f1f1f1;\n",
              "}\n",
              "#T_f5fc1_row4_col0 {\n",
              "  background-color: #0567a2;\n",
              "  color: #f1f1f1;\n",
              "}\n",
              "#T_f5fc1_row5_col0 {\n",
              "  background-color: #05659f;\n",
              "  color: #f1f1f1;\n",
              "}\n",
              "#T_f5fc1_row6_col0 {\n",
              "  background-color: #034b76;\n",
              "  color: #f1f1f1;\n",
              "}\n",
              "#T_f5fc1_row8_col0 {\n",
              "  background-color: #02395a;\n",
              "  color: #f1f1f1;\n",
              "}\n",
              "#T_f5fc1_row9_col0 {\n",
              "  background-color: #fff7fb;\n",
              "  color: #000000;\n",
              "}\n",
              "</style>\n",
              "<table id=\"T_f5fc1\" class=\"dataframe\">\n",
              "  <thead>\n",
              "    <tr>\n",
              "      <th class=\"blank level0\" >&nbsp;</th>\n",
              "      <th id=\"T_f5fc1_level0_col0\" class=\"col_heading level0 col0\" >0</th>\n",
              "    </tr>\n",
              "  </thead>\n",
              "  <tbody>\n",
              "    <tr>\n",
              "      <th id=\"T_f5fc1_level0_row0\" class=\"row_heading level0 row0\" >0</th>\n",
              "      <td id=\"T_f5fc1_row0_col0\" class=\"data row0 col0\" >0.474366</td>\n",
              "    </tr>\n",
              "    <tr>\n",
              "      <th id=\"T_f5fc1_level0_row1\" class=\"row_heading level0 row1\" >1</th>\n",
              "      <td id=\"T_f5fc1_row1_col0\" class=\"data row1 col0\" >0.471247</td>\n",
              "    </tr>\n",
              "    <tr>\n",
              "      <th id=\"T_f5fc1_level0_row2\" class=\"row_heading level0 row2\" >2</th>\n",
              "      <td id=\"T_f5fc1_row2_col0\" class=\"data row2 col0\" >0.470134</td>\n",
              "    </tr>\n",
              "    <tr>\n",
              "      <th id=\"T_f5fc1_level0_row3\" class=\"row_heading level0 row3\" >3</th>\n",
              "      <td id=\"T_f5fc1_row3_col0\" class=\"data row3 col0\" >0.470007</td>\n",
              "    </tr>\n",
              "    <tr>\n",
              "      <th id=\"T_f5fc1_level0_row4\" class=\"row_heading level0 row4\" >4</th>\n",
              "      <td id=\"T_f5fc1_row4_col0\" class=\"data row4 col0\" >0.469618</td>\n",
              "    </tr>\n",
              "    <tr>\n",
              "      <th id=\"T_f5fc1_level0_row5\" class=\"row_heading level0 row5\" >5</th>\n",
              "      <td id=\"T_f5fc1_row5_col0\" class=\"data row5 col0\" >0.469879</td>\n",
              "    </tr>\n",
              "    <tr>\n",
              "      <th id=\"T_f5fc1_level0_row6\" class=\"row_heading level0 row6\" >6</th>\n",
              "      <td id=\"T_f5fc1_row6_col0\" class=\"data row6 col0\" >0.472613</td>\n",
              "    </tr>\n",
              "    <tr>\n",
              "      <th id=\"T_f5fc1_level0_row7\" class=\"row_heading level0 row7\" >7</th>\n",
              "      <td id=\"T_f5fc1_row7_col0\" class=\"data row7 col0\" >0.470136</td>\n",
              "    </tr>\n",
              "    <tr>\n",
              "      <th id=\"T_f5fc1_level0_row8\" class=\"row_heading level0 row8\" >8</th>\n",
              "      <td id=\"T_f5fc1_row8_col0\" class=\"data row8 col0\" >0.474237</td>\n",
              "    </tr>\n",
              "    <tr>\n",
              "      <th id=\"T_f5fc1_level0_row9\" class=\"row_heading level0 row9\" >9</th>\n",
              "      <td id=\"T_f5fc1_row9_col0\" class=\"data row9 col0\" >0.450565</td>\n",
              "    </tr>\n",
              "  </tbody>\n",
              "</table>\n"
            ]
          },
          "metadata": {},
          "execution_count": 76
        }
      ]
    },
    {
      "cell_type": "markdown",
      "source": [
        "# 使用訓練好的模型產生values"
      ],
      "metadata": {
        "id": "wqz_KXb7DsNe"
      }
    },
    {
      "cell_type": "code",
      "execution_count": 77,
      "metadata": {
        "id": "bcPdlwYxpCRk",
        "outputId": "d9e71a2f-2a1c-4b39-bf66-f350e1259a4d",
        "colab": {
          "base_uri": "https://localhost:8080/"
        }
      },
      "outputs": [
        {
          "output_type": "execute_result",
          "data": {
            "text/plain": [
              "tensor([[0.1323]], grad_fn=<SliceBackward0>)"
            ]
          },
          "metadata": {},
          "execution_count": 77
        }
      ],
      "source": [
        "values = model.critic_forward(s[[0]],actions[[0]],eval=True)\n",
        "values"
      ]
    },
    {
      "cell_type": "markdown",
      "source": [
        "# 實際的Values"
      ],
      "metadata": {
        "id": "n5jIm0UBDyf3"
      }
    },
    {
      "cell_type": "code",
      "source": [
        "v[0]"
      ],
      "metadata": {
        "id": "ktgnkMezD41P",
        "outputId": "d2a07a98-a4b2-4b2e-b92e-51d2d6a90dd3",
        "colab": {
          "base_uri": "https://localhost:8080/"
        }
      },
      "execution_count": 78,
      "outputs": [
        {
          "output_type": "execute_result",
          "data": {
            "text/plain": [
              "tensor([0.1137])"
            ]
          },
          "metadata": {},
          "execution_count": 78
        }
      ]
    },
    {
      "cell_type": "markdown",
      "source": [
        "假設廠區有個希望的wanna_ouput\n",
        "\n",
        "假設state目前在常見情況下(0.5表示)\n",
        "\n",
        "看看模型推薦的操作以及預估的產量"
      ],
      "metadata": {
        "id": "MAPI0zV6D_JP"
      }
    },
    {
      "cell_type": "code",
      "execution_count": 93,
      "metadata": {
        "id": "djsvUZ-_pEKL"
      },
      "outputs": [],
      "source": [
        "wanna_ouput = 0.0\n",
        "state_setting = 0.5\n",
        "s = torch.full((1,time_step,state_size),state_setting)\n",
        "r = torch.full((1,request_size),wanna_ouput)\n",
        "a = model.actor_forward(s,r,eval=True)\n",
        "v = model.critic_forward(s,a,eval=True)"
      ]
    },
    {
      "cell_type": "code",
      "execution_count": 94,
      "metadata": {
        "id": "gN-HtkanpFWw",
        "outputId": "a1c38a38-8bec-4a9b-d3f8-8327477d6354",
        "colab": {
          "base_uri": "https://localhost:8080/",
          "height": 363
        }
      },
      "outputs": [
        {
          "output_type": "execute_result",
          "data": {
            "text/plain": [
              "<pandas.io.formats.style.Styler at 0x7f1ec24bfb20>"
            ],
            "text/html": [
              "<style type=\"text/css\">\n",
              "#T_f359b_row0_col0 {\n",
              "  background-color: #fff7fb;\n",
              "  color: #000000;\n",
              "}\n",
              "#T_f359b_row1_col0 {\n",
              "  background-color: #023c5f;\n",
              "  color: #f1f1f1;\n",
              "}\n",
              "#T_f359b_row2_col0, #T_f359b_row3_col0, #T_f359b_row4_col0, #T_f359b_row5_col0, #T_f359b_row6_col0, #T_f359b_row7_col0, #T_f359b_row8_col0, #T_f359b_row9_col0 {\n",
              "  background-color: #023858;\n",
              "  color: #f1f1f1;\n",
              "}\n",
              "</style>\n",
              "<table id=\"T_f359b\" class=\"dataframe\">\n",
              "  <thead>\n",
              "    <tr>\n",
              "      <th class=\"blank level0\" >&nbsp;</th>\n",
              "      <th id=\"T_f359b_level0_col0\" class=\"col_heading level0 col0\" >0</th>\n",
              "    </tr>\n",
              "  </thead>\n",
              "  <tbody>\n",
              "    <tr>\n",
              "      <th id=\"T_f359b_level0_row0\" class=\"row_heading level0 row0\" >0</th>\n",
              "      <td id=\"T_f359b_row0_col0\" class=\"data row0 col0\" >0.991116</td>\n",
              "    </tr>\n",
              "    <tr>\n",
              "      <th id=\"T_f359b_level0_row1\" class=\"row_heading level0 row1\" >1</th>\n",
              "      <td id=\"T_f359b_row1_col0\" class=\"data row1 col0\" >0.999817</td>\n",
              "    </tr>\n",
              "    <tr>\n",
              "      <th id=\"T_f359b_level0_row2\" class=\"row_heading level0 row2\" >2</th>\n",
              "      <td id=\"T_f359b_row2_col0\" class=\"data row2 col0\" >0.999955</td>\n",
              "    </tr>\n",
              "    <tr>\n",
              "      <th id=\"T_f359b_level0_row3\" class=\"row_heading level0 row3\" >3</th>\n",
              "      <td id=\"T_f359b_row3_col0\" class=\"data row3 col0\" >0.999967</td>\n",
              "    </tr>\n",
              "    <tr>\n",
              "      <th id=\"T_f359b_level0_row4\" class=\"row_heading level0 row4\" >4</th>\n",
              "      <td id=\"T_f359b_row4_col0\" class=\"data row4 col0\" >0.999970</td>\n",
              "    </tr>\n",
              "    <tr>\n",
              "      <th id=\"T_f359b_level0_row5\" class=\"row_heading level0 row5\" >5</th>\n",
              "      <td id=\"T_f359b_row5_col0\" class=\"data row5 col0\" >0.999970</td>\n",
              "    </tr>\n",
              "    <tr>\n",
              "      <th id=\"T_f359b_level0_row6\" class=\"row_heading level0 row6\" >6</th>\n",
              "      <td id=\"T_f359b_row6_col0\" class=\"data row6 col0\" >0.999970</td>\n",
              "    </tr>\n",
              "    <tr>\n",
              "      <th id=\"T_f359b_level0_row7\" class=\"row_heading level0 row7\" >7</th>\n",
              "      <td id=\"T_f359b_row7_col0\" class=\"data row7 col0\" >0.999970</td>\n",
              "    </tr>\n",
              "    <tr>\n",
              "      <th id=\"T_f359b_level0_row8\" class=\"row_heading level0 row8\" >8</th>\n",
              "      <td id=\"T_f359b_row8_col0\" class=\"data row8 col0\" >0.999971</td>\n",
              "    </tr>\n",
              "    <tr>\n",
              "      <th id=\"T_f359b_level0_row9\" class=\"row_heading level0 row9\" >9</th>\n",
              "      <td id=\"T_f359b_row9_col0\" class=\"data row9 col0\" >0.999971</td>\n",
              "    </tr>\n",
              "  </tbody>\n",
              "</table>\n"
            ]
          },
          "metadata": {},
          "execution_count": 94
        }
      ],
      "source": [
        "# 模型建議操作\n",
        "pd.DataFrame(a[0].detach().numpy()).style.background_gradient()"
      ]
    },
    {
      "cell_type": "code",
      "execution_count": 95,
      "metadata": {
        "id": "FoFv6-0IpHHY",
        "outputId": "17bdd322-91f7-4194-ef36-0ffd3db67cff",
        "colab": {
          "base_uri": "https://localhost:8080/"
        }
      },
      "outputs": [
        {
          "output_type": "stream",
          "name": "stdout",
          "text": [
            "value:0.13404648005962372\n",
            "\n"
          ]
        }
      ],
      "source": [
        "# 模型預測根據上述操作應當的產出\n",
        "print(f'value:{v.detach().numpy()[0][0]}\\n')"
      ]
    },
    {
      "cell_type": "markdown",
      "metadata": {
        "id": "N0PqGLxoGjnm"
      },
      "source": [
        "# r2 rse mape"
      ]
    },
    {
      "cell_type": "code",
      "source": [
        "from sklearn.metrics import r2_score,mean_squared_error\n",
        "def mape(y_true, y_pred):\n",
        "  try:\n",
        "    y_true, y_pred = np.array(y_true), np.array(y_pred)\n",
        "  except:\n",
        "    pass\n",
        "    return np.mean(np.abs((y_true - y_pred) / y_true)) * 100"
      ],
      "metadata": {
        "id": "aGjbYiy0Er6n"
      },
      "execution_count": 82,
      "outputs": []
    },
    {
      "cell_type": "markdown",
      "source": [
        "# TRAIN KPI"
      ],
      "metadata": {
        "id": "wtG5dTs1Etf2"
      }
    },
    {
      "cell_type": "code",
      "execution_count": 86,
      "metadata": {
        "id": "4sISkpBr3MfH",
        "outputId": "64d4914f-d1a0-47b7-9f7d-de411566aa40",
        "colab": {
          "base_uri": "https://localhost:8080/"
        }
      },
      "outputs": [
        {
          "output_type": "execute_result",
          "data": {
            "text/plain": [
              "(-0.010161603502257144, 0.026920036908276296, None)"
            ]
          },
          "metadata": {},
          "execution_count": 86
        }
      ],
      "source": [
        "v_hat = model.critic_forward(\n",
        "    FloatTensor(data['state']),\n",
        "    FloatTensor(data['action']),eval=True).detach().numpy()\n",
        "r2 = r2_score(v_hat,data['value'])\n",
        "r2 = r2_score(data['value'],v_hat)\n",
        "rmse = np.sqrt(mean_squared_error(v_hat,data['value']))\n",
        "mape_ = mape(v_hat,data['value'])\n",
        "r2,rmse,mape_"
      ]
    },
    {
      "cell_type": "markdown",
      "source": [
        "# TEST KPI"
      ],
      "metadata": {
        "id": "42E6jz3sEyB2"
      }
    },
    {
      "cell_type": "code",
      "execution_count": 88,
      "metadata": {
        "id": "bp_j_p7BHn7H",
        "outputId": "4ce3e073-10fa-4f2b-9b37-4593630524c4",
        "colab": {
          "base_uri": "https://localhost:8080/"
        }
      },
      "outputs": [
        {
          "output_type": "execute_result",
          "data": {
            "text/plain": [
              "(-0.10656246652695844, 0.029709894038027426, None)"
            ]
          },
          "metadata": {},
          "execution_count": 88
        }
      ],
      "source": [
        "s = FloatTensor(test_data['state'])\n",
        "a = FloatTensor(test_data['action'].reshape(-1,time_step,1))\n",
        "v_hat = model.critic_forward(s,a,eval=True).detach().numpy()\n",
        "\n",
        "r2 = r2_score(v_hat,test_data['value'])\n",
        "r2 = r2_score(test_data['value'],v_hat)\n",
        "rmse = np.sqrt(mean_squared_error(v_hat,test_data['value']))\n",
        "mape_ = mape(v_hat,test_data['value'].astype('float32'))\n",
        "r2,rmse,mape_"
      ]
    },
    {
      "cell_type": "markdown",
      "source": [
        "# TEST RESULT"
      ],
      "metadata": {
        "id": "8pw0mXnAFG2C"
      }
    },
    {
      "cell_type": "code",
      "execution_count": 89,
      "metadata": {
        "id": "bD8xHWd5NwxW",
        "outputId": "22bf9963-bd9e-48c7-b165-cfaffe406bdf",
        "colab": {
          "base_uri": "https://localhost:8080/",
          "height": 81
        }
      },
      "outputs": [
        {
          "output_type": "execute_result",
          "data": {
            "text/plain": [
              "         r2     rmse                               mape\n",
              "0 -0.106562  0.02971  <function mape at 0x7f1eb8f175b0>"
            ],
            "text/html": [
              "\n",
              "  <div id=\"df-4d152e1e-5efb-45bc-89c7-c1b02e5457d4\" class=\"colab-df-container\">\n",
              "    <div>\n",
              "<style scoped>\n",
              "    .dataframe tbody tr th:only-of-type {\n",
              "        vertical-align: middle;\n",
              "    }\n",
              "\n",
              "    .dataframe tbody tr th {\n",
              "        vertical-align: top;\n",
              "    }\n",
              "\n",
              "    .dataframe thead th {\n",
              "        text-align: right;\n",
              "    }\n",
              "</style>\n",
              "<table border=\"1\" class=\"dataframe\">\n",
              "  <thead>\n",
              "    <tr style=\"text-align: right;\">\n",
              "      <th></th>\n",
              "      <th>r2</th>\n",
              "      <th>rmse</th>\n",
              "      <th>mape</th>\n",
              "    </tr>\n",
              "  </thead>\n",
              "  <tbody>\n",
              "    <tr>\n",
              "      <th>0</th>\n",
              "      <td>-0.106562</td>\n",
              "      <td>0.02971</td>\n",
              "      <td>&lt;function mape at 0x7f1eb8f175b0&gt;</td>\n",
              "    </tr>\n",
              "  </tbody>\n",
              "</table>\n",
              "</div>\n",
              "    <div class=\"colab-df-buttons\">\n",
              "\n",
              "  <div class=\"colab-df-container\">\n",
              "    <button class=\"colab-df-convert\" onclick=\"convertToInteractive('df-4d152e1e-5efb-45bc-89c7-c1b02e5457d4')\"\n",
              "            title=\"Convert this dataframe to an interactive table.\"\n",
              "            style=\"display:none;\">\n",
              "\n",
              "  <svg xmlns=\"http://www.w3.org/2000/svg\" height=\"24px\" viewBox=\"0 -960 960 960\">\n",
              "    <path d=\"M120-120v-720h720v720H120Zm60-500h600v-160H180v160Zm220 220h160v-160H400v160Zm0 220h160v-160H400v160ZM180-400h160v-160H180v160Zm440 0h160v-160H620v160ZM180-180h160v-160H180v160Zm440 0h160v-160H620v160Z\"/>\n",
              "  </svg>\n",
              "    </button>\n",
              "\n",
              "  <style>\n",
              "    .colab-df-container {\n",
              "      display:flex;\n",
              "      gap: 12px;\n",
              "    }\n",
              "\n",
              "    .colab-df-convert {\n",
              "      background-color: #E8F0FE;\n",
              "      border: none;\n",
              "      border-radius: 50%;\n",
              "      cursor: pointer;\n",
              "      display: none;\n",
              "      fill: #1967D2;\n",
              "      height: 32px;\n",
              "      padding: 0 0 0 0;\n",
              "      width: 32px;\n",
              "    }\n",
              "\n",
              "    .colab-df-convert:hover {\n",
              "      background-color: #E2EBFA;\n",
              "      box-shadow: 0px 1px 2px rgba(60, 64, 67, 0.3), 0px 1px 3px 1px rgba(60, 64, 67, 0.15);\n",
              "      fill: #174EA6;\n",
              "    }\n",
              "\n",
              "    .colab-df-buttons div {\n",
              "      margin-bottom: 4px;\n",
              "    }\n",
              "\n",
              "    [theme=dark] .colab-df-convert {\n",
              "      background-color: #3B4455;\n",
              "      fill: #D2E3FC;\n",
              "    }\n",
              "\n",
              "    [theme=dark] .colab-df-convert:hover {\n",
              "      background-color: #434B5C;\n",
              "      box-shadow: 0px 1px 3px 1px rgba(0, 0, 0, 0.15);\n",
              "      filter: drop-shadow(0px 1px 2px rgba(0, 0, 0, 0.3));\n",
              "      fill: #FFFFFF;\n",
              "    }\n",
              "  </style>\n",
              "\n",
              "    <script>\n",
              "      const buttonEl =\n",
              "        document.querySelector('#df-4d152e1e-5efb-45bc-89c7-c1b02e5457d4 button.colab-df-convert');\n",
              "      buttonEl.style.display =\n",
              "        google.colab.kernel.accessAllowed ? 'block' : 'none';\n",
              "\n",
              "      async function convertToInteractive(key) {\n",
              "        const element = document.querySelector('#df-4d152e1e-5efb-45bc-89c7-c1b02e5457d4');\n",
              "        const dataTable =\n",
              "          await google.colab.kernel.invokeFunction('convertToInteractive',\n",
              "                                                    [key], {});\n",
              "        if (!dataTable) return;\n",
              "\n",
              "        const docLinkHtml = 'Like what you see? Visit the ' +\n",
              "          '<a target=\"_blank\" href=https://colab.research.google.com/notebooks/data_table.ipynb>data table notebook</a>'\n",
              "          + ' to learn more about interactive tables.';\n",
              "        element.innerHTML = '';\n",
              "        dataTable['output_type'] = 'display_data';\n",
              "        await google.colab.output.renderOutput(dataTable, element);\n",
              "        const docLink = document.createElement('div');\n",
              "        docLink.innerHTML = docLinkHtml;\n",
              "        element.appendChild(docLink);\n",
              "      }\n",
              "    </script>\n",
              "  </div>\n",
              "\n",
              "    </div>\n",
              "  </div>\n"
            ]
          },
          "metadata": {},
          "execution_count": 89
        }
      ],
      "source": [
        "result = pd.DataFrame()\n",
        "result['r2'] = [r2]\n",
        "result['rmse'] = [rmse]\n",
        "result['mape'] = [mape]\n",
        "result"
      ]
    },
    {
      "cell_type": "code",
      "execution_count": 85,
      "metadata": {
        "id": "gmalqUUgOqB-"
      },
      "outputs": [],
      "source": []
    }
  ],
  "metadata": {
    "colab": {
      "provenance": [],
      "gpuType": "T4",
      "include_colab_link": true
    },
    "kernelspec": {
      "display_name": "Python 3",
      "name": "python3"
    },
    "language_info": {
      "codemirror_mode": {
        "name": "ipython",
        "version": 3
      },
      "file_extension": ".py",
      "mimetype": "text/x-python",
      "name": "python",
      "nbconvert_exporter": "python",
      "pygments_lexer": "ipython3",
      "version": "3.11.5"
    },
    "accelerator": "GPU"
  },
  "nbformat": 4,
  "nbformat_minor": 0
}