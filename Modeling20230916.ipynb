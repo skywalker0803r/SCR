{
  "cells": [
    {
      "cell_type": "markdown",
      "metadata": {
        "id": "view-in-github",
        "colab_type": "text"
      },
      "source": [
        "<a href=\"https://colab.research.google.com/github/skywalker0803r/SCR/blob/main/Modeling20230916.ipynb\" target=\"_parent\"><img src=\"https://colab.research.google.com/assets/colab-badge.svg\" alt=\"Open In Colab\"/></a>"
      ]
    },
    {
      "cell_type": "code",
      "source": [
        "from google.colab import drive\n",
        "drive.mount('/content/drive')"
      ],
      "metadata": {
        "id": "gZSjFXDz8h7e",
        "outputId": "cc9c4cdf-3cd8-4d84-86f6-3b2175ec0cba",
        "colab": {
          "base_uri": "https://localhost:8080/"
        }
      },
      "execution_count": null,
      "outputs": [
        {
          "output_type": "stream",
          "name": "stdout",
          "text": [
            "Drive already mounted at /content/drive; to attempt to forcibly remount, call drive.mount(\"/content/drive\", force_remount=True).\n"
          ]
        }
      ]
    },
    {
      "cell_type": "code",
      "execution_count": null,
      "metadata": {
        "id": "lGoj9pl8IYn2"
      },
      "outputs": [],
      "source": [
        "\n",
        "import torch\n",
        "import torch.nn as nn\n",
        "import numpy as np\n",
        "from torch.optim import Adam\n",
        "import pandas as pd\n",
        "from torch.utils.data import TensorDataset,DataLoader\n",
        "from torch import FloatTensor"
      ]
    },
    {
      "cell_type": "code",
      "execution_count": null,
      "metadata": {
        "id": "lzfun588Iuzo"
      },
      "outputs": [],
      "source": [
        "import joblib\n",
        "test_data = joblib.load('/content/drive/MyDrive/SCR/test_dataset.pkl')\n",
        "data = joblib.load('/content/drive/MyDrive/SCR/train_dataset.pkl')"
      ]
    },
    {
      "cell_type": "code",
      "execution_count": null,
      "metadata": {
        "colab": {
          "base_uri": "https://localhost:8080/"
        },
        "id": "wY7pAqEKLVTp",
        "outputId": "0ac0a290-c891-429d-c81d-540b6bcff0bf"
      },
      "outputs": [
        {
          "output_type": "execute_result",
          "data": {
            "text/plain": [
              "(27713, 2, 35)"
            ]
          },
          "metadata": {},
          "execution_count": 22
        }
      ],
      "source": [
        "data['state'].shape"
      ]
    },
    {
      "cell_type": "code",
      "execution_count": null,
      "metadata": {
        "colab": {
          "base_uri": "https://localhost:8080/"
        },
        "id": "v3XGdjpRRyA5",
        "outputId": "d8151a0a-5fdf-416d-830b-b83fb796a92d"
      },
      "outputs": [
        {
          "output_type": "execute_result",
          "data": {
            "text/plain": [
              "(27713, 2)"
            ]
          },
          "metadata": {},
          "execution_count": 23
        }
      ],
      "source": [
        "data['action'].shape"
      ]
    },
    {
      "cell_type": "code",
      "execution_count": null,
      "metadata": {
        "colab": {
          "base_uri": "https://localhost:8080/"
        },
        "id": "v5N10o9PEbvi",
        "outputId": "835f0f8c-3454-4cad-f303-7b6a63b382ad"
      },
      "outputs": [
        {
          "output_type": "execute_result",
          "data": {
            "text/plain": [
              "(27713, 2, 1)"
            ]
          },
          "metadata": {},
          "execution_count": 24
        }
      ],
      "source": [
        "data['action'] = data['action'].reshape(-1,2,1)\n",
        "data['action'].shape"
      ]
    },
    {
      "cell_type": "code",
      "execution_count": null,
      "metadata": {
        "colab": {
          "base_uri": "https://localhost:8080/"
        },
        "id": "Ykf8z30xRzmi",
        "outputId": "0228b5d9-df73-4967-849a-f6f0db2b620a"
      },
      "outputs": [
        {
          "output_type": "execute_result",
          "data": {
            "text/plain": [
              "(27713, 1)"
            ]
          },
          "metadata": {},
          "execution_count": 25
        }
      ],
      "source": [
        "data['value'].shape"
      ]
    },
    {
      "cell_type": "code",
      "execution_count": null,
      "metadata": {
        "id": "ZCXDKTsRIt08"
      },
      "outputs": [],
      "source": [
        "data_size = len(data['value'])\n",
        "batch_size = 128\n",
        "hidden_size = 128\n",
        "request_size = 1 # 需求產出\n",
        "state_size = data['state'].shape[-1]\n",
        "value_size = data['value'].shape[-1] # 實際產出\n",
        "action_size = data['action'].shape[-1]  #可控制器數量\n",
        "time_step = 2 #時間窗格"
      ]
    },
    {
      "cell_type": "code",
      "execution_count": null,
      "metadata": {
        "id": "H1dEIPwsLvQj"
      },
      "outputs": [],
      "source": [
        "d = {}\n",
        "d['state'] = FloatTensor(data['state'])\n",
        "d['request'] = FloatTensor(torch.rand(data_size,request_size))#(B,r_dim)\n",
        "d['action'] = FloatTensor(data['action'])\n",
        "d['value'] = FloatTensor(data['value'])\n",
        "d = TensorDataset(d['state'],d['request'],d['action'],d['value'])\n",
        "train_iter = DataLoader(d,batch_size,shuffle=False)"
      ]
    },
    {
      "cell_type": "code",
      "execution_count": null,
      "metadata": {
        "id": "DcRvsj3UL4JC"
      },
      "outputs": [],
      "source": [
        "class R2D2(nn.Module):\n",
        "  def __init__(self,obs_size,n_actions,hidden_size):\n",
        "    super().__init__()\n",
        "    self.hidden_size = hidden_size\n",
        "    self.l1 = nn.Linear(obs_size,self.hidden_size)\n",
        "    self.l2 = nn.LSTMCell(self.hidden_size,self.hidden_size)\n",
        "    self.l3 = nn.Linear(self.hidden_size,n_actions)\n",
        "    self.dropout = nn.Dropout (p = 0.25)\n",
        "\n",
        "  def forward(self,x,hx,cx):\n",
        "    x = torch.tanh(self.l1(x))\n",
        "    hx,cx = self.l2(x,(hx,cx))\n",
        "    x = self.dropout(hx)\n",
        "    x = torch.tanh(x)\n",
        "    x = torch.sigmoid(self.l3(x)) # to range[0,1]\n",
        "    return x,hx,cx"
      ]
    },
    {
      "cell_type": "code",
      "execution_count": null,
      "metadata": {
        "id": "wNRYY69PL9bt"
      },
      "outputs": [],
      "source": [
        "class ActorCritic(nn.Module):\n",
        "  def __init__(self,actor,critic,time_step):\n",
        "    super().__init__()\n",
        "    self.time_step = time_step\n",
        "\n",
        "    self.actor = actor\n",
        "    self.actor_optimizer = Adam(actor.parameters())\n",
        "\n",
        "    self.critic = critic\n",
        "    self.critic_optimizer = Adam(critic.parameters())\n",
        "\n",
        "  def forward(self,state,request):\n",
        "    actions = self.actor_forward(state,request)\n",
        "    values = self.critic_forward(state,actions)\n",
        "    return values\n",
        "\n",
        "  def actor_forward(self,state,request,eval=False):\n",
        "    '''\n",
        "    # 給定狀態(不可控)和需求 輸出一系列動作\n",
        "    '''\n",
        "    # train or eval model\n",
        "    if eval == True:\n",
        "      self.actor.eval()\n",
        "    else:\n",
        "      self.actor.train()\n",
        "\n",
        "    # initialize hx,cx\n",
        "    hx = torch.zeros((state.size()[0],actor.hidden_size))\n",
        "    cx = torch.zeros((state.size()[0],actor.hidden_size))\n",
        "\n",
        "    # get actions shape(batch_size,time_step,action_size)\n",
        "    actions = torch.FloatTensor()\n",
        "\n",
        "    # 對一定時間長度進行遍歷\n",
        "    for t in range(self.time_step):\n",
        "      a,hx,cx = self.actor(torch.cat((state[:,t,:],request),dim=1),hx,cx)\n",
        "      actions = torch.cat((actions,a),dim=1)\n",
        "    # 一系列動作 (Batch,Time,Features)\n",
        "    actions = actions.reshape(state.size()[0],self.time_step,-1)\n",
        "\n",
        "    return actions\n",
        "\n",
        "  def critic_forward(self,state,action,eval=False):\n",
        "    '''\n",
        "    # 輸入狀態(不可控)和一系列動作(可控),預測產出\n",
        "    '''\n",
        "\n",
        "    # train or eval model\n",
        "    if eval == True:\n",
        "      self.critic.eval()\n",
        "    else:\n",
        "      self.critic.train()\n",
        "\n",
        "    # initialize hx,cx\n",
        "    hx = torch.zeros((state.size()[0],critic.hidden_size))\n",
        "    cx = torch.zeros((state.size()[0],critic.hidden_size))\n",
        "\n",
        "    # get values shape(batch_size,time_step,value_size)\n",
        "    values = torch.FloatTensor()\n",
        "\n",
        "    # 對時間點遍歷\n",
        "    for t in range(self.time_step):\n",
        "      # 根據當前t時刻狀態,動作,hx,cx當輸入得到,v(產出),更新hx,cx\n",
        "      v,hx,cx = self.critic(torch.cat((state[:,t,:],action[:,t,:]),dim=1),hx,cx)\n",
        "      values = torch.cat((values,v),dim=1)\n",
        "\n",
        "    # 一系列產出(Batch,Time,Features)\n",
        "    values = values.reshape(state.size()[0],self.time_step,-1)\n",
        "\n",
        "    # 只取最後一個時間點\n",
        "    return values[:,-1,:] # return last time_step\n",
        "\n",
        "  def train_critic(self,state,action,value):\n",
        "    '''\n",
        "    x: [state,action]\n",
        "    y: [value]\n",
        "    '監督式學習'\n",
        "    '''\n",
        "    self.critic.train()\n",
        "    self.actor.eval()\n",
        "    value_hat = self.critic_forward(state,action)\n",
        "\n",
        "    # 預測值跟label的平方差愈小愈好\n",
        "    loss = ((value_hat-value)**2).mean()\n",
        "    loss.backward()\n",
        "    self.critic_optimizer.step()\n",
        "    self.critic_optimizer.zero_grad()\n",
        "    return loss.item()\n",
        "\n",
        "  def train_actor(self,state,request):\n",
        "    '''\n",
        "    x: [state,request]\n",
        "    y: maximum critic value\n",
        "    '最小化產出跟request的差異'\n",
        "    '''\n",
        "    self.actor.train()\n",
        "    self.critic.eval()\n",
        "    actions = self.actor_forward(state,request)\n",
        "    value_hat = self.critic_forward(state,actions)\n",
        "\n",
        "    # 首先預測值跟需求的平方差愈小愈好\n",
        "    loss1 = ((request-value_hat)**2).mean()\n",
        "\n",
        "    # 再來避免\"變異數太大(時間維度上)\" 因為盤控人員不可能突然調太多\n",
        "    loss2 = actions.reshape(-1,time_step,action_size).std(axis=1)\n",
        "    loss2 = loss2.sum(axis=-1).mean(axis=0)\n",
        "\n",
        "    loss = loss1 + loss2\n",
        "    loss.backward()\n",
        "\n",
        "    self.actor_optimizer.step()\n",
        "    self.actor.zero_grad()\n",
        "\n",
        "    return loss.item()"
      ]
    },
    {
      "cell_type": "code",
      "execution_count": null,
      "metadata": {
        "id": "fIgK0jEZMC_6"
      },
      "outputs": [],
      "source": [
        "\n",
        "actor = R2D2(state_size+request_size,action_size,hidden_size)\n",
        "critic = R2D2(state_size+action_size,value_size,hidden_size)\n",
        "model = ActorCritic(actor,critic,time_step)"
      ]
    },
    {
      "cell_type": "code",
      "execution_count": null,
      "metadata": {
        "colab": {
          "base_uri": "https://localhost:8080/"
        },
        "id": "8AwpFSElMI9K",
        "outputId": "3e82e9a6-6936-4e16-c723-7f95d2f8468f"
      },
      "outputs": [
        {
          "output_type": "execute_result",
          "data": {
            "text/plain": [
              "(torch.Size([1, 2, 35]), torch.Size([1, 1]))"
            ]
          },
          "metadata": {},
          "execution_count": 31
        }
      ],
      "source": [
        "s = torch.rand(1,time_step,state_size)#(B,T,s_dim)\n",
        "r = torch.rand(1,request_size)#(B,r_dim)\n",
        "s.shape,r.shape"
      ]
    },
    {
      "cell_type": "code",
      "execution_count": null,
      "metadata": {
        "colab": {
          "base_uri": "https://localhost:8080/"
        },
        "id": "hwolp-9JMaya",
        "outputId": "a88ed159-a496-4839-d3c7-da7c1d18b0fa"
      },
      "outputs": [
        {
          "output_type": "execute_result",
          "data": {
            "text/plain": [
              "tensor([[0.4836]], grad_fn=<SliceBackward0>)"
            ]
          },
          "metadata": {},
          "execution_count": 32
        }
      ],
      "source": [
        "model.forward(s,r)"
      ]
    },
    {
      "cell_type": "code",
      "execution_count": null,
      "metadata": {
        "colab": {
          "base_uri": "https://localhost:8080/",
          "height": 978
        },
        "id": "8z8zsU9JUZJQ",
        "outputId": "a0cfe3d0-5ee8-462c-f237-f250c60dcb5b"
      },
      "outputs": [
        {
          "output_type": "stream",
          "name": "stdout",
          "text": [
            "The tensorboard extension is already loaded. To reload it, use:\n",
            "  %reload_ext tensorboard\n"
          ]
        },
        {
          "output_type": "stream",
          "name": "stderr",
          "text": [
            "/usr/local/lib/python3.10/dist-packages/torch/jit/_trace.py:1084: TracerWarning: Output nr 1. of the traced function does not match the corresponding output of the Python function. Detailed error:\n",
            "Tensor-likes are not close!\n",
            "\n",
            "Mismatched elements: 1 / 1 (100.0%)\n",
            "Greatest absolute difference: 0.003989428281784058 at index (0, 0) (up to 1e-05 allowed)\n",
            "Greatest relative difference: 0.008188080132753293 at index (0, 0) (up to 1e-05 allowed)\n",
            "  _check_trace(\n"
          ]
        },
        {
          "output_type": "display_data",
          "data": {
            "text/plain": [
              "<IPython.core.display.Javascript object>"
            ],
            "application/javascript": [
              "\n",
              "        (async () => {\n",
              "            const url = new URL(await google.colab.kernel.proxyPort(6006, {'cache': true}));\n",
              "            url.searchParams.set('tensorboardColab', 'true');\n",
              "            const iframe = document.createElement('iframe');\n",
              "            iframe.src = url;\n",
              "            iframe.setAttribute('width', '100%');\n",
              "            iframe.setAttribute('height', '800');\n",
              "            iframe.setAttribute('frameborder', 0);\n",
              "            document.body.appendChild(iframe);\n",
              "        })();\n",
              "    "
            ]
          },
          "metadata": {}
        }
      ],
      "source": [
        "%load_ext tensorboard\n",
        "from datetime import datetime\n",
        "import time\n",
        "from torch.utils.tensorboard import SummaryWriter\n",
        "logdir=\"logs/fit/\" + datetime.now().strftime(\"%Y%m%d-%H%M%S\")\n",
        "writer = SummaryWriter(log_dir=logdir)\n",
        "writer.add_graph(model,[s,r])\n",
        "writer.close()\n",
        "%tensorboard --logdir logs"
      ]
    },
    {
      "cell_type": "markdown",
      "metadata": {
        "id": "joK1Qrv0M1o7"
      },
      "source": []
    },
    {
      "cell_type": "code",
      "execution_count": null,
      "metadata": {
        "id": "dR78zoykUtql"
      },
      "outputs": [],
      "source": [
        "\n",
        "def train_critic():\n",
        "  loss = 0\n",
        "  for i,(bs,br,ba,bv) in enumerate(train_iter):\n",
        "    loss += model.train_critic(bs,ba,bv)\n",
        "  return loss\n",
        "\n",
        "def train_actor():\n",
        "  loss = 0\n",
        "  for i,(bs,br,ba,bv) in enumerate(train_iter):\n",
        "    loss += model.train_actor(bs,br)\n",
        "  return loss\n",
        "\n",
        "def train(model,train_iter,epochs=100):\n",
        "  train_history = {}\n",
        "  train_history['actor'] = []\n",
        "  train_history['critic'] = []\n",
        "\n",
        "  for epoch in range(epochs):\n",
        "    loss = train_critic()\n",
        "    train_history['critic'].append(loss)\n",
        "    print('epoch:{} critic_loss:{}'.format(epoch,loss))\n",
        "\n",
        "  for epoch in range(epochs):\n",
        "    loss = train_actor()\n",
        "    train_history['actor'].append(loss)\n",
        "    print('epoch:{} actor_loss:{}'.format(epoch,loss))\n",
        "\n",
        "  return model,train_history"
      ]
    },
    {
      "cell_type": "code",
      "execution_count": null,
      "metadata": {
        "colab": {
          "base_uri": "https://localhost:8080/",
          "height": 112
        },
        "id": "E1mMtJB6UyUT",
        "outputId": "f2ae630a-6250-4779-9c57-124340bdfad9"
      },
      "outputs": [
        {
          "output_type": "execute_result",
          "data": {
            "text/plain": [
              "<pandas.io.formats.style.Styler at 0x78a3024d16c0>"
            ],
            "text/html": [
              "<style type=\"text/css\">\n",
              "#T_54d31_row0_col0 {\n",
              "  background-color: #fff7fb;\n",
              "  color: #000000;\n",
              "}\n",
              "#T_54d31_row1_col0 {\n",
              "  background-color: #023858;\n",
              "  color: #f1f1f1;\n",
              "}\n",
              "</style>\n",
              "<table id=\"T_54d31\" class=\"dataframe\">\n",
              "  <thead>\n",
              "    <tr>\n",
              "      <th class=\"blank level0\" >&nbsp;</th>\n",
              "      <th id=\"T_54d31_level0_col0\" class=\"col_heading level0 col0\" >0</th>\n",
              "    </tr>\n",
              "  </thead>\n",
              "  <tbody>\n",
              "    <tr>\n",
              "      <th id=\"T_54d31_level0_row0\" class=\"row_heading level0 row0\" >0</th>\n",
              "      <td id=\"T_54d31_row0_col0\" class=\"data row0 col0\" >0.507704</td>\n",
              "    </tr>\n",
              "    <tr>\n",
              "      <th id=\"T_54d31_level0_row1\" class=\"row_heading level0 row1\" >1</th>\n",
              "      <td id=\"T_54d31_row1_col0\" class=\"data row1 col0\" >0.512785</td>\n",
              "    </tr>\n",
              "  </tbody>\n",
              "</table>\n"
            ]
          },
          "metadata": {},
          "execution_count": 35
        }
      ],
      "source": [
        "a = next(iter(train_iter))\n",
        "s,r,a,v = a\n",
        "actions = model.actor_forward(s,r,eval=True)\n",
        "pd.DataFrame(actions[0].detach().numpy()).style.background_gradient()"
      ]
    },
    {
      "cell_type": "code",
      "execution_count": null,
      "metadata": {
        "colab": {
          "base_uri": "https://localhost:8080/"
        },
        "id": "kyKzdRUwVPvc",
        "outputId": "eed60d97-b90d-4585-901b-827a4132ceb1"
      },
      "outputs": [
        {
          "output_type": "stream",
          "name": "stdout",
          "text": [
            "epoch:0 critic_loss:4.444328930105257\n",
            "epoch:1 critic_loss:4.582576636201338\n",
            "epoch:2 critic_loss:4.213644522347749\n",
            "epoch:3 critic_loss:4.1813718447010615\n",
            "epoch:4 critic_loss:4.177807622945693\n",
            "epoch:5 critic_loss:4.1619419523285615\n",
            "epoch:6 critic_loss:4.115266606258956\n",
            "epoch:7 critic_loss:3.7487243050636607\n",
            "epoch:8 critic_loss:3.854404586072633\n",
            "epoch:9 critic_loss:3.696186248365848\n",
            "epoch:10 critic_loss:3.600015299198276\n",
            "epoch:11 critic_loss:4.189452550483111\n",
            "epoch:12 critic_loss:3.8171150486450642\n",
            "epoch:13 critic_loss:3.8812557142809965\n",
            "epoch:14 critic_loss:3.419012421712978\n",
            "epoch:15 critic_loss:3.401426149823237\n",
            "epoch:16 critic_loss:2.6314886707696132\n",
            "epoch:17 critic_loss:2.825495117227547\n",
            "epoch:18 critic_loss:2.6317418538965285\n",
            "epoch:19 critic_loss:3.137599506531842\n",
            "epoch:20 critic_loss:3.091884191366262\n",
            "epoch:21 critic_loss:3.348580697493162\n",
            "epoch:22 critic_loss:4.005501194100361\n",
            "epoch:23 critic_loss:3.222749859909527\n",
            "epoch:24 critic_loss:3.92036748972896\n",
            "epoch:25 critic_loss:2.278193687379826\n",
            "epoch:26 critic_loss:2.782845154753886\n",
            "epoch:27 critic_loss:2.7815985892666504\n",
            "epoch:28 critic_loss:2.9511860133206937\n",
            "epoch:29 critic_loss:2.7915613599907374\n",
            "epoch:30 critic_loss:2.354258718609344\n",
            "epoch:31 critic_loss:2.328000080655329\n",
            "epoch:32 critic_loss:2.4697916870354675\n",
            "epoch:33 critic_loss:2.4577071547610103\n",
            "epoch:34 critic_loss:2.1753940163034713\n",
            "epoch:35 critic_loss:2.5018474188109394\n",
            "epoch:36 critic_loss:2.390031679387903\n",
            "epoch:37 critic_loss:2.7929549247419345\n",
            "epoch:38 critic_loss:1.9929517200653208\n",
            "epoch:39 critic_loss:2.1621976185633685\n",
            "epoch:40 critic_loss:1.8485350549162831\n",
            "epoch:41 critic_loss:2.0442675270460313\n",
            "epoch:42 critic_loss:2.457804498488258\n",
            "epoch:43 critic_loss:1.6133827902958728\n",
            "epoch:44 critic_loss:1.8777901152752747\n",
            "epoch:45 critic_loss:2.0627714978872973\n",
            "epoch:46 critic_loss:1.8082140720616735\n",
            "epoch:47 critic_loss:1.9074335963159683\n",
            "epoch:48 critic_loss:1.7575662097515306\n",
            "epoch:49 critic_loss:1.776338549243519\n",
            "epoch:50 critic_loss:1.6665681053636945\n",
            "epoch:51 critic_loss:1.5738837502976821\n",
            "epoch:52 critic_loss:1.6453082148800604\n",
            "epoch:53 critic_loss:1.4811726687548799\n",
            "epoch:54 critic_loss:1.4362310209216957\n",
            "epoch:55 critic_loss:1.375977540461463\n",
            "epoch:56 critic_loss:1.3508918987427023\n",
            "epoch:57 critic_loss:1.3176616088458104\n",
            "epoch:58 critic_loss:1.3059629242088704\n",
            "epoch:59 critic_loss:1.2998129839652393\n",
            "epoch:60 critic_loss:1.2672707158071717\n",
            "epoch:61 critic_loss:1.2535998519306304\n",
            "epoch:62 critic_loss:1.2459051597033977\n",
            "epoch:63 critic_loss:1.2408657716823654\n",
            "epoch:64 critic_loss:1.2275833430612693\n",
            "epoch:65 critic_loss:1.2351136803335976\n",
            "epoch:66 critic_loss:1.2158290111401584\n",
            "epoch:67 critic_loss:1.2396300366453943\n",
            "epoch:68 critic_loss:1.2055841391302238\n",
            "epoch:69 critic_loss:1.228995513953123\n",
            "epoch:70 critic_loss:1.2054751404612034\n",
            "epoch:71 critic_loss:1.195543756850384\n",
            "epoch:72 critic_loss:1.1802405792586796\n",
            "epoch:73 critic_loss:1.1867634552800155\n",
            "epoch:74 critic_loss:1.159974238176801\n",
            "epoch:75 critic_loss:1.180737742317433\n",
            "epoch:76 critic_loss:1.1633650797739392\n",
            "epoch:77 critic_loss:1.1679988981341012\n",
            "epoch:78 critic_loss:1.1679207161578233\n",
            "epoch:79 critic_loss:1.1446735907520633\n",
            "epoch:80 critic_loss:1.1380199572595302\n",
            "epoch:81 critic_loss:1.1374048912111903\n",
            "epoch:82 critic_loss:1.119800013548229\n",
            "epoch:83 critic_loss:1.1105646886426257\n",
            "epoch:84 critic_loss:1.1059483597709914\n",
            "epoch:85 critic_loss:1.096639983188652\n",
            "epoch:86 critic_loss:1.0886061108030844\n",
            "epoch:87 critic_loss:1.0641343504394172\n",
            "epoch:88 critic_loss:1.0715361287002452\n",
            "epoch:89 critic_loss:1.0831544836692046\n",
            "epoch:90 critic_loss:1.0422873575735139\n",
            "epoch:91 critic_loss:1.0611078940273728\n",
            "epoch:92 critic_loss:1.0526759536005557\n",
            "epoch:93 critic_loss:1.03555652279465\n",
            "epoch:94 critic_loss:1.0087395774753531\n",
            "epoch:95 critic_loss:1.0076751777378377\n",
            "epoch:96 critic_loss:1.017710354688461\n",
            "epoch:97 critic_loss:0.9885268194193486\n",
            "epoch:98 critic_loss:0.9608508288220037\n",
            "epoch:99 critic_loss:0.9916251649701735\n",
            "epoch:100 critic_loss:0.9812818768405123\n",
            "epoch:101 critic_loss:0.9430175841698656\n",
            "epoch:102 critic_loss:0.9328373321113759\n",
            "epoch:103 critic_loss:0.9175594134867424\n",
            "epoch:104 critic_loss:0.9016114019177621\n",
            "epoch:105 critic_loss:0.8924763635659474\n",
            "epoch:106 critic_loss:0.8715284282370703\n",
            "epoch:107 critic_loss:0.882491555857996\n",
            "epoch:108 critic_loss:0.8787543288126471\n",
            "epoch:109 critic_loss:0.8716401780620799\n",
            "epoch:110 critic_loss:0.8392217008731677\n",
            "epoch:111 critic_loss:0.8166615287045715\n",
            "epoch:112 critic_loss:0.8133755399321672\n",
            "epoch:113 critic_loss:0.8088446060282877\n",
            "epoch:114 critic_loss:0.8108563607893302\n",
            "epoch:115 critic_loss:0.7806807204106008\n",
            "epoch:116 critic_loss:0.7730033080515568\n",
            "epoch:117 critic_loss:0.7739313710808347\n",
            "epoch:118 critic_loss:0.7636867553228512\n",
            "epoch:119 critic_loss:0.7357176216683001\n",
            "epoch:120 critic_loss:0.7262727578781778\n",
            "epoch:121 critic_loss:0.7031358611784526\n",
            "epoch:122 critic_loss:0.6959670838296006\n",
            "epoch:123 critic_loss:0.684800341790833\n",
            "epoch:124 critic_loss:0.6798951512100757\n",
            "epoch:125 critic_loss:0.6776265573935234\n",
            "epoch:126 critic_loss:0.6773657260819164\n",
            "epoch:127 critic_loss:0.6577168220901513\n",
            "epoch:128 critic_loss:0.6457164688254124\n",
            "epoch:129 critic_loss:0.6458622421268956\n",
            "epoch:130 critic_loss:0.6421411652700044\n",
            "epoch:131 critic_loss:0.6466098210221389\n",
            "epoch:132 critic_loss:0.6383430391433649\n",
            "epoch:133 critic_loss:0.6258775915193837\n",
            "epoch:134 critic_loss:0.6386248122871621\n",
            "epoch:135 critic_loss:0.6223160420340719\n",
            "epoch:136 critic_loss:0.6207520955867949\n",
            "epoch:137 critic_loss:0.616993412746524\n",
            "epoch:138 critic_loss:0.6158097788356827\n",
            "epoch:139 critic_loss:0.6168911659624428\n",
            "epoch:140 critic_loss:0.6136597859440371\n",
            "epoch:141 critic_loss:0.6098551082977792\n",
            "epoch:142 critic_loss:0.6114207270074985\n",
            "epoch:143 critic_loss:0.6056747841430479\n",
            "epoch:144 critic_loss:0.6098856833559694\n",
            "epoch:145 critic_loss:0.5952589576845639\n",
            "epoch:146 critic_loss:0.5869039132376201\n",
            "epoch:147 critic_loss:0.6061778729708749\n",
            "epoch:148 critic_loss:0.5889974424644606\n",
            "epoch:149 critic_loss:0.5623553605182678\n",
            "epoch:150 critic_loss:0.582667574784864\n",
            "epoch:151 critic_loss:0.5891189077410672\n",
            "epoch:152 critic_loss:0.5584931486228015\n",
            "epoch:153 critic_loss:0.58731293418532\n",
            "epoch:154 critic_loss:0.5718548784498125\n",
            "epoch:155 critic_loss:0.5403464382907259\n",
            "epoch:156 critic_loss:0.5430063165549655\n",
            "epoch:157 critic_loss:0.5490348142411676\n",
            "epoch:158 critic_loss:0.5370684301087749\n",
            "epoch:159 critic_loss:0.5339494272047887\n",
            "epoch:160 critic_loss:0.5318389471940463\n",
            "epoch:161 critic_loss:0.5391006690333597\n",
            "epoch:162 critic_loss:0.5484357203822583\n",
            "epoch:163 critic_loss:0.5786605176108424\n",
            "epoch:164 critic_loss:0.5385326774121495\n",
            "epoch:165 critic_loss:0.5149048196399235\n",
            "epoch:166 critic_loss:0.5545414104963129\n",
            "epoch:167 critic_loss:0.5516842184151756\n",
            "epoch:168 critic_loss:0.5287264231446898\n",
            "epoch:169 critic_loss:0.540256076008518\n",
            "epoch:170 critic_loss:0.5087353837807314\n",
            "epoch:171 critic_loss:0.5246975138725247\n",
            "epoch:172 critic_loss:0.5020508945017355\n",
            "epoch:173 critic_loss:0.5074712494097184\n",
            "epoch:174 critic_loss:0.4876274850903428\n",
            "epoch:175 critic_loss:0.5184188085113419\n",
            "epoch:176 critic_loss:0.5072160213494499\n",
            "epoch:177 critic_loss:0.506567959630047\n",
            "epoch:178 critic_loss:0.5063974950026022\n",
            "epoch:179 critic_loss:0.4971986162781832\n",
            "epoch:180 critic_loss:0.5098605529710767\n",
            "epoch:181 critic_loss:0.49408660160770523\n",
            "epoch:182 critic_loss:0.4962258670493611\n",
            "epoch:183 critic_loss:0.4708247434500663\n",
            "epoch:184 critic_loss:0.4882943846278067\n",
            "epoch:185 critic_loss:0.459177849432308\n",
            "epoch:186 critic_loss:0.4564077878567332\n",
            "epoch:187 critic_loss:0.4487659033475211\n",
            "epoch:188 critic_loss:0.4420099685485184\n",
            "epoch:189 critic_loss:0.4459523548321158\n",
            "epoch:190 critic_loss:0.4627157959075703\n",
            "epoch:191 critic_loss:0.4504824051691685\n",
            "epoch:192 critic_loss:0.47210978357543354\n",
            "epoch:193 critic_loss:0.47247981612963486\n",
            "epoch:194 critic_loss:0.49634864051040495\n",
            "epoch:195 critic_loss:0.4594960085742059\n",
            "epoch:196 critic_loss:0.43647154165955726\n",
            "epoch:197 critic_loss:0.4373606761582778\n",
            "epoch:198 critic_loss:0.45473073062021285\n",
            "epoch:199 critic_loss:0.42353153340081917\n",
            "epoch:0 actor_loss:21.33083424717188\n",
            "epoch:1 actor_loss:21.202494464814663\n",
            "epoch:2 actor_loss:21.107874371111393\n",
            "epoch:3 actor_loss:21.022232063114643\n",
            "epoch:4 actor_loss:20.923178516328335\n",
            "epoch:5 actor_loss:20.805793583393097\n",
            "epoch:6 actor_loss:20.426113285124302\n",
            "epoch:7 actor_loss:20.757292360067368\n",
            "epoch:8 actor_loss:20.676110424101353\n",
            "epoch:9 actor_loss:20.650124475359917\n",
            "epoch:10 actor_loss:20.601538360118866\n",
            "epoch:11 actor_loss:20.567970983684063\n",
            "epoch:12 actor_loss:20.551241517066956\n",
            "epoch:13 actor_loss:20.5029411688447\n",
            "epoch:14 actor_loss:20.48342290520668\n",
            "epoch:15 actor_loss:20.500717766582966\n",
            "epoch:16 actor_loss:20.434459634125233\n",
            "epoch:17 actor_loss:20.434568896889687\n",
            "epoch:18 actor_loss:20.401188753545284\n",
            "epoch:19 actor_loss:20.372098475694656\n",
            "epoch:20 actor_loss:20.38103324919939\n",
            "epoch:21 actor_loss:20.378194577991962\n",
            "epoch:22 actor_loss:20.357547625899315\n",
            "epoch:23 actor_loss:20.340111948549747\n",
            "epoch:24 actor_loss:20.332513891160488\n",
            "epoch:25 actor_loss:20.326303407549858\n",
            "epoch:26 actor_loss:20.351723849773407\n",
            "epoch:27 actor_loss:20.314808927476406\n",
            "epoch:28 actor_loss:20.28708839416504\n",
            "epoch:29 actor_loss:20.327019087970257\n",
            "epoch:30 actor_loss:20.29707134515047\n",
            "epoch:31 actor_loss:20.30888507515192\n",
            "epoch:32 actor_loss:20.307020217180252\n",
            "epoch:33 actor_loss:20.261626183986664\n",
            "epoch:34 actor_loss:20.267530761659145\n",
            "epoch:35 actor_loss:20.271736584603786\n",
            "epoch:36 actor_loss:20.300070360302925\n",
            "epoch:37 actor_loss:20.250980399549007\n",
            "epoch:38 actor_loss:20.263672664761543\n",
            "epoch:39 actor_loss:20.246879920363426\n",
            "epoch:40 actor_loss:20.268231816589832\n",
            "epoch:41 actor_loss:20.24419555068016\n",
            "epoch:42 actor_loss:20.242774076759815\n",
            "epoch:43 actor_loss:20.245346397161484\n",
            "epoch:44 actor_loss:20.259880892932415\n",
            "epoch:45 actor_loss:20.250095650553703\n",
            "epoch:46 actor_loss:20.244961209595203\n",
            "epoch:47 actor_loss:20.22734636068344\n",
            "epoch:48 actor_loss:20.23758354038\n",
            "epoch:49 actor_loss:20.238390438258648\n",
            "epoch:50 actor_loss:20.23940449208021\n",
            "epoch:51 actor_loss:20.23524621129036\n",
            "epoch:52 actor_loss:20.23237580806017\n",
            "epoch:53 actor_loss:20.210510291159153\n",
            "epoch:54 actor_loss:20.22771492600441\n",
            "epoch:55 actor_loss:20.225748725235462\n",
            "epoch:56 actor_loss:20.22546909749508\n",
            "epoch:57 actor_loss:20.216952189803123\n",
            "epoch:58 actor_loss:20.23786622285843\n",
            "epoch:59 actor_loss:20.224614955484867\n",
            "epoch:60 actor_loss:20.20368917286396\n",
            "epoch:61 actor_loss:20.216399677097797\n",
            "epoch:62 actor_loss:20.21416087448597\n",
            "epoch:63 actor_loss:20.207217678427696\n",
            "epoch:64 actor_loss:20.22221713513136\n",
            "epoch:65 actor_loss:20.207387179136276\n",
            "epoch:66 actor_loss:20.20876869559288\n",
            "epoch:67 actor_loss:20.220924399793148\n",
            "epoch:68 actor_loss:20.20280946791172\n",
            "epoch:69 actor_loss:20.201393842697144\n",
            "epoch:70 actor_loss:20.20023625344038\n",
            "epoch:71 actor_loss:20.19786225259304\n",
            "epoch:72 actor_loss:20.196650817990303\n",
            "epoch:73 actor_loss:20.187918588519096\n",
            "epoch:74 actor_loss:20.203907541930676\n",
            "epoch:75 actor_loss:20.196040868759155\n",
            "epoch:76 actor_loss:20.178247787058353\n",
            "epoch:77 actor_loss:20.187719248235226\n",
            "epoch:78 actor_loss:20.188848361372948\n",
            "epoch:79 actor_loss:20.15230943262577\n",
            "epoch:80 actor_loss:20.174660243093967\n",
            "epoch:81 actor_loss:20.170137956738472\n",
            "epoch:82 actor_loss:20.18962226808071\n",
            "epoch:83 actor_loss:20.16455351561308\n",
            "epoch:84 actor_loss:20.178608767688274\n",
            "epoch:85 actor_loss:20.19803685694933\n",
            "epoch:86 actor_loss:20.183727636933327\n",
            "epoch:87 actor_loss:20.191634595394135\n",
            "epoch:88 actor_loss:20.188041679561138\n",
            "epoch:89 actor_loss:20.177848115563393\n",
            "epoch:90 actor_loss:20.164595022797585\n",
            "epoch:91 actor_loss:20.164709761738777\n",
            "epoch:92 actor_loss:20.15522650629282\n",
            "epoch:93 actor_loss:20.159485816955566\n",
            "epoch:94 actor_loss:20.13572659343481\n",
            "epoch:95 actor_loss:20.16353479772806\n",
            "epoch:96 actor_loss:20.14849578589201\n",
            "epoch:97 actor_loss:20.135615438222885\n",
            "epoch:98 actor_loss:20.149230875074863\n",
            "epoch:99 actor_loss:20.144397921860218\n",
            "epoch:100 actor_loss:20.145215451717377\n",
            "epoch:101 actor_loss:20.14240476489067\n",
            "epoch:102 actor_loss:20.144533462822437\n",
            "epoch:103 actor_loss:20.16348560154438\n",
            "epoch:104 actor_loss:20.15516186505556\n",
            "epoch:105 actor_loss:20.15693373978138\n",
            "epoch:106 actor_loss:20.140642128884792\n",
            "epoch:107 actor_loss:20.15282715111971\n",
            "epoch:108 actor_loss:20.12861005961895\n",
            "epoch:109 actor_loss:20.16813065111637\n",
            "epoch:110 actor_loss:20.12395266443491\n",
            "epoch:111 actor_loss:20.138583198189735\n",
            "epoch:112 actor_loss:20.131211549043655\n",
            "epoch:113 actor_loss:20.12772135436535\n",
            "epoch:114 actor_loss:20.125310130417347\n",
            "epoch:115 actor_loss:20.134417042136192\n",
            "epoch:116 actor_loss:20.136604875326157\n",
            "epoch:117 actor_loss:20.119194075465202\n",
            "epoch:118 actor_loss:20.14904011785984\n",
            "epoch:119 actor_loss:20.13206208497286\n",
            "epoch:120 actor_loss:20.114873208105564\n",
            "epoch:121 actor_loss:20.1182839050889\n",
            "epoch:122 actor_loss:20.10827525705099\n",
            "epoch:123 actor_loss:20.11213570833206\n",
            "epoch:124 actor_loss:20.153685472905636\n",
            "epoch:125 actor_loss:20.104001574218273\n",
            "epoch:126 actor_loss:20.13297626376152\n",
            "epoch:127 actor_loss:20.122377388179302\n",
            "epoch:128 actor_loss:20.129966020584106\n",
            "epoch:129 actor_loss:20.120193906128407\n",
            "epoch:130 actor_loss:20.118688732385635\n",
            "epoch:131 actor_loss:20.123021192848682\n",
            "epoch:132 actor_loss:20.093095920979977\n",
            "epoch:133 actor_loss:20.132473036646843\n",
            "epoch:134 actor_loss:20.131872072815895\n",
            "epoch:135 actor_loss:20.117120437324047\n",
            "epoch:136 actor_loss:20.10392053425312\n",
            "epoch:137 actor_loss:20.101563952863216\n",
            "epoch:138 actor_loss:20.11632662266493\n",
            "epoch:139 actor_loss:20.109102435410023\n",
            "epoch:140 actor_loss:20.087120711803436\n",
            "epoch:141 actor_loss:20.133529238402843\n",
            "epoch:142 actor_loss:20.116954408586025\n",
            "epoch:143 actor_loss:20.102377831935883\n",
            "epoch:144 actor_loss:20.13049018383026\n",
            "epoch:145 actor_loss:20.088144294917583\n",
            "epoch:146 actor_loss:20.119127333164215\n",
            "epoch:147 actor_loss:20.13932430744171\n",
            "epoch:148 actor_loss:20.101945653557777\n",
            "epoch:149 actor_loss:20.11263218522072\n",
            "epoch:150 actor_loss:20.10874567180872\n",
            "epoch:151 actor_loss:20.106701366603374\n",
            "epoch:152 actor_loss:20.11052667349577\n",
            "epoch:153 actor_loss:20.10498384386301\n",
            "epoch:154 actor_loss:20.10799241811037\n",
            "epoch:155 actor_loss:20.12216017395258\n",
            "epoch:156 actor_loss:20.111355744302273\n",
            "epoch:157 actor_loss:20.110903322696686\n",
            "epoch:158 actor_loss:20.097741320729256\n",
            "epoch:159 actor_loss:20.096379846334457\n",
            "epoch:160 actor_loss:20.1205600425601\n",
            "epoch:161 actor_loss:20.119632720947266\n",
            "epoch:162 actor_loss:20.106191098690033\n",
            "epoch:163 actor_loss:20.106793574988842\n",
            "epoch:164 actor_loss:20.124557584524155\n",
            "epoch:165 actor_loss:20.118994802236557\n",
            "epoch:166 actor_loss:20.08689185231924\n",
            "epoch:167 actor_loss:20.102082177996635\n",
            "epoch:168 actor_loss:20.118523813784122\n",
            "epoch:169 actor_loss:20.110648840665817\n",
            "epoch:170 actor_loss:20.114514149725437\n",
            "epoch:171 actor_loss:20.092739157378674\n",
            "epoch:172 actor_loss:20.101872324943542\n",
            "epoch:173 actor_loss:20.091319672763348\n",
            "epoch:174 actor_loss:20.108853548765182\n",
            "epoch:175 actor_loss:20.113716259598732\n",
            "epoch:176 actor_loss:20.100724890828133\n",
            "epoch:177 actor_loss:20.097888685762882\n",
            "epoch:178 actor_loss:20.101937882602215\n",
            "epoch:179 actor_loss:20.100148022174835\n",
            "epoch:180 actor_loss:20.103921823203564\n",
            "epoch:181 actor_loss:20.108210779726505\n",
            "epoch:182 actor_loss:20.12596220523119\n",
            "epoch:183 actor_loss:20.08270164579153\n",
            "epoch:184 actor_loss:20.098557576537132\n",
            "epoch:185 actor_loss:20.094683907926083\n",
            "epoch:186 actor_loss:20.133340530097485\n",
            "epoch:187 actor_loss:20.10497387498617\n",
            "epoch:188 actor_loss:20.11489576846361\n",
            "epoch:189 actor_loss:20.081466630101204\n",
            "epoch:190 actor_loss:20.123967841267586\n",
            "epoch:191 actor_loss:20.09709522128105\n",
            "epoch:192 actor_loss:20.088091857731342\n",
            "epoch:193 actor_loss:20.10004884749651\n",
            "epoch:194 actor_loss:20.109086714684963\n",
            "epoch:195 actor_loss:20.128036595880985\n",
            "epoch:196 actor_loss:20.097470097243786\n",
            "epoch:197 actor_loss:20.105341978371143\n",
            "epoch:198 actor_loss:20.088689386844635\n",
            "epoch:199 actor_loss:20.087962441146374\n"
          ]
        }
      ],
      "source": [
        "model,train_history = train(model,train_iter,epochs=200)\n"
      ]
    },
    {
      "cell_type": "code",
      "execution_count": null,
      "metadata": {
        "colab": {
          "base_uri": "https://localhost:8080/",
          "height": 860
        },
        "id": "7JhLtom4o9o2",
        "outputId": "eaf7de34-5e85-4b2e-ceda-3869ccc929f1"
      },
      "outputs": [
        {
          "output_type": "display_data",
          "data": {
            "text/plain": [
              "<Figure size 640x480 with 1 Axes>"
            ],
            "image/png": "[encoded data removed]"
          },
          "metadata": {}
        },
        {
          "output_type": "execute_result",
          "data": {
            "text/plain": [
              "[<matplotlib.lines.Line2D at 0x78a3012d95d0>]"
            ]
          },
          "metadata": {},
          "execution_count": 37
        },
        {
          "output_type": "display_data",
          "data": {
            "text/plain": [
              "<Figure size 640x480 with 1 Axes>"
            ],
            "image/png": "[encoded data removed]"
          },
          "metadata": {}
        }
      ],
      "source": [
        "\n",
        "import matplotlib.pyplot as plt\n",
        "\n",
        "plt.plot(train_history['critic'])\n",
        "plt.show()\n",
        "plt.plot(train_history['actor'])"
      ]
    },
    {
      "cell_type": "code",
      "execution_count": null,
      "metadata": {
        "id": "Eqvn0qJ4pAB_"
      },
      "outputs": [],
      "source": [
        "\n",
        "s,r,a,v = next(iter(train_iter))\n",
        "actions = model.actor_forward(s,r,eval=True)"
      ]
    },
    {
      "cell_type": "code",
      "execution_count": null,
      "metadata": {
        "colab": {
          "base_uri": "https://localhost:8080/",
          "height": 112
        },
        "id": "jwmUMKXlpBKN",
        "outputId": "145d08eb-363c-4fc2-ceb4-72f86e11e199"
      },
      "outputs": [
        {
          "output_type": "execute_result",
          "data": {
            "text/plain": [
              "<pandas.io.formats.style.Styler at 0x78a3010805b0>"
            ],
            "text/html": [
              "<style type=\"text/css\">\n",
              "#T_34f9e_row0_col0, #T_34f9e_row1_col0 {\n",
              "  background-color: #fff7fb;\n",
              "  color: #000000;\n",
              "}\n",
              "</style>\n",
              "<table id=\"T_34f9e\" class=\"dataframe\">\n",
              "  <thead>\n",
              "    <tr>\n",
              "      <th class=\"blank level0\" >&nbsp;</th>\n",
              "      <th id=\"T_34f9e_level0_col0\" class=\"col_heading level0 col0\" >0</th>\n",
              "    </tr>\n",
              "  </thead>\n",
              "  <tbody>\n",
              "    <tr>\n",
              "      <th id=\"T_34f9e_level0_row0\" class=\"row_heading level0 row0\" >0</th>\n",
              "      <td id=\"T_34f9e_row0_col0\" class=\"data row0 col0\" >0.001460</td>\n",
              "    </tr>\n",
              "    <tr>\n",
              "      <th id=\"T_34f9e_level0_row1\" class=\"row_heading level0 row1\" >1</th>\n",
              "      <td id=\"T_34f9e_row1_col0\" class=\"data row1 col0\" >0.001460</td>\n",
              "    </tr>\n",
              "  </tbody>\n",
              "</table>\n"
            ]
          },
          "metadata": {},
          "execution_count": 39
        }
      ],
      "source": [
        "pd.DataFrame(actions[0].detach().numpy()).style.background_gradient()"
      ]
    },
    {
      "cell_type": "code",
      "execution_count": null,
      "metadata": {
        "colab": {
          "base_uri": "https://localhost:8080/"
        },
        "id": "bcPdlwYxpCRk",
        "outputId": "18bb0f97-d6bc-46c2-b38f-189b82448f06"
      },
      "outputs": [
        {
          "output_type": "execute_result",
          "data": {
            "text/plain": [
              "tensor([[0.5379]], grad_fn=<SliceBackward0>)"
            ]
          },
          "metadata": {},
          "execution_count": 40
        }
      ],
      "source": [
        "values = model.critic_forward(s[[0]],actions[[0]],eval=True)\n",
        "values"
      ]
    },
    {
      "cell_type": "code",
      "execution_count": null,
      "metadata": {
        "colab": {
          "base_uri": "https://localhost:8080/"
        },
        "id": "djsvUZ-_pEKL",
        "outputId": "39c3d583-9c75-4d85-b5ef-083b0cae87f5"
      },
      "outputs": [
        {
          "output_type": "stream",
          "name": "stdout",
          "text": [
            "state[[[0.5 0.5 0.5 0.5 0.5 0.5 0.5 0.5 0.5 0.5 0.5 0.5 0.5 0.5 0.5 0.5 0.5\n",
            "   0.5 0.5 0.5 0.5 0.5 0.5 0.5 0.5 0.5 0.5 0.5 0.5 0.5 0.5 0.5 0.5 0.5\n",
            "   0.5]\n",
            "  [0.5 0.5 0.5 0.5 0.5 0.5 0.5 0.5 0.5 0.5 0.5 0.5 0.5 0.5 0.5 0.5 0.5\n",
            "   0.5 0.5 0.5 0.5 0.5 0.5 0.5 0.5 0.5 0.5 0.5 0.5 0.5 0.5 0.5 0.5 0.5\n",
            "   0.5]]]\n",
            "\n",
            "request[[0.]]\n",
            "\n"
          ]
        }
      ],
      "source": [
        "wanna_ouput = 0.0\n",
        "state_setting = 0.5 # min max\n",
        "s = torch.full((1,time_step,state_size),state_setting)\n",
        "r = torch.full((1,request_size),wanna_ouput)\n",
        "a = model.actor_forward(s,r,eval=True)\n",
        "v = model.critic_forward(s,a,eval=True)\n",
        "print(f'state{s.numpy()}\\n')\n",
        "print(f'request{r.numpy()}\\n')"
      ]
    },
    {
      "cell_type": "code",
      "execution_count": null,
      "metadata": {
        "colab": {
          "base_uri": "https://localhost:8080/",
          "height": 112
        },
        "id": "gN-HtkanpFWw",
        "outputId": "a3748c42-aa6a-48b7-a8c5-520a14ed502d"
      },
      "outputs": [
        {
          "output_type": "execute_result",
          "data": {
            "text/plain": [
              "<pandas.io.formats.style.Styler at 0x78a301083f40>"
            ],
            "text/html": [
              "<style type=\"text/css\">\n",
              "#T_b72d4_row0_col0, #T_b72d4_row1_col0 {\n",
              "  background-color: #fff7fb;\n",
              "  color: #000000;\n",
              "}\n",
              "</style>\n",
              "<table id=\"T_b72d4\" class=\"dataframe\">\n",
              "  <thead>\n",
              "    <tr>\n",
              "      <th class=\"blank level0\" >&nbsp;</th>\n",
              "      <th id=\"T_b72d4_level0_col0\" class=\"col_heading level0 col0\" >0</th>\n",
              "    </tr>\n",
              "  </thead>\n",
              "  <tbody>\n",
              "    <tr>\n",
              "      <th id=\"T_b72d4_level0_row0\" class=\"row_heading level0 row0\" >0</th>\n",
              "      <td id=\"T_b72d4_row0_col0\" class=\"data row0 col0\" >0.001460</td>\n",
              "    </tr>\n",
              "    <tr>\n",
              "      <th id=\"T_b72d4_level0_row1\" class=\"row_heading level0 row1\" >1</th>\n",
              "      <td id=\"T_b72d4_row1_col0\" class=\"data row1 col0\" >0.001460</td>\n",
              "    </tr>\n",
              "  </tbody>\n",
              "</table>\n"
            ]
          },
          "metadata": {},
          "execution_count": 42
        }
      ],
      "source": [
        "# 模型建議操作\n",
        "pd.DataFrame(a[0].detach().numpy()).style.background_gradient()"
      ]
    },
    {
      "cell_type": "code",
      "execution_count": null,
      "metadata": {
        "colab": {
          "base_uri": "https://localhost:8080/"
        },
        "id": "FoFv6-0IpHHY",
        "outputId": "18133b56-2397-498d-ce7f-2aff9b748615"
      },
      "outputs": [
        {
          "output_type": "stream",
          "name": "stdout",
          "text": [
            "value:0.42351803183555603\n",
            "\n"
          ]
        }
      ],
      "source": [
        "# 模型預測根據上述操作應當的產出\n",
        "print(f'value:{v.detach().numpy()[0][0]}\\n')"
      ]
    },
    {
      "cell_type": "markdown",
      "metadata": {
        "id": "N0PqGLxoGjnm"
      },
      "source": [
        "# r2 rse mape"
      ]
    },
    {
      "cell_type": "code",
      "execution_count": null,
      "metadata": {
        "colab": {
          "base_uri": "https://localhost:8080/"
        },
        "id": "4sISkpBr3MfH",
        "outputId": "8b58b5ca-1e06-4a1c-947f-f8185b8ade2a"
      },
      "outputs": [
        {
          "output_type": "execute_result",
          "data": {
            "text/plain": [
              "array([[0.49267212],\n",
              "       [0.49684766],\n",
              "       [0.48983732],\n",
              "       ...,\n",
              "       [0.45153314],\n",
              "       [0.45059592],\n",
              "       [0.43952367]], dtype=float32)"
            ]
          },
          "metadata": {},
          "execution_count": 44
        }
      ],
      "source": [
        "s = FloatTensor(data['state'])\n",
        "a = FloatTensor(data['action'])\n",
        "v_hat = model.critic_forward(s,a,eval=True).detach().numpy()\n",
        "v_hat"
      ]
    },
    {
      "cell_type": "code",
      "execution_count": null,
      "metadata": {
        "colab": {
          "base_uri": "https://localhost:8080/"
        },
        "id": "NKSZulZkHWqC",
        "outputId": "6750a261-d389-4e5a-cb26-653cc5bf742f"
      },
      "outputs": [
        {
          "output_type": "execute_result",
          "data": {
            "text/plain": [
              "(0.8691465312951572, 0.050017087463017695, 8.111482477238024)"
            ]
          },
          "metadata": {},
          "execution_count": 45
        }
      ],
      "source": [
        "from sklearn.metrics import r2_score,mean_squared_error\n",
        "def mape(y_true, y_pred):\n",
        "    y_true, y_pred = np.array(y_true), np.array(y_pred)\n",
        "    return np.mean(np.abs((y_true - y_pred) / y_true)) * 100\n",
        "r2 = r2_score(v_hat,data['value'])\n",
        "rmse = np.sqrt(mean_squared_error(v_hat,data['value']))\n",
        "mape = mape(v_hat,data['value'])\n",
        "r2,rmse,mape"
      ]
    },
    {
      "cell_type": "code",
      "execution_count": null,
      "metadata": {
        "colab": {
          "base_uri": "https://localhost:8080/"
        },
        "id": "bp_j_p7BHn7H",
        "outputId": "8014055b-f7fe-4229-efc0-0ae5b6c4f5a4"
      },
      "outputs": [
        {
          "output_type": "execute_result",
          "data": {
            "text/plain": [
              "(-0.7138552094295292, 0.15792949285211969, 28.457975387573242)"
            ]
          },
          "metadata": {},
          "execution_count": 46
        }
      ],
      "source": [
        "s = FloatTensor(test_data['state'])\n",
        "test_data['action'] = test_data['action'].reshape(-1,2,1)\n",
        "a = FloatTensor(test_data['action'])\n",
        "v_hat = model.critic_forward(s,a,eval=True).detach().numpy()\n",
        "r2 = r2_score(v_hat,test_data['value'])\n",
        "rmse = np.sqrt(mean_squared_error(v_hat,test_data['value']))\n",
        "def mape(y_true, y_pred):\n",
        "    return np.mean(np.abs((y_true - y_pred) / y_true)) * 100\n",
        "mape = mape(v_hat,test_data['value'].astype('float32'))\n",
        "r2,rmse,mape"
      ]
    },
    {
      "cell_type": "code",
      "execution_count": null,
      "metadata": {
        "colab": {
          "base_uri": "https://localhost:8080/",
          "height": 81
        },
        "id": "bD8xHWd5NwxW",
        "outputId": "d63d9d2d-2367-4f1a-9d66-f2b024a3fce8"
      },
      "outputs": [
        {
          "output_type": "execute_result",
          "data": {
            "text/plain": [
              "         r2      rmse       mape\n",
              "0 -0.713855  0.157929  28.457975"
            ],
            "text/html": [
              "\n",
              "  <div id=\"df-055c67ec-3df5-48f6-bd16-9ad1fee8d4aa\" class=\"colab-df-container\">\n",
              "    <div>\n",
              "<style scoped>\n",
              "    .dataframe tbody tr th:only-of-type {\n",
              "        vertical-align: middle;\n",
              "    }\n",
              "\n",
              "    .dataframe tbody tr th {\n",
              "        vertical-align: top;\n",
              "    }\n",
              "\n",
              "    .dataframe thead th {\n",
              "        text-align: right;\n",
              "    }\n",
              "</style>\n",
              "<table border=\"1\" class=\"dataframe\">\n",
              "  <thead>\n",
              "    <tr style=\"text-align: right;\">\n",
              "      <th></th>\n",
              "      <th>r2</th>\n",
              "      <th>rmse</th>\n",
              "      <th>mape</th>\n",
              "    </tr>\n",
              "  </thead>\n",
              "  <tbody>\n",
              "    <tr>\n",
              "      <th>0</th>\n",
              "      <td>-0.713855</td>\n",
              "      <td>0.157929</td>\n",
              "      <td>28.457975</td>\n",
              "    </tr>\n",
              "  </tbody>\n",
              "</table>\n",
              "</div>\n",
              "    <div class=\"colab-df-buttons\">\n",
              "\n",
              "  <div class=\"colab-df-container\">\n",
              "    <button class=\"colab-df-convert\" onclick=\"convertToInteractive('df-055c67ec-3df5-48f6-bd16-9ad1fee8d4aa')\"\n",
              "            title=\"Convert this dataframe to an interactive table.\"\n",
              "            style=\"display:none;\">\n",
              "\n",
              "  <svg xmlns=\"http://www.w3.org/2000/svg\" height=\"24px\" viewBox=\"0 -960 960 960\">\n",
              "    <path d=\"M120-120v-720h720v720H120Zm60-500h600v-160H180v160Zm220 220h160v-160H400v160Zm0 220h160v-160H400v160ZM180-400h160v-160H180v160Zm440 0h160v-160H620v160ZM180-180h160v-160H180v160Zm440 0h160v-160H620v160Z\"/>\n",
              "  </svg>\n",
              "    </button>\n",
              "\n",
              "  <style>\n",
              "    .colab-df-container {\n",
              "      display:flex;\n",
              "      gap: 12px;\n",
              "    }\n",
              "\n",
              "    .colab-df-convert {\n",
              "      background-color: #E8F0FE;\n",
              "      border: none;\n",
              "      border-radius: 50%;\n",
              "      cursor: pointer;\n",
              "      display: none;\n",
              "      fill: #1967D2;\n",
              "      height: 32px;\n",
              "      padding: 0 0 0 0;\n",
              "      width: 32px;\n",
              "    }\n",
              "\n",
              "    .colab-df-convert:hover {\n",
              "      background-color: #E2EBFA;\n",
              "      box-shadow: 0px 1px 2px rgba(60, 64, 67, 0.3), 0px 1px 3px 1px rgba(60, 64, 67, 0.15);\n",
              "      fill: #174EA6;\n",
              "    }\n",
              "\n",
              "    .colab-df-buttons div {\n",
              "      margin-bottom: 4px;\n",
              "    }\n",
              "\n",
              "    [theme=dark] .colab-df-convert {\n",
              "      background-color: #3B4455;\n",
              "      fill: #D2E3FC;\n",
              "    }\n",
              "\n",
              "    [theme=dark] .colab-df-convert:hover {\n",
              "      background-color: #434B5C;\n",
              "      box-shadow: 0px 1px 3px 1px rgba(0, 0, 0, 0.15);\n",
              "      filter: drop-shadow(0px 1px 2px rgba(0, 0, 0, 0.3));\n",
              "      fill: #FFFFFF;\n",
              "    }\n",
              "  </style>\n",
              "\n",
              "    <script>\n",
              "      const buttonEl =\n",
              "        document.querySelector('#df-055c67ec-3df5-48f6-bd16-9ad1fee8d4aa button.colab-df-convert');\n",
              "      buttonEl.style.display =\n",
              "        google.colab.kernel.accessAllowed ? 'block' : 'none';\n",
              "\n",
              "      async function convertToInteractive(key) {\n",
              "        const element = document.querySelector('#df-055c67ec-3df5-48f6-bd16-9ad1fee8d4aa');\n",
              "        const dataTable =\n",
              "          await google.colab.kernel.invokeFunction('convertToInteractive',\n",
              "                                                    [key], {});\n",
              "        if (!dataTable) return;\n",
              "\n",
              "        const docLinkHtml = 'Like what you see? Visit the ' +\n",
              "          '<a target=\"_blank\" href=https://colab.research.google.com/notebooks/data_table.ipynb>data table notebook</a>'\n",
              "          + ' to learn more about interactive tables.';\n",
              "        element.innerHTML = '';\n",
              "        dataTable['output_type'] = 'display_data';\n",
              "        await google.colab.output.renderOutput(dataTable, element);\n",
              "        const docLink = document.createElement('div');\n",
              "        docLink.innerHTML = docLinkHtml;\n",
              "        element.appendChild(docLink);\n",
              "      }\n",
              "    </script>\n",
              "  </div>\n",
              "\n",
              "    </div>\n",
              "  </div>\n"
            ]
          },
          "metadata": {},
          "execution_count": 47
        }
      ],
      "source": [
        "result = pd.DataFrame()\n",
        "result['r2'] = [r2]\n",
        "result['rmse'] = [rmse]\n",
        "result['mape'] = [mape]\n",
        "result"
      ]
    },
    {
      "cell_type": "code",
      "execution_count": null,
      "metadata": {
        "id": "gmalqUUgOqB-"
      },
      "outputs": [],
      "source": []
    }
  ],
  "metadata": {
    "colab": {
      "provenance": [],
      "include_colab_link": true
    },
    "kernelspec": {
      "display_name": "Python 3",
      "name": "python3"
    },
    "language_info": {
      "codemirror_mode": {
        "name": "ipython",
        "version": 3
      },
      "file_extension": ".py",
      "mimetype": "text/x-python",
      "name": "python",
      "nbconvert_exporter": "python",
      "pygments_lexer": "ipython3",
      "version": "3.11.5"
    }
  },
  "nbformat": 4,
  "nbformat_minor": 0
}